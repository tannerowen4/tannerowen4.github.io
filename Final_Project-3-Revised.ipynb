{
 "cells": [
  {
   "cell_type": "markdown",
   "id": "e0b7da2d",
   "metadata": {},
   "source": [
    "# Washington District of Columbia Crime Data Analysis\n",
    "\n",
    "Jacob Ramsburg and Tanner Owen"
   ]
  },
  {
   "cell_type": "markdown",
   "id": "05a75719",
   "metadata": {},
   "source": [
    "# Introduction\n",
    "\n",
    "For this tutorial through data science, we decided to analyze crime in the Washington District of Columbia (D.C.). Area for the year 2019. Not too long ago in 1991, Washington D.C. was considered the “murder capital” of the United States along with other record-high crime incidents. However, since then crime has decreased significantly so the purpose of this analysis is to discover the most prevalent crimes and find a correlation between the type of crime and when it occurred. We will also find the best way to map the crime and discover if there are hotspots of crime in D.C. \n",
    "\n",
    "For this project, we will use the data science life cycle. The steps to this process are Data collection, data processing, exploratory analysis & Data visualization, analysis/hypothesis testing, and Machine Learning, Insight & Policy Decision. In this project, we will do the first 4 steps of the data science lifecycle.  "
   ]
  },
  {
   "cell_type": "markdown",
   "id": "fc041777",
   "metadata": {},
   "source": [
    "## A deep explanation of our project of data lifecycle\n",
    "\n",
    "\n",
    "#### Reasources Required for this Project\n",
    "1. numpy - On its website numpy it is described as, “the fundamental package for scientific computing in Python. It is a Python library that provides a multidimensional array object.” It is widely used for being very fast because it uses pre compiled C code.  Learn more at: https://numpy.org/doc/stable/index.html\n",
    "\n",
    "\n",
    "2. pandas - Is an open-source Python library built on top of numpy. We will use the main two data structures which are Series and DataFrame. A Series is a data structure with only one and a DataFrame is a data structure that can have as many columns. Learn more at: https://pandas.pydata.org/docs/user_guide/index.html \n",
    "\n",
    "\n",
    "3. matplotlib - Is a great data visualization tool. Learn the basics at: https://www.geeksforgeeks.org/python-matplotlib-an-overview/ \n",
    "\n",
    "\n",
    "4. seaborn - Seaborn is a great library built on top of matplotlib. Seaborn makes it very simple to plot. Learn the types of plots at: https://seaborn.pydata.org/tutorial.html \n",
    "\n",
    "\n",
    "5. datetime - The main purpose of datetime is to turn strings that are dates into objects that contain variables for the minute, hour, date, etc. It is also really important for graphing dates. Learn more at: https://docs.python.org/3/library/datetime.html \n",
    "\n",
    "\n",
    "6. Violin Plot - Violin plots are great at showing data density over a variable. They show modes, median and quartiles. Learn the basics of violin plots at: https://mode.com/blog/violin-plot-examples/ \n",
    "\n",
    "\n",
    "7. Follium - Folium is used for creating maps and putting data. Learn more at: http://python-visualization.github.io/folium/ \n",
    "\n",
    "\n",
    "8. SKLEARN - This is a simple but powerful machine learning library. In this project, we will use it for regression and clustering. Learn more at: https://scikit-learn.org/stable/ \n"
   ]
  },
  {
   "cell_type": "markdown",
   "id": "95123488",
   "metadata": {},
   "source": [
    "This is all of the imported libraries we will us in the project"
   ]
  },
  {
   "cell_type": "code",
   "execution_count": 1,
   "id": "0477054a",
   "metadata": {},
   "outputs": [],
   "source": [
    "import folium\n",
    "import requests\n",
    "import pandas\n",
    "import numpy as np\n",
    "from matplotlib import pyplot as plt \n",
    "from sklearn.cluster import KMeans\n",
    "import datetime\n",
    "from datetime import date\n",
    "import calendar\n",
    "import warnings\n",
    "import seaborn as sns\n",
    "from sklearn.linear_model import LinearRegression\n",
    "from sklearn.model_selection import train_test_split\n",
    "warnings.filterwarnings('ignore')"
   ]
  },
  {
   "cell_type": "markdown",
   "id": "14a30ae3",
   "metadata": {},
   "source": [
    "# Data Collection \n",
    "\n",
    "We acquired our data from https://opendata.dc.gov/ which is the D.C. government site where they release datasets on various topics. We chose to analyze the crime incidents in 2019, since this was the last year before the COVID-19 Pandemic hit the United States. We were able to collect the data into a readable format as a .csv file, and were then able to analyze it using the pandas’ library read_csv method. This method puts all of the data from the file into a DataFrame and automatically sets up the proper rows and columns. This is the ideal place to collect data because it is a government website, so we know the data is legitimate and it was downloadable as a CSV file and eliminate the need to scrape a website. "
   ]
  },
  {
   "cell_type": "code",
   "execution_count": 2,
   "id": "71f46757",
   "metadata": {},
   "outputs": [
    {
     "data": {
      "text/html": [
       "<div>\n",
       "<style scoped>\n",
       "    .dataframe tbody tr th:only-of-type {\n",
       "        vertical-align: middle;\n",
       "    }\n",
       "\n",
       "    .dataframe tbody tr th {\n",
       "        vertical-align: top;\n",
       "    }\n",
       "\n",
       "    .dataframe thead th {\n",
       "        text-align: right;\n",
       "    }\n",
       "</style>\n",
       "<table border=\"1\" class=\"dataframe\">\n",
       "  <thead>\n",
       "    <tr style=\"text-align: right;\">\n",
       "      <th></th>\n",
       "      <th>X</th>\n",
       "      <th>Y</th>\n",
       "      <th>CCN</th>\n",
       "      <th>REPORT_DAT</th>\n",
       "      <th>SHIFT</th>\n",
       "      <th>METHOD</th>\n",
       "      <th>OFFENSE</th>\n",
       "      <th>BLOCK</th>\n",
       "      <th>XBLOCK</th>\n",
       "      <th>YBLOCK</th>\n",
       "      <th>...</th>\n",
       "      <th>BLOCK_GROUP</th>\n",
       "      <th>CENSUS_TRACT</th>\n",
       "      <th>VOTING_PRECINCT</th>\n",
       "      <th>LATITUDE</th>\n",
       "      <th>LONGITUDE</th>\n",
       "      <th>BID</th>\n",
       "      <th>START_DATE</th>\n",
       "      <th>END_DATE</th>\n",
       "      <th>OBJECTID</th>\n",
       "      <th>OCTO_RECORD_ID</th>\n",
       "    </tr>\n",
       "  </thead>\n",
       "  <tbody>\n",
       "    <tr>\n",
       "      <th>0</th>\n",
       "      <td>-77.029707</td>\n",
       "      <td>38.939217</td>\n",
       "      <td>19081581</td>\n",
       "      <td>2019/05/12 17:07:34+00</td>\n",
       "      <td>DAY</td>\n",
       "      <td>OTHERS</td>\n",
       "      <td>THEFT F/AUTO</td>\n",
       "      <td>3900  - 3999 BLOCK OF 13TH STREET NW</td>\n",
       "      <td>397424.68</td>\n",
       "      <td>141258.25</td>\n",
       "      <td>...</td>\n",
       "      <td>002502 1</td>\n",
       "      <td>2502.0</td>\n",
       "      <td>Precinct 47</td>\n",
       "      <td>38.939209</td>\n",
       "      <td>-77.029705</td>\n",
       "      <td>NaN</td>\n",
       "      <td>2019/05/12 03:00:54+00</td>\n",
       "      <td>2019/05/12 13:30:03+00</td>\n",
       "      <td>83121287</td>\n",
       "      <td>NaN</td>\n",
       "    </tr>\n",
       "    <tr>\n",
       "      <th>1</th>\n",
       "      <td>-77.034603</td>\n",
       "      <td>38.932575</td>\n",
       "      <td>19081589</td>\n",
       "      <td>2019/05/12 16:31:46+00</td>\n",
       "      <td>DAY</td>\n",
       "      <td>OTHERS</td>\n",
       "      <td>THEFT/OTHER</td>\n",
       "      <td>1400 - 1599 BLOCK OF NEWTON STREET NW</td>\n",
       "      <td>396999.96</td>\n",
       "      <td>140521.12</td>\n",
       "      <td>...</td>\n",
       "      <td>002801 1</td>\n",
       "      <td>2801.0</td>\n",
       "      <td>Precinct 41</td>\n",
       "      <td>38.932567</td>\n",
       "      <td>-77.034601</td>\n",
       "      <td>NaN</td>\n",
       "      <td>2019/05/12 15:30:54+00</td>\n",
       "      <td>2019/05/12 16:00:54+00</td>\n",
       "      <td>83121288</td>\n",
       "      <td>NaN</td>\n",
       "    </tr>\n",
       "    <tr>\n",
       "      <th>2</th>\n",
       "      <td>-77.085291</td>\n",
       "      <td>38.959920</td>\n",
       "      <td>19081603</td>\n",
       "      <td>2019/05/12 17:18:34+00</td>\n",
       "      <td>DAY</td>\n",
       "      <td>OTHERS</td>\n",
       "      <td>THEFT/OTHER</td>\n",
       "      <td>5300 - 5399 BLOCK OF WISCONSIN AVENUE NW</td>\n",
       "      <td>392607.98</td>\n",
       "      <td>143559.50</td>\n",
       "      <td>...</td>\n",
       "      <td>001100 2</td>\n",
       "      <td>1100.0</td>\n",
       "      <td>Precinct 32</td>\n",
       "      <td>38.959912</td>\n",
       "      <td>-77.085288</td>\n",
       "      <td>NaN</td>\n",
       "      <td>2019/05/12 16:12:47+00</td>\n",
       "      <td>NaN</td>\n",
       "      <td>83121289</td>\n",
       "      <td>NaN</td>\n",
       "    </tr>\n",
       "    <tr>\n",
       "      <th>3</th>\n",
       "      <td>-77.026511</td>\n",
       "      <td>38.897356</td>\n",
       "      <td>19081606</td>\n",
       "      <td>2019/05/12 17:39:46+00</td>\n",
       "      <td>DAY</td>\n",
       "      <td>OTHERS</td>\n",
       "      <td>THEFT/OTHER</td>\n",
       "      <td>1000 - 1099 BLOCK OF F STREET NW</td>\n",
       "      <td>397700.46</td>\n",
       "      <td>136611.23</td>\n",
       "      <td>...</td>\n",
       "      <td>005800 1</td>\n",
       "      <td>5800.0</td>\n",
       "      <td>Precinct 129</td>\n",
       "      <td>38.897348</td>\n",
       "      <td>-77.026509</td>\n",
       "      <td>DOWNTOWN</td>\n",
       "      <td>2019/05/12 17:07:36+00</td>\n",
       "      <td>NaN</td>\n",
       "      <td>83121290</td>\n",
       "      <td>NaN</td>\n",
       "    </tr>\n",
       "    <tr>\n",
       "      <th>4</th>\n",
       "      <td>-77.028233</td>\n",
       "      <td>38.957823</td>\n",
       "      <td>19081612</td>\n",
       "      <td>2019/05/12 18:26:51+00</td>\n",
       "      <td>DAY</td>\n",
       "      <td>OTHERS</td>\n",
       "      <td>BURGLARY</td>\n",
       "      <td>5600  - 5699 BLOCK OF GEORGIA AVENUE NW</td>\n",
       "      <td>397553.15</td>\n",
       "      <td>143323.63</td>\n",
       "      <td>...</td>\n",
       "      <td>002002 2</td>\n",
       "      <td>2002.0</td>\n",
       "      <td>Precinct 54</td>\n",
       "      <td>38.957815</td>\n",
       "      <td>-77.028231</td>\n",
       "      <td>NaN</td>\n",
       "      <td>2019/05/12 17:06:59+00</td>\n",
       "      <td>2019/05/12 18:00:07+00</td>\n",
       "      <td>83121291</td>\n",
       "      <td>NaN</td>\n",
       "    </tr>\n",
       "  </tbody>\n",
       "</table>\n",
       "<p>5 rows × 25 columns</p>\n",
       "</div>"
      ],
      "text/plain": [
       "           X          Y       CCN              REPORT_DAT SHIFT  METHOD  \\\n",
       "0 -77.029707  38.939217  19081581  2019/05/12 17:07:34+00   DAY  OTHERS   \n",
       "1 -77.034603  38.932575  19081589  2019/05/12 16:31:46+00   DAY  OTHERS   \n",
       "2 -77.085291  38.959920  19081603  2019/05/12 17:18:34+00   DAY  OTHERS   \n",
       "3 -77.026511  38.897356  19081606  2019/05/12 17:39:46+00   DAY  OTHERS   \n",
       "4 -77.028233  38.957823  19081612  2019/05/12 18:26:51+00   DAY  OTHERS   \n",
       "\n",
       "        OFFENSE                                     BLOCK     XBLOCK  \\\n",
       "0  THEFT F/AUTO      3900  - 3999 BLOCK OF 13TH STREET NW  397424.68   \n",
       "1   THEFT/OTHER     1400 - 1599 BLOCK OF NEWTON STREET NW  396999.96   \n",
       "2   THEFT/OTHER  5300 - 5399 BLOCK OF WISCONSIN AVENUE NW  392607.98   \n",
       "3   THEFT/OTHER          1000 - 1099 BLOCK OF F STREET NW  397700.46   \n",
       "4      BURGLARY   5600  - 5699 BLOCK OF GEORGIA AVENUE NW  397553.15   \n",
       "\n",
       "      YBLOCK  ...  BLOCK_GROUP CENSUS_TRACT  VOTING_PRECINCT   LATITUDE  \\\n",
       "0  141258.25  ...     002502 1       2502.0      Precinct 47  38.939209   \n",
       "1  140521.12  ...     002801 1       2801.0      Precinct 41  38.932567   \n",
       "2  143559.50  ...     001100 2       1100.0      Precinct 32  38.959912   \n",
       "3  136611.23  ...     005800 1       5800.0     Precinct 129  38.897348   \n",
       "4  143323.63  ...     002002 2       2002.0      Precinct 54  38.957815   \n",
       "\n",
       "   LONGITUDE       BID              START_DATE                END_DATE  \\\n",
       "0 -77.029705       NaN  2019/05/12 03:00:54+00  2019/05/12 13:30:03+00   \n",
       "1 -77.034601       NaN  2019/05/12 15:30:54+00  2019/05/12 16:00:54+00   \n",
       "2 -77.085288       NaN  2019/05/12 16:12:47+00                     NaN   \n",
       "3 -77.026509  DOWNTOWN  2019/05/12 17:07:36+00                     NaN   \n",
       "4 -77.028231       NaN  2019/05/12 17:06:59+00  2019/05/12 18:00:07+00   \n",
       "\n",
       "   OBJECTID  OCTO_RECORD_ID  \n",
       "0  83121287             NaN  \n",
       "1  83121288             NaN  \n",
       "2  83121289             NaN  \n",
       "3  83121290             NaN  \n",
       "4  83121291             NaN  \n",
       "\n",
       "[5 rows x 25 columns]"
      ]
     },
     "execution_count": 2,
     "metadata": {},
     "output_type": "execute_result"
    }
   ],
   "source": [
    "# Creating the dataframe that we'll use throughout this project\n",
    "crime_data = pandas.read_csv(\"Crime_Incidents_in_2019.csv\")\n",
    "crime_data.head(5)"
   ]
  },
  {
   "cell_type": "markdown",
   "id": "ce4b71f4",
   "metadata": {},
   "source": [
    "# Data Processing\n",
    "\n",
    "We began our data processing by converting the data from the DataFrame into columns that we would focus on in our analysis. For example, we created a single column, called CORDS, for both latitude and longitude (X, Y in the original dataset). We also drop columns we will not utilize in this project to make the DataFrame clean and display only the information we require for our analysis. "
   ]
  },
  {
   "cell_type": "code",
   "execution_count": 3,
   "id": "44c31137",
   "metadata": {
    "scrolled": false
   },
   "outputs": [
    {
     "data": {
      "text/html": [
       "<div>\n",
       "<style scoped>\n",
       "    .dataframe tbody tr th:only-of-type {\n",
       "        vertical-align: middle;\n",
       "    }\n",
       "\n",
       "    .dataframe tbody tr th {\n",
       "        vertical-align: top;\n",
       "    }\n",
       "\n",
       "    .dataframe thead th {\n",
       "        text-align: right;\n",
       "    }\n",
       "</style>\n",
       "<table border=\"1\" class=\"dataframe\">\n",
       "  <thead>\n",
       "    <tr style=\"text-align: right;\">\n",
       "      <th></th>\n",
       "      <th>METHOD</th>\n",
       "      <th>OFFENSE</th>\n",
       "      <th>LATITUDE</th>\n",
       "      <th>LONGITUDE</th>\n",
       "      <th>START_DATE</th>\n",
       "      <th>END_DATE</th>\n",
       "      <th>CORDS</th>\n",
       "      <th>time</th>\n",
       "    </tr>\n",
       "  </thead>\n",
       "  <tbody>\n",
       "    <tr>\n",
       "      <th>0</th>\n",
       "      <td>OTHERS</td>\n",
       "      <td>THEFT F/AUTO</td>\n",
       "      <td>38.939209</td>\n",
       "      <td>-77.029705</td>\n",
       "      <td>2019/05/12 03:00:54+00</td>\n",
       "      <td>2019/05/12 13:30:03+00</td>\n",
       "      <td>[38.9392090053, -77.0297051135]</td>\n",
       "      <td>3</td>\n",
       "    </tr>\n",
       "    <tr>\n",
       "      <th>1</th>\n",
       "      <td>OTHERS</td>\n",
       "      <td>THEFT/OTHER</td>\n",
       "      <td>38.932567</td>\n",
       "      <td>-77.034601</td>\n",
       "      <td>2019/05/12 15:30:54+00</td>\n",
       "      <td>2019/05/12 16:00:54+00</td>\n",
       "      <td>[38.9325673709, -77.0346008373]</td>\n",
       "      <td>15</td>\n",
       "    </tr>\n",
       "    <tr>\n",
       "      <th>2</th>\n",
       "      <td>OTHERS</td>\n",
       "      <td>THEFT/OTHER</td>\n",
       "      <td>38.959912</td>\n",
       "      <td>-77.085288</td>\n",
       "      <td>2019/05/12 16:12:47+00</td>\n",
       "      <td>NaN</td>\n",
       "      <td>[38.9599119666, -77.085288276]</td>\n",
       "      <td>16</td>\n",
       "    </tr>\n",
       "    <tr>\n",
       "      <th>3</th>\n",
       "      <td>OTHERS</td>\n",
       "      <td>THEFT/OTHER</td>\n",
       "      <td>38.897348</td>\n",
       "      <td>-77.026509</td>\n",
       "      <td>2019/05/12 17:07:36+00</td>\n",
       "      <td>NaN</td>\n",
       "      <td>[38.8973478904, -77.0265085554]</td>\n",
       "      <td>17</td>\n",
       "    </tr>\n",
       "    <tr>\n",
       "      <th>4</th>\n",
       "      <td>OTHERS</td>\n",
       "      <td>BURGLARY</td>\n",
       "      <td>38.957815</td>\n",
       "      <td>-77.028231</td>\n",
       "      <td>2019/05/12 17:06:59+00</td>\n",
       "      <td>2019/05/12 18:00:07+00</td>\n",
       "      <td>[38.9578148866, -77.0282306394]</td>\n",
       "      <td>17</td>\n",
       "    </tr>\n",
       "    <tr>\n",
       "      <th>...</th>\n",
       "      <td>...</td>\n",
       "      <td>...</td>\n",
       "      <td>...</td>\n",
       "      <td>...</td>\n",
       "      <td>...</td>\n",
       "      <td>...</td>\n",
       "      <td>...</td>\n",
       "      <td>...</td>\n",
       "    </tr>\n",
       "    <tr>\n",
       "      <th>33911</th>\n",
       "      <td>OTHERS</td>\n",
       "      <td>THEFT F/AUTO</td>\n",
       "      <td>38.940274</td>\n",
       "      <td>-77.032729</td>\n",
       "      <td>2019/07/20 18:00:29+00</td>\n",
       "      <td>2019/07/23 18:47:29+00</td>\n",
       "      <td>[38.9402738789, -77.0327286883]</td>\n",
       "      <td>18</td>\n",
       "    </tr>\n",
       "    <tr>\n",
       "      <th>33912</th>\n",
       "      <td>OTHERS</td>\n",
       "      <td>THEFT/OTHER</td>\n",
       "      <td>38.880276</td>\n",
       "      <td>-76.994977</td>\n",
       "      <td>2019/07/22 05:54:56+00</td>\n",
       "      <td>2019/07/22 05:55:18+00</td>\n",
       "      <td>[38.880275773, -76.9949765956]</td>\n",
       "      <td>5</td>\n",
       "    </tr>\n",
       "    <tr>\n",
       "      <th>33913</th>\n",
       "      <td>OTHERS</td>\n",
       "      <td>THEFT F/AUTO</td>\n",
       "      <td>38.925815</td>\n",
       "      <td>-77.100822</td>\n",
       "      <td>2019/07/23 16:30:33+00</td>\n",
       "      <td>2019/07/23 17:25:54+00</td>\n",
       "      <td>[38.9258152896, -77.1008215022]</td>\n",
       "      <td>16</td>\n",
       "    </tr>\n",
       "    <tr>\n",
       "      <th>33914</th>\n",
       "      <td>OTHERS</td>\n",
       "      <td>THEFT/OTHER</td>\n",
       "      <td>38.948792</td>\n",
       "      <td>-77.078746</td>\n",
       "      <td>2019/07/23 18:05:57+00</td>\n",
       "      <td>2019/07/23 19:10:12+00</td>\n",
       "      <td>[38.9487916125, -77.0787458915]</td>\n",
       "      <td>18</td>\n",
       "    </tr>\n",
       "    <tr>\n",
       "      <th>33915</th>\n",
       "      <td>OTHERS</td>\n",
       "      <td>THEFT F/AUTO</td>\n",
       "      <td>38.927478</td>\n",
       "      <td>-77.024517</td>\n",
       "      <td>2019/07/23 18:00:26+00</td>\n",
       "      <td>2019/07/23 19:45:14+00</td>\n",
       "      <td>[38.9274781547, -77.0245165376]</td>\n",
       "      <td>18</td>\n",
       "    </tr>\n",
       "  </tbody>\n",
       "</table>\n",
       "<p>33916 rows × 8 columns</p>\n",
       "</div>"
      ],
      "text/plain": [
       "       METHOD       OFFENSE   LATITUDE  LONGITUDE              START_DATE  \\\n",
       "0      OTHERS  THEFT F/AUTO  38.939209 -77.029705  2019/05/12 03:00:54+00   \n",
       "1      OTHERS   THEFT/OTHER  38.932567 -77.034601  2019/05/12 15:30:54+00   \n",
       "2      OTHERS   THEFT/OTHER  38.959912 -77.085288  2019/05/12 16:12:47+00   \n",
       "3      OTHERS   THEFT/OTHER  38.897348 -77.026509  2019/05/12 17:07:36+00   \n",
       "4      OTHERS      BURGLARY  38.957815 -77.028231  2019/05/12 17:06:59+00   \n",
       "...       ...           ...        ...        ...                     ...   \n",
       "33911  OTHERS  THEFT F/AUTO  38.940274 -77.032729  2019/07/20 18:00:29+00   \n",
       "33912  OTHERS   THEFT/OTHER  38.880276 -76.994977  2019/07/22 05:54:56+00   \n",
       "33913  OTHERS  THEFT F/AUTO  38.925815 -77.100822  2019/07/23 16:30:33+00   \n",
       "33914  OTHERS   THEFT/OTHER  38.948792 -77.078746  2019/07/23 18:05:57+00   \n",
       "33915  OTHERS  THEFT F/AUTO  38.927478 -77.024517  2019/07/23 18:00:26+00   \n",
       "\n",
       "                     END_DATE                            CORDS  time  \n",
       "0      2019/05/12 13:30:03+00  [38.9392090053, -77.0297051135]     3  \n",
       "1      2019/05/12 16:00:54+00  [38.9325673709, -77.0346008373]    15  \n",
       "2                         NaN   [38.9599119666, -77.085288276]    16  \n",
       "3                         NaN  [38.8973478904, -77.0265085554]    17  \n",
       "4      2019/05/12 18:00:07+00  [38.9578148866, -77.0282306394]    17  \n",
       "...                       ...                              ...   ...  \n",
       "33911  2019/07/23 18:47:29+00  [38.9402738789, -77.0327286883]    18  \n",
       "33912  2019/07/22 05:55:18+00   [38.880275773, -76.9949765956]     5  \n",
       "33913  2019/07/23 17:25:54+00  [38.9258152896, -77.1008215022]    16  \n",
       "33914  2019/07/23 19:10:12+00  [38.9487916125, -77.0787458915]    18  \n",
       "33915  2019/07/23 19:45:14+00  [38.9274781547, -77.0245165376]    18  \n",
       "\n",
       "[33916 rows x 8 columns]"
      ]
     },
     "execution_count": 3,
     "metadata": {},
     "output_type": "execute_result"
    }
   ],
   "source": [
    "# Create a numpy array of lists with indexes 0=LATITUDE, 1=LONGITUDE\n",
    "cords = np.array(crime_data[['LATITUDE','LONGITUDE']]) \n",
    "crime_data['CORDS'] = cords.tolist()\n",
    "crime_data['time'] = pandas.to_datetime(crime_data['START_DATE'],format= '%H:%M',exact=False).dt.hour\n",
    "crime_data = crime_data.drop(columns=['VOTING_PRECINCT','BID','OBJECTID','OCTO_RECORD_ID',\n",
    "                                      'CCN','X','Y','REPORT_DAT','SHIFT','BLOCK','XBLOCK',\n",
    "                                      'YBLOCK','WARD','ANC','DISTRICT','PSA',\n",
    "                                      'NEIGHBORHOOD_CLUSTER','BLOCK_GROUP','CENSUS_TRACT'])\n",
    "crime_data"
   ]
  },
  {
   "cell_type": "markdown",
   "id": "90c84f34",
   "metadata": {},
   "source": [
    "Next, we added columns to separate the date and time of the event. This includes adding the hour that the crime occurred on, the day, month, day of the year, and weekday. We utilized the pandas datetime library to do this. By using Timestamp on the START_DATE column we were able to determine the actual weekday (Sunday, Monday, Tuesday, …) that the crime occurred on."
   ]
  },
  {
   "cell_type": "code",
   "execution_count": 4,
   "id": "d10a4d0a",
   "metadata": {},
   "outputs": [
    {
     "data": {
      "text/html": [
       "<div>\n",
       "<style scoped>\n",
       "    .dataframe tbody tr th:only-of-type {\n",
       "        vertical-align: middle;\n",
       "    }\n",
       "\n",
       "    .dataframe tbody tr th {\n",
       "        vertical-align: top;\n",
       "    }\n",
       "\n",
       "    .dataframe thead th {\n",
       "        text-align: right;\n",
       "    }\n",
       "</style>\n",
       "<table border=\"1\" class=\"dataframe\">\n",
       "  <thead>\n",
       "    <tr style=\"text-align: right;\">\n",
       "      <th></th>\n",
       "      <th>METHOD</th>\n",
       "      <th>OFFENSE</th>\n",
       "      <th>LATITUDE</th>\n",
       "      <th>LONGITUDE</th>\n",
       "      <th>START_DATE</th>\n",
       "      <th>END_DATE</th>\n",
       "      <th>CORDS</th>\n",
       "      <th>time</th>\n",
       "      <th>day</th>\n",
       "      <th>month</th>\n",
       "      <th>day_of_year</th>\n",
       "      <th>weekday</th>\n",
       "    </tr>\n",
       "  </thead>\n",
       "  <tbody>\n",
       "    <tr>\n",
       "      <th>0</th>\n",
       "      <td>OTHERS</td>\n",
       "      <td>THEFT F/AUTO</td>\n",
       "      <td>38.939209</td>\n",
       "      <td>-77.029705</td>\n",
       "      <td>2019/05/12 03:00:54+00</td>\n",
       "      <td>2019/05/12 13:30:03+00</td>\n",
       "      <td>[38.9392090053, -77.0297051135]</td>\n",
       "      <td>3</td>\n",
       "      <td>12</td>\n",
       "      <td>5</td>\n",
       "      <td>132</td>\n",
       "      <td>Sunday</td>\n",
       "    </tr>\n",
       "    <tr>\n",
       "      <th>1</th>\n",
       "      <td>OTHERS</td>\n",
       "      <td>THEFT/OTHER</td>\n",
       "      <td>38.932567</td>\n",
       "      <td>-77.034601</td>\n",
       "      <td>2019/05/12 15:30:54+00</td>\n",
       "      <td>2019/05/12 16:00:54+00</td>\n",
       "      <td>[38.9325673709, -77.0346008373]</td>\n",
       "      <td>15</td>\n",
       "      <td>12</td>\n",
       "      <td>5</td>\n",
       "      <td>132</td>\n",
       "      <td>Sunday</td>\n",
       "    </tr>\n",
       "    <tr>\n",
       "      <th>2</th>\n",
       "      <td>OTHERS</td>\n",
       "      <td>THEFT/OTHER</td>\n",
       "      <td>38.959912</td>\n",
       "      <td>-77.085288</td>\n",
       "      <td>2019/05/12 16:12:47+00</td>\n",
       "      <td>NaN</td>\n",
       "      <td>[38.9599119666, -77.085288276]</td>\n",
       "      <td>16</td>\n",
       "      <td>12</td>\n",
       "      <td>5</td>\n",
       "      <td>132</td>\n",
       "      <td>Sunday</td>\n",
       "    </tr>\n",
       "    <tr>\n",
       "      <th>3</th>\n",
       "      <td>OTHERS</td>\n",
       "      <td>THEFT/OTHER</td>\n",
       "      <td>38.897348</td>\n",
       "      <td>-77.026509</td>\n",
       "      <td>2019/05/12 17:07:36+00</td>\n",
       "      <td>NaN</td>\n",
       "      <td>[38.8973478904, -77.0265085554]</td>\n",
       "      <td>17</td>\n",
       "      <td>12</td>\n",
       "      <td>5</td>\n",
       "      <td>132</td>\n",
       "      <td>Sunday</td>\n",
       "    </tr>\n",
       "    <tr>\n",
       "      <th>4</th>\n",
       "      <td>OTHERS</td>\n",
       "      <td>BURGLARY</td>\n",
       "      <td>38.957815</td>\n",
       "      <td>-77.028231</td>\n",
       "      <td>2019/05/12 17:06:59+00</td>\n",
       "      <td>2019/05/12 18:00:07+00</td>\n",
       "      <td>[38.9578148866, -77.0282306394]</td>\n",
       "      <td>17</td>\n",
       "      <td>12</td>\n",
       "      <td>5</td>\n",
       "      <td>132</td>\n",
       "      <td>Sunday</td>\n",
       "    </tr>\n",
       "    <tr>\n",
       "      <th>...</th>\n",
       "      <td>...</td>\n",
       "      <td>...</td>\n",
       "      <td>...</td>\n",
       "      <td>...</td>\n",
       "      <td>...</td>\n",
       "      <td>...</td>\n",
       "      <td>...</td>\n",
       "      <td>...</td>\n",
       "      <td>...</td>\n",
       "      <td>...</td>\n",
       "      <td>...</td>\n",
       "      <td>...</td>\n",
       "    </tr>\n",
       "    <tr>\n",
       "      <th>33911</th>\n",
       "      <td>OTHERS</td>\n",
       "      <td>THEFT F/AUTO</td>\n",
       "      <td>38.940274</td>\n",
       "      <td>-77.032729</td>\n",
       "      <td>2019/07/20 18:00:29+00</td>\n",
       "      <td>2019/07/23 18:47:29+00</td>\n",
       "      <td>[38.9402738789, -77.0327286883]</td>\n",
       "      <td>18</td>\n",
       "      <td>20</td>\n",
       "      <td>7</td>\n",
       "      <td>201</td>\n",
       "      <td>Saturday</td>\n",
       "    </tr>\n",
       "    <tr>\n",
       "      <th>33912</th>\n",
       "      <td>OTHERS</td>\n",
       "      <td>THEFT/OTHER</td>\n",
       "      <td>38.880276</td>\n",
       "      <td>-76.994977</td>\n",
       "      <td>2019/07/22 05:54:56+00</td>\n",
       "      <td>2019/07/22 05:55:18+00</td>\n",
       "      <td>[38.880275773, -76.9949765956]</td>\n",
       "      <td>5</td>\n",
       "      <td>22</td>\n",
       "      <td>7</td>\n",
       "      <td>203</td>\n",
       "      <td>Monday</td>\n",
       "    </tr>\n",
       "    <tr>\n",
       "      <th>33913</th>\n",
       "      <td>OTHERS</td>\n",
       "      <td>THEFT F/AUTO</td>\n",
       "      <td>38.925815</td>\n",
       "      <td>-77.100822</td>\n",
       "      <td>2019/07/23 16:30:33+00</td>\n",
       "      <td>2019/07/23 17:25:54+00</td>\n",
       "      <td>[38.9258152896, -77.1008215022]</td>\n",
       "      <td>16</td>\n",
       "      <td>23</td>\n",
       "      <td>7</td>\n",
       "      <td>204</td>\n",
       "      <td>Tuesday</td>\n",
       "    </tr>\n",
       "    <tr>\n",
       "      <th>33914</th>\n",
       "      <td>OTHERS</td>\n",
       "      <td>THEFT/OTHER</td>\n",
       "      <td>38.948792</td>\n",
       "      <td>-77.078746</td>\n",
       "      <td>2019/07/23 18:05:57+00</td>\n",
       "      <td>2019/07/23 19:10:12+00</td>\n",
       "      <td>[38.9487916125, -77.0787458915]</td>\n",
       "      <td>18</td>\n",
       "      <td>23</td>\n",
       "      <td>7</td>\n",
       "      <td>204</td>\n",
       "      <td>Tuesday</td>\n",
       "    </tr>\n",
       "    <tr>\n",
       "      <th>33915</th>\n",
       "      <td>OTHERS</td>\n",
       "      <td>THEFT F/AUTO</td>\n",
       "      <td>38.927478</td>\n",
       "      <td>-77.024517</td>\n",
       "      <td>2019/07/23 18:00:26+00</td>\n",
       "      <td>2019/07/23 19:45:14+00</td>\n",
       "      <td>[38.9274781547, -77.0245165376]</td>\n",
       "      <td>18</td>\n",
       "      <td>23</td>\n",
       "      <td>7</td>\n",
       "      <td>204</td>\n",
       "      <td>Tuesday</td>\n",
       "    </tr>\n",
       "  </tbody>\n",
       "</table>\n",
       "<p>33916 rows × 12 columns</p>\n",
       "</div>"
      ],
      "text/plain": [
       "       METHOD       OFFENSE   LATITUDE  LONGITUDE              START_DATE  \\\n",
       "0      OTHERS  THEFT F/AUTO  38.939209 -77.029705  2019/05/12 03:00:54+00   \n",
       "1      OTHERS   THEFT/OTHER  38.932567 -77.034601  2019/05/12 15:30:54+00   \n",
       "2      OTHERS   THEFT/OTHER  38.959912 -77.085288  2019/05/12 16:12:47+00   \n",
       "3      OTHERS   THEFT/OTHER  38.897348 -77.026509  2019/05/12 17:07:36+00   \n",
       "4      OTHERS      BURGLARY  38.957815 -77.028231  2019/05/12 17:06:59+00   \n",
       "...       ...           ...        ...        ...                     ...   \n",
       "33911  OTHERS  THEFT F/AUTO  38.940274 -77.032729  2019/07/20 18:00:29+00   \n",
       "33912  OTHERS   THEFT/OTHER  38.880276 -76.994977  2019/07/22 05:54:56+00   \n",
       "33913  OTHERS  THEFT F/AUTO  38.925815 -77.100822  2019/07/23 16:30:33+00   \n",
       "33914  OTHERS   THEFT/OTHER  38.948792 -77.078746  2019/07/23 18:05:57+00   \n",
       "33915  OTHERS  THEFT F/AUTO  38.927478 -77.024517  2019/07/23 18:00:26+00   \n",
       "\n",
       "                     END_DATE                            CORDS  time  day  \\\n",
       "0      2019/05/12 13:30:03+00  [38.9392090053, -77.0297051135]     3   12   \n",
       "1      2019/05/12 16:00:54+00  [38.9325673709, -77.0346008373]    15   12   \n",
       "2                         NaN   [38.9599119666, -77.085288276]    16   12   \n",
       "3                         NaN  [38.8973478904, -77.0265085554]    17   12   \n",
       "4      2019/05/12 18:00:07+00  [38.9578148866, -77.0282306394]    17   12   \n",
       "...                       ...                              ...   ...  ...   \n",
       "33911  2019/07/23 18:47:29+00  [38.9402738789, -77.0327286883]    18   20   \n",
       "33912  2019/07/22 05:55:18+00   [38.880275773, -76.9949765956]     5   22   \n",
       "33913  2019/07/23 17:25:54+00  [38.9258152896, -77.1008215022]    16   23   \n",
       "33914  2019/07/23 19:10:12+00  [38.9487916125, -77.0787458915]    18   23   \n",
       "33915  2019/07/23 19:45:14+00  [38.9274781547, -77.0245165376]    18   23   \n",
       "\n",
       "       month  day_of_year   weekday  \n",
       "0          5          132    Sunday  \n",
       "1          5          132    Sunday  \n",
       "2          5          132    Sunday  \n",
       "3          5          132    Sunday  \n",
       "4          5          132    Sunday  \n",
       "...      ...          ...       ...  \n",
       "33911      7          201  Saturday  \n",
       "33912      7          203    Monday  \n",
       "33913      7          204   Tuesday  \n",
       "33914      7          204   Tuesday  \n",
       "33915      7          204   Tuesday  \n",
       "\n",
       "[33916 rows x 12 columns]"
      ]
     },
     "execution_count": 4,
     "metadata": {},
     "output_type": "execute_result"
    }
   ],
   "source": [
    "# Creation of day and month columns\n",
    "crime_data['day'] = pandas.to_datetime(crime_data['START_DATE'],exact=False).dt.day\n",
    "crime_data['month'] = pandas.to_datetime(crime_data['START_DATE'],exact=False).dt.month\n",
    "\n",
    "days_before_each_month = [0,31,59,90,120,151,181,212,243,273,304,334]\n",
    "\n",
    "# This method finds the day (1-365) the crime occurred on\n",
    "def find_day_of_year(row):\n",
    "    month = row['month']\n",
    "    day = row['day']\n",
    "    return days_before_each_month[month-1] + day\n",
    "\n",
    "crime_data['day_of_year'] = crime_data.apply(lambda row: find_day_of_year(row), axis=1)\n",
    "\n",
    "# Create a column of the weekday (Sunday, Monday, Tuesday, ...)\n",
    "crime_data['weekday'] = crime_data.apply(lambda row: pandas.Timestamp(row['START_DATE']).day_name(), axis=1)\n",
    "crime_data"
   ]
  },
  {
   "cell_type": "markdown",
   "id": "7d64c667",
   "metadata": {},
   "source": [
    "We then added a column for which season the crime occurred in: Winter, Spring, Summer, Fall."
   ]
  },
  {
   "cell_type": "code",
   "execution_count": 5,
   "id": "2b07f55c",
   "metadata": {},
   "outputs": [
    {
     "data": {
      "text/html": [
       "<div>\n",
       "<style scoped>\n",
       "    .dataframe tbody tr th:only-of-type {\n",
       "        vertical-align: middle;\n",
       "    }\n",
       "\n",
       "    .dataframe tbody tr th {\n",
       "        vertical-align: top;\n",
       "    }\n",
       "\n",
       "    .dataframe thead th {\n",
       "        text-align: right;\n",
       "    }\n",
       "</style>\n",
       "<table border=\"1\" class=\"dataframe\">\n",
       "  <thead>\n",
       "    <tr style=\"text-align: right;\">\n",
       "      <th></th>\n",
       "      <th>METHOD</th>\n",
       "      <th>OFFENSE</th>\n",
       "      <th>LATITUDE</th>\n",
       "      <th>LONGITUDE</th>\n",
       "      <th>START_DATE</th>\n",
       "      <th>END_DATE</th>\n",
       "      <th>CORDS</th>\n",
       "      <th>time</th>\n",
       "      <th>day</th>\n",
       "      <th>month</th>\n",
       "      <th>day_of_year</th>\n",
       "      <th>weekday</th>\n",
       "      <th>season</th>\n",
       "    </tr>\n",
       "  </thead>\n",
       "  <tbody>\n",
       "    <tr>\n",
       "      <th>0</th>\n",
       "      <td>OTHERS</td>\n",
       "      <td>THEFT F/AUTO</td>\n",
       "      <td>38.939209</td>\n",
       "      <td>-77.029705</td>\n",
       "      <td>2019/05/12 03:00:54+00</td>\n",
       "      <td>2019/05/12 13:30:03+00</td>\n",
       "      <td>[38.9392090053, -77.0297051135]</td>\n",
       "      <td>3</td>\n",
       "      <td>12</td>\n",
       "      <td>5</td>\n",
       "      <td>132</td>\n",
       "      <td>Sunday</td>\n",
       "      <td>Spring</td>\n",
       "    </tr>\n",
       "    <tr>\n",
       "      <th>1</th>\n",
       "      <td>OTHERS</td>\n",
       "      <td>THEFT/OTHER</td>\n",
       "      <td>38.932567</td>\n",
       "      <td>-77.034601</td>\n",
       "      <td>2019/05/12 15:30:54+00</td>\n",
       "      <td>2019/05/12 16:00:54+00</td>\n",
       "      <td>[38.9325673709, -77.0346008373]</td>\n",
       "      <td>15</td>\n",
       "      <td>12</td>\n",
       "      <td>5</td>\n",
       "      <td>132</td>\n",
       "      <td>Sunday</td>\n",
       "      <td>Spring</td>\n",
       "    </tr>\n",
       "    <tr>\n",
       "      <th>2</th>\n",
       "      <td>OTHERS</td>\n",
       "      <td>THEFT/OTHER</td>\n",
       "      <td>38.959912</td>\n",
       "      <td>-77.085288</td>\n",
       "      <td>2019/05/12 16:12:47+00</td>\n",
       "      <td>NaN</td>\n",
       "      <td>[38.9599119666, -77.085288276]</td>\n",
       "      <td>16</td>\n",
       "      <td>12</td>\n",
       "      <td>5</td>\n",
       "      <td>132</td>\n",
       "      <td>Sunday</td>\n",
       "      <td>Spring</td>\n",
       "    </tr>\n",
       "    <tr>\n",
       "      <th>3</th>\n",
       "      <td>OTHERS</td>\n",
       "      <td>THEFT/OTHER</td>\n",
       "      <td>38.897348</td>\n",
       "      <td>-77.026509</td>\n",
       "      <td>2019/05/12 17:07:36+00</td>\n",
       "      <td>NaN</td>\n",
       "      <td>[38.8973478904, -77.0265085554]</td>\n",
       "      <td>17</td>\n",
       "      <td>12</td>\n",
       "      <td>5</td>\n",
       "      <td>132</td>\n",
       "      <td>Sunday</td>\n",
       "      <td>Spring</td>\n",
       "    </tr>\n",
       "    <tr>\n",
       "      <th>4</th>\n",
       "      <td>OTHERS</td>\n",
       "      <td>BURGLARY</td>\n",
       "      <td>38.957815</td>\n",
       "      <td>-77.028231</td>\n",
       "      <td>2019/05/12 17:06:59+00</td>\n",
       "      <td>2019/05/12 18:00:07+00</td>\n",
       "      <td>[38.9578148866, -77.0282306394]</td>\n",
       "      <td>17</td>\n",
       "      <td>12</td>\n",
       "      <td>5</td>\n",
       "      <td>132</td>\n",
       "      <td>Sunday</td>\n",
       "      <td>Spring</td>\n",
       "    </tr>\n",
       "    <tr>\n",
       "      <th>...</th>\n",
       "      <td>...</td>\n",
       "      <td>...</td>\n",
       "      <td>...</td>\n",
       "      <td>...</td>\n",
       "      <td>...</td>\n",
       "      <td>...</td>\n",
       "      <td>...</td>\n",
       "      <td>...</td>\n",
       "      <td>...</td>\n",
       "      <td>...</td>\n",
       "      <td>...</td>\n",
       "      <td>...</td>\n",
       "      <td>...</td>\n",
       "    </tr>\n",
       "    <tr>\n",
       "      <th>33911</th>\n",
       "      <td>OTHERS</td>\n",
       "      <td>THEFT F/AUTO</td>\n",
       "      <td>38.940274</td>\n",
       "      <td>-77.032729</td>\n",
       "      <td>2019/07/20 18:00:29+00</td>\n",
       "      <td>2019/07/23 18:47:29+00</td>\n",
       "      <td>[38.9402738789, -77.0327286883]</td>\n",
       "      <td>18</td>\n",
       "      <td>20</td>\n",
       "      <td>7</td>\n",
       "      <td>201</td>\n",
       "      <td>Saturday</td>\n",
       "      <td>Summer</td>\n",
       "    </tr>\n",
       "    <tr>\n",
       "      <th>33912</th>\n",
       "      <td>OTHERS</td>\n",
       "      <td>THEFT/OTHER</td>\n",
       "      <td>38.880276</td>\n",
       "      <td>-76.994977</td>\n",
       "      <td>2019/07/22 05:54:56+00</td>\n",
       "      <td>2019/07/22 05:55:18+00</td>\n",
       "      <td>[38.880275773, -76.9949765956]</td>\n",
       "      <td>5</td>\n",
       "      <td>22</td>\n",
       "      <td>7</td>\n",
       "      <td>203</td>\n",
       "      <td>Monday</td>\n",
       "      <td>Summer</td>\n",
       "    </tr>\n",
       "    <tr>\n",
       "      <th>33913</th>\n",
       "      <td>OTHERS</td>\n",
       "      <td>THEFT F/AUTO</td>\n",
       "      <td>38.925815</td>\n",
       "      <td>-77.100822</td>\n",
       "      <td>2019/07/23 16:30:33+00</td>\n",
       "      <td>2019/07/23 17:25:54+00</td>\n",
       "      <td>[38.9258152896, -77.1008215022]</td>\n",
       "      <td>16</td>\n",
       "      <td>23</td>\n",
       "      <td>7</td>\n",
       "      <td>204</td>\n",
       "      <td>Tuesday</td>\n",
       "      <td>Summer</td>\n",
       "    </tr>\n",
       "    <tr>\n",
       "      <th>33914</th>\n",
       "      <td>OTHERS</td>\n",
       "      <td>THEFT/OTHER</td>\n",
       "      <td>38.948792</td>\n",
       "      <td>-77.078746</td>\n",
       "      <td>2019/07/23 18:05:57+00</td>\n",
       "      <td>2019/07/23 19:10:12+00</td>\n",
       "      <td>[38.9487916125, -77.0787458915]</td>\n",
       "      <td>18</td>\n",
       "      <td>23</td>\n",
       "      <td>7</td>\n",
       "      <td>204</td>\n",
       "      <td>Tuesday</td>\n",
       "      <td>Summer</td>\n",
       "    </tr>\n",
       "    <tr>\n",
       "      <th>33915</th>\n",
       "      <td>OTHERS</td>\n",
       "      <td>THEFT F/AUTO</td>\n",
       "      <td>38.927478</td>\n",
       "      <td>-77.024517</td>\n",
       "      <td>2019/07/23 18:00:26+00</td>\n",
       "      <td>2019/07/23 19:45:14+00</td>\n",
       "      <td>[38.9274781547, -77.0245165376]</td>\n",
       "      <td>18</td>\n",
       "      <td>23</td>\n",
       "      <td>7</td>\n",
       "      <td>204</td>\n",
       "      <td>Tuesday</td>\n",
       "      <td>Summer</td>\n",
       "    </tr>\n",
       "  </tbody>\n",
       "</table>\n",
       "<p>33916 rows × 13 columns</p>\n",
       "</div>"
      ],
      "text/plain": [
       "       METHOD       OFFENSE   LATITUDE  LONGITUDE              START_DATE  \\\n",
       "0      OTHERS  THEFT F/AUTO  38.939209 -77.029705  2019/05/12 03:00:54+00   \n",
       "1      OTHERS   THEFT/OTHER  38.932567 -77.034601  2019/05/12 15:30:54+00   \n",
       "2      OTHERS   THEFT/OTHER  38.959912 -77.085288  2019/05/12 16:12:47+00   \n",
       "3      OTHERS   THEFT/OTHER  38.897348 -77.026509  2019/05/12 17:07:36+00   \n",
       "4      OTHERS      BURGLARY  38.957815 -77.028231  2019/05/12 17:06:59+00   \n",
       "...       ...           ...        ...        ...                     ...   \n",
       "33911  OTHERS  THEFT F/AUTO  38.940274 -77.032729  2019/07/20 18:00:29+00   \n",
       "33912  OTHERS   THEFT/OTHER  38.880276 -76.994977  2019/07/22 05:54:56+00   \n",
       "33913  OTHERS  THEFT F/AUTO  38.925815 -77.100822  2019/07/23 16:30:33+00   \n",
       "33914  OTHERS   THEFT/OTHER  38.948792 -77.078746  2019/07/23 18:05:57+00   \n",
       "33915  OTHERS  THEFT F/AUTO  38.927478 -77.024517  2019/07/23 18:00:26+00   \n",
       "\n",
       "                     END_DATE                            CORDS  time  day  \\\n",
       "0      2019/05/12 13:30:03+00  [38.9392090053, -77.0297051135]     3   12   \n",
       "1      2019/05/12 16:00:54+00  [38.9325673709, -77.0346008373]    15   12   \n",
       "2                         NaN   [38.9599119666, -77.085288276]    16   12   \n",
       "3                         NaN  [38.8973478904, -77.0265085554]    17   12   \n",
       "4      2019/05/12 18:00:07+00  [38.9578148866, -77.0282306394]    17   12   \n",
       "...                       ...                              ...   ...  ...   \n",
       "33911  2019/07/23 18:47:29+00  [38.9402738789, -77.0327286883]    18   20   \n",
       "33912  2019/07/22 05:55:18+00   [38.880275773, -76.9949765956]     5   22   \n",
       "33913  2019/07/23 17:25:54+00  [38.9258152896, -77.1008215022]    16   23   \n",
       "33914  2019/07/23 19:10:12+00  [38.9487916125, -77.0787458915]    18   23   \n",
       "33915  2019/07/23 19:45:14+00  [38.9274781547, -77.0245165376]    18   23   \n",
       "\n",
       "       month  day_of_year   weekday  season  \n",
       "0          5          132    Sunday  Spring  \n",
       "1          5          132    Sunday  Spring  \n",
       "2          5          132    Sunday  Spring  \n",
       "3          5          132    Sunday  Spring  \n",
       "4          5          132    Sunday  Spring  \n",
       "...      ...          ...       ...     ...  \n",
       "33911      7          201  Saturday  Summer  \n",
       "33912      7          203    Monday  Summer  \n",
       "33913      7          204   Tuesday  Summer  \n",
       "33914      7          204   Tuesday  Summer  \n",
       "33915      7          204   Tuesday  Summer  \n",
       "\n",
       "[33916 rows x 13 columns]"
      ]
     },
     "execution_count": 5,
     "metadata": {},
     "output_type": "execute_result"
    }
   ],
   "source": [
    "# Determines the season (szn) of the crime (these dates are from 2019)\n",
    "def find_szn(row):\n",
    "    #First 4 if statements to decide on months where season changes\n",
    "    if (row['month'] == 3):\n",
    "        if (row['day'] < 20):\n",
    "            return \"Winter\"\n",
    "        else:\n",
    "            return \"Spring\"\n",
    "    elif (row['month'] == 6):\n",
    "        if (row['day'] < 21):\n",
    "            return \"Spring\"\n",
    "        else:\n",
    "            return \"Summer\"\n",
    "    elif (row['month'] == 9):\n",
    "        if (row['day'] < 23):\n",
    "            return \"Summer\"\n",
    "        else:\n",
    "            return \"Fall\"\n",
    "    elif (row['month'] == 12):\n",
    "        if (row['day'] < 22):\n",
    "            return \"Fall\"\n",
    "        else:\n",
    "            return \"Winter\"\n",
    "    elif (row['month'] < 3):\n",
    "        return \"Winter\"\n",
    "    elif (row['month'] < 6):\n",
    "        return \"Spring\"\n",
    "    elif (row['month'] < 9):\n",
    "        return \"Summer\"\n",
    "    elif (row['month'] < 12):\n",
    "        return \"Fall\"\n",
    "    else:\n",
    "        return \"Fake Month!\"\n",
    "# Creation of the season column    \n",
    "crime_data['season'] = crime_data.apply(lambda row: find_szn(row), axis=1)\n",
    "crime_data"
   ]
  },
  {
   "cell_type": "markdown",
   "id": "72486e68",
   "metadata": {},
   "source": [
    "# Exploratory Analysis\n",
    "\n",
    "First we began by creating a pie chart to illustrate how much a particular crime was committed in 2019 in relation to the other crimes. As clearly shown by this pie chart, THEFT/OTHER & THEFT F/AUTO are the two dominant crimes committed in Washington D.C. The other crimes require further analysis to discover the rankings of which one appears more."
   ]
  },
  {
   "cell_type": "code",
   "execution_count": 6,
   "id": "27d2eaad",
   "metadata": {},
   "outputs": [
    {
     "data": {
      "image/png": "[encoded data removed]",
      "text/plain": [
       "<Figure size 432x288 with 1 Axes>"
      ]
     },
     "metadata": {},
     "output_type": "display_data"
    }
   ],
   "source": [
    "crimes, count = np.unique(crime_data['OFFENSE'],return_counts=True)\n",
    "plt.pie(count,labels = crimes,radius = 1.5);"
   ]
  },
  {
   "cell_type": "markdown",
   "id": "420034a1",
   "metadata": {},
   "source": [
    "We utilized the pandas DataFrame library to create small tables displaying the exact number of instances all the crimes occurred within our dataframe."
   ]
  },
  {
   "cell_type": "code",
   "execution_count": 7,
   "id": "f9786592",
   "metadata": {},
   "outputs": [
    {
     "data": {
      "text/plain": [
       "THEFT/OTHER                   15571\n",
       "THEFT F/AUTO                  10719\n",
       "ROBBERY                        2232\n",
       "MOTOR VEHICLE THEFT            2186\n",
       "ASSAULT W/DANGEROUS WEAPON     1567\n",
       "BURGLARY                       1272\n",
       "SEX ABUSE                       197\n",
       "HOMICIDE                        164\n",
       "ARSON                             8\n",
       "Name: OFFENSE, dtype: int64"
      ]
     },
     "execution_count": 7,
     "metadata": {},
     "output_type": "execute_result"
    }
   ],
   "source": [
    "# This table will display the number of times the nine crimes in our dataframe occured\n",
    "crime_type_table = crime_data['OFFENSE'].value_counts()\n",
    "crime_type_table"
   ]
  },
  {
   "cell_type": "markdown",
   "id": "e877e777",
   "metadata": {},
   "source": [
    "From there we decided to isolate the 5 most prevalent crimes in D.C. We also create a new DataFrame that only has the top 5 crime in it"
   ]
  },
  {
   "cell_type": "code",
   "execution_count": 29,
   "id": "d8b88899",
   "metadata": {},
   "outputs": [
    {
     "data": {
      "text/html": [
       "<div>\n",
       "<style scoped>\n",
       "    .dataframe tbody tr th:only-of-type {\n",
       "        vertical-align: middle;\n",
       "    }\n",
       "\n",
       "    .dataframe tbody tr th {\n",
       "        vertical-align: top;\n",
       "    }\n",
       "\n",
       "    .dataframe thead th {\n",
       "        text-align: right;\n",
       "    }\n",
       "</style>\n",
       "<table border=\"1\" class=\"dataframe\">\n",
       "  <thead>\n",
       "    <tr style=\"text-align: right;\">\n",
       "      <th></th>\n",
       "      <th>METHOD</th>\n",
       "      <th>OFFENSE</th>\n",
       "      <th>LATITUDE</th>\n",
       "      <th>LONGITUDE</th>\n",
       "      <th>START_DATE</th>\n",
       "      <th>END_DATE</th>\n",
       "      <th>CORDS</th>\n",
       "      <th>time</th>\n",
       "      <th>day</th>\n",
       "      <th>month</th>\n",
       "      <th>day_of_year</th>\n",
       "      <th>weekday</th>\n",
       "      <th>season</th>\n",
       "    </tr>\n",
       "  </thead>\n",
       "  <tbody>\n",
       "    <tr>\n",
       "      <th>0</th>\n",
       "      <td>OTHERS</td>\n",
       "      <td>THEFT F/AUTO</td>\n",
       "      <td>38.939209</td>\n",
       "      <td>-77.029705</td>\n",
       "      <td>2019/05/12 03:00:54+00</td>\n",
       "      <td>2019/05/12 13:30:03+00</td>\n",
       "      <td>[38.9392090053, -77.0297051135]</td>\n",
       "      <td>3</td>\n",
       "      <td>12</td>\n",
       "      <td>5</td>\n",
       "      <td>132</td>\n",
       "      <td>Sunday</td>\n",
       "      <td>Spring</td>\n",
       "    </tr>\n",
       "    <tr>\n",
       "      <th>1</th>\n",
       "      <td>OTHERS</td>\n",
       "      <td>THEFT/OTHER</td>\n",
       "      <td>38.932567</td>\n",
       "      <td>-77.034601</td>\n",
       "      <td>2019/05/12 15:30:54+00</td>\n",
       "      <td>2019/05/12 16:00:54+00</td>\n",
       "      <td>[38.9325673709, -77.0346008373]</td>\n",
       "      <td>15</td>\n",
       "      <td>12</td>\n",
       "      <td>5</td>\n",
       "      <td>132</td>\n",
       "      <td>Sunday</td>\n",
       "      <td>Spring</td>\n",
       "    </tr>\n",
       "    <tr>\n",
       "      <th>2</th>\n",
       "      <td>OTHERS</td>\n",
       "      <td>THEFT/OTHER</td>\n",
       "      <td>38.959912</td>\n",
       "      <td>-77.085288</td>\n",
       "      <td>2019/05/12 16:12:47+00</td>\n",
       "      <td>NaN</td>\n",
       "      <td>[38.9599119666, -77.085288276]</td>\n",
       "      <td>16</td>\n",
       "      <td>12</td>\n",
       "      <td>5</td>\n",
       "      <td>132</td>\n",
       "      <td>Sunday</td>\n",
       "      <td>Spring</td>\n",
       "    </tr>\n",
       "    <tr>\n",
       "      <th>3</th>\n",
       "      <td>OTHERS</td>\n",
       "      <td>THEFT/OTHER</td>\n",
       "      <td>38.897348</td>\n",
       "      <td>-77.026509</td>\n",
       "      <td>2019/05/12 17:07:36+00</td>\n",
       "      <td>NaN</td>\n",
       "      <td>[38.8973478904, -77.0265085554]</td>\n",
       "      <td>17</td>\n",
       "      <td>12</td>\n",
       "      <td>5</td>\n",
       "      <td>132</td>\n",
       "      <td>Sunday</td>\n",
       "      <td>Spring</td>\n",
       "    </tr>\n",
       "    <tr>\n",
       "      <th>5</th>\n",
       "      <td>OTHERS</td>\n",
       "      <td>THEFT/OTHER</td>\n",
       "      <td>38.898614</td>\n",
       "      <td>-76.974824</td>\n",
       "      <td>2019/05/12 17:36:33+00</td>\n",
       "      <td>NaN</td>\n",
       "      <td>[38.8986142204, -76.974824299]</td>\n",
       "      <td>17</td>\n",
       "      <td>12</td>\n",
       "      <td>5</td>\n",
       "      <td>132</td>\n",
       "      <td>Sunday</td>\n",
       "      <td>Spring</td>\n",
       "    </tr>\n",
       "  </tbody>\n",
       "</table>\n",
       "</div>"
      ],
      "text/plain": [
       "   METHOD       OFFENSE   LATITUDE  LONGITUDE              START_DATE  \\\n",
       "0  OTHERS  THEFT F/AUTO  38.939209 -77.029705  2019/05/12 03:00:54+00   \n",
       "1  OTHERS   THEFT/OTHER  38.932567 -77.034601  2019/05/12 15:30:54+00   \n",
       "2  OTHERS   THEFT/OTHER  38.959912 -77.085288  2019/05/12 16:12:47+00   \n",
       "3  OTHERS   THEFT/OTHER  38.897348 -77.026509  2019/05/12 17:07:36+00   \n",
       "5  OTHERS   THEFT/OTHER  38.898614 -76.974824  2019/05/12 17:36:33+00   \n",
       "\n",
       "                 END_DATE                            CORDS  time  day  month  \\\n",
       "0  2019/05/12 13:30:03+00  [38.9392090053, -77.0297051135]     3   12      5   \n",
       "1  2019/05/12 16:00:54+00  [38.9325673709, -77.0346008373]    15   12      5   \n",
       "2                     NaN   [38.9599119666, -77.085288276]    16   12      5   \n",
       "3                     NaN  [38.8973478904, -77.0265085554]    17   12      5   \n",
       "5                     NaN   [38.8986142204, -76.974824299]    17   12      5   \n",
       "\n",
       "   day_of_year weekday  season  \n",
       "0          132  Sunday  Spring  \n",
       "1          132  Sunday  Spring  \n",
       "2          132  Sunday  Spring  \n",
       "3          132  Sunday  Spring  \n",
       "5          132  Sunday  Spring  "
      ]
     },
     "execution_count": 29,
     "metadata": {},
     "output_type": "execute_result"
    }
   ],
   "source": [
    "top_crime_table = crime_type_table[:5]\n",
    "top_crime_data = crime_data[crime_data['OFFENSE'].isin(top_crime_table.index)] \n",
    "top_crime_data.head()"
   ]
  },
  {
   "cell_type": "markdown",
   "id": "5ea022e2",
   "metadata": {},
   "source": [
    "# Data Visualization\n",
    "\n",
    "From the results of our data processing, we were able to create bar graphs depicting how many incidents of a particular crime occurred during an hour of the day, 0=12 A.M. and 23= 11 P.M. As expected, these graphs depicted high incidences of crime between the afternoon to nighttime hours of 12 P.M. - 3 A.M."
   ]
  },
  {
   "cell_type": "code",
   "execution_count": 31,
   "id": "01e53f3b",
   "metadata": {},
   "outputs": [
    {
     "data": {
      "image/png": "[encoded data removed]",
      "text/plain": [
       "<Figure size 432x288 with 1 Axes>"
      ]
     },
     "metadata": {
      "needs_background": "light"
     },
     "output_type": "display_data"
    }
   ],
   "source": [
    "hour, crime_count = np.unique(crime_data[crime_data['OFFENSE'] == 'THEFT/OTHER'].time,return_counts=True)\n",
    "sns.barplot(hour,crime_count,color = 'blue').set(title=\"Total THEFT/OTHER Crime per Hour\");"
   ]
  },
  {
   "cell_type": "code",
   "execution_count": 32,
   "id": "b73efd36",
   "metadata": {},
   "outputs": [
    {
     "data": {
      "image/png": "[encoded data removed]",
      "text/plain": [
       "<Figure size 432x288 with 1 Axes>"
      ]
     },
     "metadata": {
      "needs_background": "light"
     },
     "output_type": "display_data"
    }
   ],
   "source": [
    "hour, crime_count = np.unique(crime_data[crime_data['OFFENSE'] == 'THEFT F/AUTO'].time,return_counts=True)\n",
    "sns.barplot(hour,crime_count,color = 'blue').set(title=\"Total THEFT F/AUTO Crime per Hour\");"
   ]
  },
  {
   "cell_type": "code",
   "execution_count": 33,
   "id": "32722614",
   "metadata": {},
   "outputs": [
    {
     "data": {
      "image/png": "[encoded data removed]",
      "text/plain": [
       "<Figure size 432x288 with 1 Axes>"
      ]
     },
     "metadata": {
      "needs_background": "light"
     },
     "output_type": "display_data"
    }
   ],
   "source": [
    "hour, crime_count = np.unique(crime_data[crime_data['OFFENSE'] == 'ROBBERY'].time,return_counts=True)\n",
    "sns.barplot(hour,crime_count,color = 'blue').set(title=\"Total ROBBERY Crime per Hour\");"
   ]
  },
  {
   "cell_type": "code",
   "execution_count": 34,
   "id": "f6f64c68",
   "metadata": {},
   "outputs": [
    {
     "data": {
      "image/png": "[encoded data removed]",
      "text/plain": [
       "<Figure size 432x288 with 1 Axes>"
      ]
     },
     "metadata": {
      "needs_background": "light"
     },
     "output_type": "display_data"
    }
   ],
   "source": [
    "hour, crime_count = np.unique(crime_data[crime_data['OFFENSE'] == 'MOTOR VEHICLE THEFT'].time,return_counts=True)\n",
    "sns.barplot(hour,crime_count,color = 'blue').set(title=\"Total MOTOR VEHICLE THEFT Crime per Hour\");"
   ]
  },
  {
   "cell_type": "code",
   "execution_count": 35,
   "id": "1618fa25",
   "metadata": {},
   "outputs": [
    {
     "data": {
      "image/png": "[encoded data removed]",
      "text/plain": [
       "<Figure size 432x288 with 1 Axes>"
      ]
     },
     "metadata": {
      "needs_background": "light"
     },
     "output_type": "display_data"
    }
   ],
   "source": [
    "hour, crime_count = np.unique(crime_data[crime_data['OFFENSE'] == 'ASSAULT W/DANGEROUS WEAPON'].time,return_counts=True)\n",
    "sns.barplot(hour,crime_count,color = 'blue').set(title=\"Total ASSAULT W/DANGEROUS WEAPON Crime per Hour\");"
   ]
  },
  {
   "cell_type": "markdown",
   "id": "8654c324",
   "metadata": {},
   "source": [
    "We then utilized the seaborn library to be able to visualize the top 5 most popular crimes on one graph. We will first make one bar graph and then we will make a voilin plot. The bar graph is not as good at visualizing because theft is way more common so it hard to see the trend of the other crimes over time."
   ]
  },
  {
   "cell_type": "code",
   "execution_count": 36,
   "id": "ffe6d6cd",
   "metadata": {},
   "outputs": [
    {
     "data": {
      "image/png": "[encoded data removed]",
      "text/plain": [
       "<Figure size 1332x756 with 1 Axes>"
      ]
     },
     "metadata": {
      "needs_background": "light"
     },
     "output_type": "display_data"
    }
   ],
   "source": [
    "fig = plt.figure(figsize=(10,80))\n",
    "fig.set_size_inches(18.5, 10.5)\n",
    "sns.countplot(x=\"time\", hue=\"OFFENSE\", data=top_crime_data);"
   ]
  },
  {
   "cell_type": "markdown",
   "id": "8e55d2ae",
   "metadata": {},
   "source": [
    "Now we will make a violin plot (which is a hybrid of a box plot and a kernel density plot) to show the distribution of our data over time which is better at visualizing the data. We chose to make the voilin plot scale = 'count' because you see the differenece of amount of crime per hour. Normally voilin plots scale is set to 'area' which makes them all of the voilins the same area. We want to be able to see the amount of the different crimes"
   ]
  },
  {
   "cell_type": "code",
   "execution_count": 37,
   "id": "fdfe6899",
   "metadata": {},
   "outputs": [
    {
     "data": {
      "image/png": "[encoded data removed]",
      "text/plain": [
       "<Figure size 720x720 with 1 Axes>"
      ]
     },
     "metadata": {
      "needs_background": "light"
     },
     "output_type": "display_data"
    }
   ],
   "source": [
    "fig = plt.figure(figsize=(10,10))\n",
    "sns.violinplot(data=top_crime_data, x = 'time',y='OFFENSE',cut=0,scale='count');"
   ]
  },
  {
   "cell_type": "markdown",
   "id": "e552f9bf",
   "metadata": {},
   "source": [
    "# Analysis, Hypothesis Testing, & Machine Learning\n",
    "\n",
    "Our hypothesis is that there is a correlation between the amount of robberies on a given day due to the season and the day of the week (Sunday, Monday, Tuesday, ... ). We will first look at some graphs and then use linear regression to see if this is true. "
   ]
  },
  {
   "cell_type": "markdown",
   "id": "76dbd878",
   "metadata": {},
   "source": [
    "The first graph that we will make is the number of instances of robbery occurred per day of the year."
   ]
  },
  {
   "cell_type": "code",
   "execution_count": 16,
   "id": "f5fd21fc",
   "metadata": {},
   "outputs": [
    {
     "data": {
      "image/png": "[encoded data removed]",
      "text/plain": [
       "<Figure size 9000x1080 with 1 Axes>"
      ]
     },
     "metadata": {
      "needs_background": "light"
     },
     "output_type": "display_data"
    }
   ],
   "source": [
    "# MAKE THE FONTSIZE LARGER FOR X,Y,TITLE\n",
    "crime_type = 'ROBBERY'\n",
    "fig = plt.figure(figsize=(125,15))\n",
    "day, count = np.unique(crime_data[(crime_data['OFFENSE'] == crime_type)].day_of_year,return_counts=True)\n",
    "sns.barplot(day,count,color= 'blue').set(title=\"Total ROBBERY Crime per Day of Year\",\n",
    "                                         xlabel= \"Day of the Year\", ylabel= \"Count\");"
   ]
  },
  {
   "cell_type": "markdown",
   "id": "7a024a24",
   "metadata": {},
   "source": [
    "Since the above bar plot is very difficult to read, we split the data of ROBBERY crimes into months."
   ]
  },
  {
   "cell_type": "code",
   "execution_count": 17,
   "id": "8faeb536",
   "metadata": {},
   "outputs": [
    {
     "data": {
      "image/png": "[encoded data removed]",
      "text/plain": [
       "<Figure size 432x288 with 1 Axes>"
      ]
     },
     "metadata": {
      "needs_background": "light"
     },
     "output_type": "display_data"
    }
   ],
   "source": [
    "month, crime_count = np.unique(crime_data[(crime_data['OFFENSE'] == crime_type)].month,return_counts=True)\n",
    "sns.barplot(month,crime_count).set(title=\"Total ROBBERY Crime per Month\");"
   ]
  },
  {
   "cell_type": "markdown",
   "id": "539fce21",
   "metadata": {},
   "source": [
    "We then split the data according to season."
   ]
  },
  {
   "cell_type": "code",
   "execution_count": 40,
   "id": "1bfb9ecd",
   "metadata": {},
   "outputs": [
    {
     "data": {
      "image/png": "[encoded data removed]",
      "text/plain": [
       "<Figure size 432x288 with 1 Axes>"
      ]
     },
     "metadata": {
      "needs_background": "light"
     },
     "output_type": "display_data"
    }
   ],
   "source": [
    "szn, crime_count = np.unique(crime_data[(crime_data['OFFENSE'] == crime_type)].season,return_counts=True)\n",
    "order = ['Spring', 'Summer','Fall','Winter']\n",
    "sns.barplot(szn,crime_count,order=order).set(title=\"Total ROBBERY Crime per Season\");"
   ]
  },
  {
   "cell_type": "markdown",
   "id": "4ccb8d83",
   "metadata": {},
   "source": [
    "Next, we split the ROBBERY data by its corresponding day of the week."
   ]
  },
  {
   "cell_type": "code",
   "execution_count": 41,
   "id": "0d3daaae",
   "metadata": {},
   "outputs": [
    {
     "data": {
      "image/png": "[encoded data removed]",
      "text/plain": [
       "<Figure size 504x360 with 1 Axes>"
      ]
     },
     "metadata": {
      "needs_background": "light"
     },
     "output_type": "display_data"
    }
   ],
   "source": [
    "fig = plt.figure(figsize=(7,5))\n",
    "order = ['Sunday','Monday','Tuesday','Wednesday','Thursday','Friday','Saturday']\n",
    "sns.countplot(x=\"weekday\", data=crime_data[crime_data['OFFENSE'] == crime_type],order=order).set(title=\"Total ROBBERY Crime per Day of The Week\");"
   ]
  },
  {
   "cell_type": "markdown",
   "id": "0a97f8ba",
   "metadata": {},
   "source": [
    "# Machine learning\n",
    "\n",
    "We will use machine learning in two different ways in this project. First, we will utilize linear regression to discover if there is a correlation between the amount of crime during a day with the season and the day's name (Sunday, Monday, Tuesday, ...) Then the second way we will use KMEANS to find clusters of crime and map them. "
   ]
  },
  {
   "cell_type": "markdown",
   "id": "e34a645b",
   "metadata": {},
   "source": [
    "### Machine Learning - Linear Regression \n",
    "See if there is a Correlation between amount of robbery in a day because of the week_day and season "
   ]
  },
  {
   "cell_type": "code",
   "execution_count": 20,
   "id": "2dd6650b",
   "metadata": {},
   "outputs": [
    {
     "data": {
      "text/html": [
       "<div>\n",
       "<style scoped>\n",
       "    .dataframe tbody tr th:only-of-type {\n",
       "        vertical-align: middle;\n",
       "    }\n",
       "\n",
       "    .dataframe tbody tr th {\n",
       "        vertical-align: top;\n",
       "    }\n",
       "\n",
       "    .dataframe thead th {\n",
       "        text-align: right;\n",
       "    }\n",
       "</style>\n",
       "<table border=\"1\" class=\"dataframe\">\n",
       "  <thead>\n",
       "    <tr style=\"text-align: right;\">\n",
       "      <th></th>\n",
       "      <th>day_of_year</th>\n",
       "      <th>weekday</th>\n",
       "      <th>season</th>\n",
       "      <th>amount_of_crime</th>\n",
       "    </tr>\n",
       "  </thead>\n",
       "  <tbody>\n",
       "    <tr>\n",
       "      <th>10652</th>\n",
       "      <td>1</td>\n",
       "      <td>Wednesday</td>\n",
       "      <td>Winter</td>\n",
       "      <td>7</td>\n",
       "    </tr>\n",
       "    <tr>\n",
       "      <th>13896</th>\n",
       "      <td>2</td>\n",
       "      <td>Wednesday</td>\n",
       "      <td>Winter</td>\n",
       "      <td>4</td>\n",
       "    </tr>\n",
       "    <tr>\n",
       "      <th>18337</th>\n",
       "      <td>3</td>\n",
       "      <td>Thursday</td>\n",
       "      <td>Winter</td>\n",
       "      <td>7</td>\n",
       "    </tr>\n",
       "    <tr>\n",
       "      <th>31564</th>\n",
       "      <td>4</td>\n",
       "      <td>Friday</td>\n",
       "      <td>Winter</td>\n",
       "      <td>3</td>\n",
       "    </tr>\n",
       "    <tr>\n",
       "      <th>13910</th>\n",
       "      <td>5</td>\n",
       "      <td>Saturday</td>\n",
       "      <td>Winter</td>\n",
       "      <td>6</td>\n",
       "    </tr>\n",
       "  </tbody>\n",
       "</table>\n",
       "</div>"
      ],
      "text/plain": [
       "       day_of_year    weekday  season  amount_of_crime\n",
       "10652            1  Wednesday  Winter                7\n",
       "13896            2  Wednesday  Winter                4\n",
       "18337            3   Thursday  Winter                7\n",
       "31564            4     Friday  Winter                3\n",
       "13910            5   Saturday  Winter                6"
      ]
     },
     "execution_count": 20,
     "metadata": {},
     "output_type": "execute_result"
    }
   ],
   "source": [
    "robbery_data = crime_data[crime_data['OFFENSE'] == 'ROBBERY']\n",
    "day, count = np.unique(robbery_data['day_of_year'],return_counts=True)\n",
    "subset = robbery_data.drop_duplicates(subset='day_of_year').sort_values(by='day_of_year')\n",
    "robbery_per_day_data = subset[['day_of_year','weekday','season']]\n",
    "robbery_per_day_data['amount_of_crime'] = count\n",
    "robbery_per_day_data.head()"
   ]
  },
  {
   "cell_type": "markdown",
   "id": "232ef3c3",
   "metadata": {},
   "source": [
    "Since the columns 'weekday' and 'season' of the robbery_per_day_data DataFrame are categorical variables we need to change them to numerical for regression. Learn more catagorical and numerical data types. Learn more at:  https://cmsc320.github.io/lecs/cmsc320_f2021_lec02.pdf starting at slide 41\n",
    "<br> We have to use .get_dummies to change the catagorical variables to numeric so we can use regression\n",
    "<br>X is the training data"
   ]
  },
  {
   "cell_type": "code",
   "execution_count": 21,
   "id": "ee1a204b",
   "metadata": {},
   "outputs": [
    {
     "data": {
      "text/html": [
       "<div>\n",
       "<style scoped>\n",
       "    .dataframe tbody tr th:only-of-type {\n",
       "        vertical-align: middle;\n",
       "    }\n",
       "\n",
       "    .dataframe tbody tr th {\n",
       "        vertical-align: top;\n",
       "    }\n",
       "\n",
       "    .dataframe thead th {\n",
       "        text-align: right;\n",
       "    }\n",
       "</style>\n",
       "<table border=\"1\" class=\"dataframe\">\n",
       "  <thead>\n",
       "    <tr style=\"text-align: right;\">\n",
       "      <th></th>\n",
       "      <th>weekday_Friday</th>\n",
       "      <th>weekday_Monday</th>\n",
       "      <th>weekday_Saturday</th>\n",
       "      <th>weekday_Sunday</th>\n",
       "      <th>weekday_Thursday</th>\n",
       "      <th>weekday_Tuesday</th>\n",
       "      <th>weekday_Wednesday</th>\n",
       "      <th>season_Fall</th>\n",
       "      <th>season_Spring</th>\n",
       "      <th>season_Summer</th>\n",
       "      <th>season_Winter</th>\n",
       "    </tr>\n",
       "  </thead>\n",
       "  <tbody>\n",
       "    <tr>\n",
       "      <th>10652</th>\n",
       "      <td>0</td>\n",
       "      <td>0</td>\n",
       "      <td>0</td>\n",
       "      <td>0</td>\n",
       "      <td>0</td>\n",
       "      <td>0</td>\n",
       "      <td>1</td>\n",
       "      <td>0</td>\n",
       "      <td>0</td>\n",
       "      <td>0</td>\n",
       "      <td>1</td>\n",
       "    </tr>\n",
       "    <tr>\n",
       "      <th>13896</th>\n",
       "      <td>0</td>\n",
       "      <td>0</td>\n",
       "      <td>0</td>\n",
       "      <td>0</td>\n",
       "      <td>0</td>\n",
       "      <td>0</td>\n",
       "      <td>1</td>\n",
       "      <td>0</td>\n",
       "      <td>0</td>\n",
       "      <td>0</td>\n",
       "      <td>1</td>\n",
       "    </tr>\n",
       "    <tr>\n",
       "      <th>18337</th>\n",
       "      <td>0</td>\n",
       "      <td>0</td>\n",
       "      <td>0</td>\n",
       "      <td>0</td>\n",
       "      <td>1</td>\n",
       "      <td>0</td>\n",
       "      <td>0</td>\n",
       "      <td>0</td>\n",
       "      <td>0</td>\n",
       "      <td>0</td>\n",
       "      <td>1</td>\n",
       "    </tr>\n",
       "    <tr>\n",
       "      <th>31564</th>\n",
       "      <td>1</td>\n",
       "      <td>0</td>\n",
       "      <td>0</td>\n",
       "      <td>0</td>\n",
       "      <td>0</td>\n",
       "      <td>0</td>\n",
       "      <td>0</td>\n",
       "      <td>0</td>\n",
       "      <td>0</td>\n",
       "      <td>0</td>\n",
       "      <td>1</td>\n",
       "    </tr>\n",
       "    <tr>\n",
       "      <th>13910</th>\n",
       "      <td>0</td>\n",
       "      <td>0</td>\n",
       "      <td>1</td>\n",
       "      <td>0</td>\n",
       "      <td>0</td>\n",
       "      <td>0</td>\n",
       "      <td>0</td>\n",
       "      <td>0</td>\n",
       "      <td>0</td>\n",
       "      <td>0</td>\n",
       "      <td>1</td>\n",
       "    </tr>\n",
       "  </tbody>\n",
       "</table>\n",
       "</div>"
      ],
      "text/plain": [
       "       weekday_Friday  weekday_Monday  weekday_Saturday  weekday_Sunday  \\\n",
       "10652               0               0                 0               0   \n",
       "13896               0               0                 0               0   \n",
       "18337               0               0                 0               0   \n",
       "31564               1               0                 0               0   \n",
       "13910               0               0                 1               0   \n",
       "\n",
       "       weekday_Thursday  weekday_Tuesday  weekday_Wednesday  season_Fall  \\\n",
       "10652                 0                0                  1            0   \n",
       "13896                 0                0                  1            0   \n",
       "18337                 1                0                  0            0   \n",
       "31564                 0                0                  0            0   \n",
       "13910                 0                0                  0            0   \n",
       "\n",
       "       season_Spring  season_Summer  season_Winter  \n",
       "10652              0              0              1  \n",
       "13896              0              0              1  \n",
       "18337              0              0              1  \n",
       "31564              0              0              1  \n",
       "13910              0              0              1  "
      ]
     },
     "execution_count": 21,
     "metadata": {},
     "output_type": "execute_result"
    }
   ],
   "source": [
    "X = pandas.get_dummies(data=robbery_per_day_data).drop(columns=['amount_of_crime','day_of_year'])\n",
    "X.head()"
   ]
  },
  {
   "cell_type": "markdown",
   "id": "0ff7cf79",
   "metadata": {},
   "source": [
    "Y is the target which is the amount of crime in the day"
   ]
  },
  {
   "cell_type": "code",
   "execution_count": 22,
   "id": "3c7a44f5",
   "metadata": {},
   "outputs": [
    {
     "data": {
      "text/plain": [
       "10652    7\n",
       "13896    4\n",
       "18337    7\n",
       "31564    3\n",
       "13910    6\n",
       "Name: amount_of_crime, dtype: int64"
      ]
     },
     "execution_count": 22,
     "metadata": {},
     "output_type": "execute_result"
    }
   ],
   "source": [
    "Y = robbery_per_day_data['amount_of_crime']\n",
    "Y.head()"
   ]
  },
  {
   "cell_type": "markdown",
   "id": "9a298366",
   "metadata": {},
   "source": [
    "We first split the data up into a training set and a testing set. We do this so we do not overfit the data. We train the linear regression on the training set and score it on the test set. The score returns the R^2 score of the data which is the ( ((y_true - y_pred)** 2).sum() ) / ( ((y_true - y_true.mean()) ** 2).sum() ). R^2 score is a value between 0 and 1. The bigger the score means the better the model is\n",
    "<br> Learn more about R^2 at https://en.wikipedia.org/wiki/Coefficient_of_determination"
   ]
  },
  {
   "cell_type": "code",
   "execution_count": 23,
   "id": "01e2e9d9",
   "metadata": {},
   "outputs": [
    {
     "data": {
      "text/plain": [
       "0.07257088504524956"
      ]
     },
     "execution_count": 23,
     "metadata": {},
     "output_type": "execute_result"
    }
   ],
   "source": [
    "X_train, X_test, y_train, y_test = train_test_split(X, Y, test_size=0.4,random_state=0)\n",
    "model = LinearRegression()\n",
    "model.fit(X_train,y_train)\n",
    "model.score(X_test,y_test)"
   ]
  },
  {
   "cell_type": "markdown",
   "id": "6cc84bb2",
   "metadata": {},
   "source": [
    "A R^2 score of .0726 is really bad. We will graph our predictions of the crime on a given day versus the actual to illustrate how poor the score is"
   ]
  },
  {
   "cell_type": "code",
   "execution_count": 24,
   "id": "f12ede55",
   "metadata": {},
   "outputs": [
    {
     "data": {
      "image/png": "[encoded data removed]",
      "text/plain": [
       "<Figure size 432x288 with 1 Axes>"
      ]
     },
     "metadata": {
      "needs_background": "light"
     },
     "output_type": "display_data"
    }
   ],
   "source": [
    "predictions = model.predict(X_test)\n",
    "sns.regplot(y_test,predictions)\n",
    "plt.title('Predictions vs Actuals')\n",
    "plt.xlabel('Actuals')\n",
    "plt.ylabel('Predictions');"
   ]
  },
  {
   "cell_type": "markdown",
   "id": "37238a9c",
   "metadata": {},
   "source": [
    "##### Why the linear regression was bad\n",
    "The reason the predictions were so bad is because there weren't enough predictors. We only used the season and the day's name (Sunday, Monday, Tuesday, ...). If we had more predictors it would have been better. One predictor that would have probably helped was the average temperature of the day. Another could have been the weather during the time of the crime."
   ]
  },
  {
   "cell_type": "markdown",
   "id": "a3c33aa5",
   "metadata": {},
   "source": [
    "### Machine Learning- KMEANS\n",
    "We will use KMEANS to map crime clusters. There is way too much crime in our data set to put it on a map because it will appear meaningless because there would be points covering the entire map."
   ]
  },
  {
   "cell_type": "markdown",
   "id": "1aa4dccc",
   "metadata": {},
   "source": [
    "###### To get an idea of what the crime spread looks like\n",
    "We will plot the crime on a plot not a map, and as you can see it almost entirely outlines the entire Washington D.C. territory."
   ]
  },
  {
   "cell_type": "code",
   "execution_count": 25,
   "id": "a35795bd",
   "metadata": {},
   "outputs": [
    {
     "data": {
      "image/png": "[encoded data removed]",
      "text/plain": [
       "<Figure size 432x288 with 1 Axes>"
      ]
     },
     "metadata": {
      "needs_background": "light"
     },
     "output_type": "display_data"
    }
   ],
   "source": [
    "cords = crime_data['CORDS']\n",
    "lat = [cord[0] for cord in cords]\n",
    "long = [cord[1] for cord in cords]\n",
    "\n",
    "# We made the size of each point small so you can see the sheer number of crimes commited\n",
    "plt.scatter(long,lat,s=.001)\n",
    "plt.title(\"Crime map\")\n",
    "plt.xlabel(\"LONGITUDE\")\n",
    "plt.ylabel(\"LATITUDE\")\n",
    "plt.show()"
   ]
  },
  {
   "cell_type": "markdown",
   "id": "04582205",
   "metadata": {},
   "source": [
    "##### Better Approach using KMEANS\n",
    "KMEANS is a machine learning technique that clusters the data. You call KMEANS(x) and it clusters the data with x clusters. There is no best way to choose the number of clusters, increasing the number of clusters after a certain amount yields little improvement in the Squared error. The squared error is the average distance to the closes center. Therefore, you should choose the number of clusters because one more cluster yields little improvement in error. Learn more about KMEANS at: https://towardsdatascience.com/k-means-clustering-algorithm-applications-evaluation-methods-and-drawbacks-aa03e644b48a"
   ]
  },
  {
   "cell_type": "code",
   "execution_count": 26,
   "id": "bc5db9d1",
   "metadata": {},
   "outputs": [
    {
     "data": {
      "image/png": "[encoded data removed]",
      "text/plain": [
       "<Figure size 432x288 with 1 Axes>"
      ]
     },
     "metadata": {
      "needs_background": "light"
     },
     "output_type": "display_data"
    }
   ],
   "source": [
    "x_limit = 30  # The x scale for the graph and the number of times KMEANS is run\n",
    "\n",
    "inertia = [] # Kmeans error\n",
    "cords = np.array(crime_data[['LATITUDE','LONGITUDE']])\n",
    "for i in range(1,x_limit+1):\n",
    "    kmeans = KMeans(i) # ith KMEANS \n",
    "    kmeans.fit(cords)      # fit it to the data\n",
    "    inertia.append(kmeans.inertia_)  # appened the error to the inertia array\n",
    "\n",
    "number_clusters = [i for i in range(1,x_limit+1)]\n",
    "plt.plot(number_clusters,inertia)  # Ploting the Error Of KMEANS\n",
    "plt.title('Error Of KMEANS')\n",
    "plt.xlabel('Number of clusters')\n",
    "plt.ylabel('Squared Error');"
   ]
  },
  {
   "cell_type": "markdown",
   "id": "b2e0014d",
   "metadata": {},
   "source": [
    "We choose to use 20 cluster because after 20 there is little improvement in the squared error. You can change the amount of clusters and see how that changes the clusters. "
   ]
  },
  {
   "cell_type": "code",
   "execution_count": 42,
   "id": "123dcad8",
   "metadata": {},
   "outputs": [],
   "source": [
    "number_of_clusters = 20\n",
    "kmeans = KMeans(number_of_clusters) # ith KMEANS \n",
    "kmeans.fit(cords)"
   ]
  },
  {
   "cell_type": "markdown",
   "id": "c76bdc54",
   "metadata": {},
   "source": [
    "Next we get the total number of crime associated with each center. We do this so we can see the difference of amount of crime at each center. More crime at a given center yeilds a bigger radius of the circle"
   ]
  },
  {
   "cell_type": "code",
   "execution_count": null,
   "id": "96025d46",
   "metadata": {},
   "outputs": [],
   "source": [
    "total_crime = crime_data.shape[0] # Gets number of rows\n",
    "crime_density = [] # getting the number of crimes per cluster\n",
    "for i in range(number_of_clusters):\n",
    "    crime_density.append(list(kmeans.labels_).count(i)/total_crime)"
   ]
  },
  {
   "cell_type": "markdown",
   "id": "1cfc48f5",
   "metadata": {},
   "source": [
    "Below is the code to map the crime and scale each center with it's crime_density "
   ]
  },
  {
   "cell_type": "code",
   "execution_count": 28,
   "id": "f9895f05",
   "metadata": {},
   "outputs": [
    {
     "data": {
      "text/html": [
       "<div style=\"width:100%;\"><div style=\"position:relative;width:100%;height:0;padding-bottom:60%;\"><span style=\"color:#565656\">Make this Notebook Trusted to load map: File -> Trust Notebook</span><iframe src=\"about:blank\" style=\"position:absolute;width:100%;height:100%;left:0;top:0;border:none !important;\" data-html=%3C%21DOCTYPE%20html%3E%0A%3Chead%3E%20%20%20%20%0A%20%20%20%20%3Cmeta%20http-equiv%3D%22content-type%22%20content%3D%22text/html%3B%20charset%3DUTF-8%22%20/%3E%0A%20%20%20%20%0A%20%20%20%20%20%20%20%20%3Cscript%3E%0A%20%20%20%20%20%20%20%20%20%20%20%20L_NO_TOUCH%20%3D%20false%3B%0A%20%20%20%20%20%20%20%20%20%20%20%20L_DISABLE_3D%20%3D%20false%3B%0A%20%20%20%20%20%20%20%20%3C/script%3E%0A%20%20%20%20%0A%20%20%20%20%3Cstyle%3Ehtml%2C%20body%20%7Bwidth%3A%20100%25%3Bheight%3A%20100%25%3Bmargin%3A%200%3Bpadding%3A%200%3B%7D%3C/style%3E%0A%20%20%20%20%3Cstyle%3E%23map%20%7Bposition%3Aabsolute%3Btop%3A0%3Bbottom%3A0%3Bright%3A0%3Bleft%3A0%3B%7D%3C/style%3E%0A%20%20%20%20%3Cscript%20src%3D%22https%3A//cdn.jsdelivr.net/npm/leaflet%401.6.0/dist/leaflet.js%22%3E%3C/script%3E%0A%20%20%20%20%3Cscript%20src%3D%22https%3A//code.jquery.com/jquery-1.12.4.min.js%22%3E%3C/script%3E%0A%20%20%20%20%3Cscript%20src%3D%22https%3A//maxcdn.bootstrapcdn.com/bootstrap/3.2.0/js/bootstrap.min.js%22%3E%3C/script%3E%0A%20%20%20%20%3Cscript%20src%3D%22https%3A//cdnjs.cloudflare.com/ajax/libs/Leaflet.awesome-markers/2.0.2/leaflet.awesome-markers.js%22%3E%3C/script%3E%0A%20%20%20%20%3Clink%20rel%3D%22stylesheet%22%20href%3D%22https%3A//cdn.jsdelivr.net/npm/leaflet%401.6.0/dist/leaflet.css%22/%3E%0A%20%20%20%20%3Clink%20rel%3D%22stylesheet%22%20href%3D%22https%3A//maxcdn.bootstrapcdn.com/bootstrap/3.2.0/css/bootstrap.min.css%22/%3E%0A%20%20%20%20%3Clink%20rel%3D%22stylesheet%22%20href%3D%22https%3A//maxcdn.bootstrapcdn.com/bootstrap/3.2.0/css/bootstrap-theme.min.css%22/%3E%0A%20%20%20%20%3Clink%20rel%3D%22stylesheet%22%20href%3D%22https%3A//maxcdn.bootstrapcdn.com/font-awesome/4.6.3/css/font-awesome.min.css%22/%3E%0A%20%20%20%20%3Clink%20rel%3D%22stylesheet%22%20href%3D%22https%3A//cdnjs.cloudflare.com/ajax/libs/Leaflet.awesome-markers/2.0.2/leaflet.awesome-markers.css%22/%3E%0A%20%20%20%20%3Clink%20rel%3D%22stylesheet%22%20href%3D%22https%3A//cdn.jsdelivr.net/gh/python-visualization/folium/folium/templates/leaflet.awesome.rotate.min.css%22/%3E%0A%20%20%20%20%0A%20%20%20%20%20%20%20%20%20%20%20%20%3Cmeta%20name%3D%22viewport%22%20content%3D%22width%3Ddevice-width%2C%0A%20%20%20%20%20%20%20%20%20%20%20%20%20%20%20%20initial-scale%3D1.0%2C%20maximum-scale%3D1.0%2C%20user-scalable%3Dno%22%20/%3E%0A%20%20%20%20%20%20%20%20%20%20%20%20%3Cstyle%3E%0A%20%20%20%20%20%20%20%20%20%20%20%20%20%20%20%20%23map_22aa67844f594066b3f43a8f0d89f05c%20%7B%0A%20%20%20%20%20%20%20%20%20%20%20%20%20%20%20%20%20%20%20%20position%3A%20relative%3B%0A%20%20%20%20%20%20%20%20%20%20%20%20%20%20%20%20%20%20%20%20width%3A%20100.0%25%3B%0A%20%20%20%20%20%20%20%20%20%20%20%20%20%20%20%20%20%20%20%20height%3A%20100.0%25%3B%0A%20%20%20%20%20%20%20%20%20%20%20%20%20%20%20%20%20%20%20%20left%3A%200.0%25%3B%0A%20%20%20%20%20%20%20%20%20%20%20%20%20%20%20%20%20%20%20%20top%3A%200.0%25%3B%0A%20%20%20%20%20%20%20%20%20%20%20%20%20%20%20%20%7D%0A%20%20%20%20%20%20%20%20%20%20%20%20%3C/style%3E%0A%20%20%20%20%20%20%20%20%0A%3C/head%3E%0A%3Cbody%3E%20%20%20%20%0A%20%20%20%20%0A%20%20%20%20%20%20%20%20%20%20%20%20%3Cdiv%20class%3D%22folium-map%22%20id%3D%22map_22aa67844f594066b3f43a8f0d89f05c%22%20%3E%3C/div%3E%0A%20%20%20%20%20%20%20%20%0A%3C/body%3E%0A%3Cscript%3E%20%20%20%20%0A%20%20%20%20%0A%20%20%20%20%20%20%20%20%20%20%20%20var%20map_22aa67844f594066b3f43a8f0d89f05c%20%3D%20L.map%28%0A%20%20%20%20%20%20%20%20%20%20%20%20%20%20%20%20%22map_22aa67844f594066b3f43a8f0d89f05c%22%2C%0A%20%20%20%20%20%20%20%20%20%20%20%20%20%20%20%20%7B%0A%20%20%20%20%20%20%20%20%20%20%20%20%20%20%20%20%20%20%20%20center%3A%20%5B38.9072%2C%20-77.0369%5D%2C%0A%20%20%20%20%20%20%20%20%20%20%20%20%20%20%20%20%20%20%20%20crs%3A%20L.CRS.EPSG3857%2C%0A%20%20%20%20%20%20%20%20%20%20%20%20%20%20%20%20%20%20%20%20zoom%3A%2011%2C%0A%20%20%20%20%20%20%20%20%20%20%20%20%20%20%20%20%20%20%20%20zoomControl%3A%20true%2C%0A%20%20%20%20%20%20%20%20%20%20%20%20%20%20%20%20%20%20%20%20preferCanvas%3A%20false%2C%0A%20%20%20%20%20%20%20%20%20%20%20%20%20%20%20%20%7D%0A%20%20%20%20%20%20%20%20%20%20%20%20%29%3B%0A%0A%20%20%20%20%20%20%20%20%20%20%20%20%0A%0A%20%20%20%20%20%20%20%20%0A%20%20%20%20%0A%20%20%20%20%20%20%20%20%20%20%20%20var%20tile_layer_c39c0280065d46c3a0befb383040e82c%20%3D%20L.tileLayer%28%0A%20%20%20%20%20%20%20%20%20%20%20%20%20%20%20%20%22https%3A//%7Bs%7D.tile.openstreetmap.org/%7Bz%7D/%7Bx%7D/%7By%7D.png%22%2C%0A%20%20%20%20%20%20%20%20%20%20%20%20%20%20%20%20%7B%22attribution%22%3A%20%22Data%20by%20%5Cu0026copy%3B%20%5Cu003ca%20href%3D%5C%22http%3A//openstreetmap.org%5C%22%5Cu003eOpenStreetMap%5Cu003c/a%5Cu003e%2C%20under%20%5Cu003ca%20href%3D%5C%22http%3A//www.openstreetmap.org/copyright%5C%22%5Cu003eODbL%5Cu003c/a%5Cu003e.%22%2C%20%22detectRetina%22%3A%20false%2C%20%22maxNativeZoom%22%3A%2018%2C%20%22maxZoom%22%3A%2018%2C%20%22minZoom%22%3A%200%2C%20%22noWrap%22%3A%20false%2C%20%22opacity%22%3A%201%2C%20%22subdomains%22%3A%20%22abc%22%2C%20%22tms%22%3A%20false%7D%0A%20%20%20%20%20%20%20%20%20%20%20%20%29.addTo%28map_22aa67844f594066b3f43a8f0d89f05c%29%3B%0A%20%20%20%20%20%20%20%20%0A%20%20%20%20%0A%20%20%20%20%20%20%20%20%20%20%20%20var%20circle_6a5d93869e3c42698cdebad267a64b75%20%3D%20L.circle%28%0A%20%20%20%20%20%20%20%20%20%20%20%20%20%20%20%20%5B38.8590864667263%2C%20-76.98226646359274%5D%2C%0A%20%20%20%20%20%20%20%20%20%20%20%20%20%20%20%20%7B%22bubblingMouseEvents%22%3A%20true%2C%20%22color%22%3A%20%22red%22%2C%20%22dashArray%22%3A%20null%2C%20%22dashOffset%22%3A%20null%2C%20%22fill%22%3A%20true%2C%20%22fillColor%22%3A%20%22red%22%2C%20%22fillOpacity%22%3A%200.2%2C%20%22fillRule%22%3A%20%22evenodd%22%2C%20%22lineCap%22%3A%20%22round%22%2C%20%22lineJoin%22%3A%20%22round%22%2C%20%22opacity%22%3A%201.0%2C%20%22radius%22%3A%20392.14530015331997%2C%20%22stroke%22%3A%20true%2C%20%22weight%22%3A%203%7D%0A%20%20%20%20%20%20%20%20%20%20%20%20%29.addTo%28map_22aa67844f594066b3f43a8f0d89f05c%29%3B%0A%20%20%20%20%20%20%20%20%0A%20%20%20%20%0A%20%20%20%20%20%20%20%20%20%20%20%20var%20circle_02b9485d0b734628a8a2fef75f692eb7%20%3D%20L.circle%28%0A%20%20%20%20%20%20%20%20%20%20%20%20%20%20%20%20%5B38.90853537695973%2C%20-77.04215840586745%5D%2C%0A%20%20%20%20%20%20%20%20%20%20%20%20%20%20%20%20%7B%22bubblingMouseEvents%22%3A%20true%2C%20%22color%22%3A%20%22red%22%2C%20%22dashArray%22%3A%20null%2C%20%22dashOffset%22%3A%20null%2C%20%22fill%22%3A%20true%2C%20%22fillColor%22%3A%20%22red%22%2C%20%22fillOpacity%22%3A%200.2%2C%20%22fillRule%22%3A%20%22evenodd%22%2C%20%22lineCap%22%3A%20%22round%22%2C%20%22lineJoin%22%3A%20%22round%22%2C%20%22opacity%22%3A%201.0%2C%20%22radius%22%3A%20904.2929590753627%2C%20%22stroke%22%3A%20true%2C%20%22weight%22%3A%203%7D%0A%20%20%20%20%20%20%20%20%20%20%20%20%29.addTo%28map_22aa67844f594066b3f43a8f0d89f05c%29%3B%0A%20%20%20%20%20%20%20%20%0A%20%20%20%20%0A%20%20%20%20%20%20%20%20%20%20%20%20var%20circle_cc5c09c068b64607b8751dc9b3394e9e%20%3D%20L.circle%28%0A%20%20%20%20%20%20%20%20%20%20%20%20%20%20%20%20%5B38.906283463556825%2C%20-77.00455101613042%5D%2C%0A%20%20%20%20%20%20%20%20%20%20%20%20%20%20%20%20%7B%22bubblingMouseEvents%22%3A%20true%2C%20%22color%22%3A%20%22red%22%2C%20%22dashArray%22%3A%20null%2C%20%22dashOffset%22%3A%20null%2C%20%22fill%22%3A%20true%2C%20%22fillColor%22%3A%20%22red%22%2C%20%22fillOpacity%22%3A%200.2%2C%20%22fillRule%22%3A%20%22evenodd%22%2C%20%22lineCap%22%3A%20%22round%22%2C%20%22lineJoin%22%3A%20%22round%22%2C%20%22opacity%22%3A%201.0%2C%20%22radius%22%3A%20682.2738530487085%2C%20%22stroke%22%3A%20true%2C%20%22weight%22%3A%203%7D%0A%20%20%20%20%20%20%20%20%20%20%20%20%29.addTo%28map_22aa67844f594066b3f43a8f0d89f05c%29%3B%0A%20%20%20%20%20%20%20%20%0A%20%20%20%20%0A%20%20%20%20%20%20%20%20%20%20%20%20var%20circle_f2f4bfc008764807ace1c420dcd18505%20%3D%20L.circle%28%0A%20%20%20%20%20%20%20%20%20%20%20%20%20%20%20%20%5B38.96949128677709%2C%20-77.02613170601082%5D%2C%0A%20%20%20%20%20%20%20%20%20%20%20%20%20%20%20%20%7B%22bubblingMouseEvents%22%3A%20true%2C%20%22color%22%3A%20%22red%22%2C%20%22dashArray%22%3A%20null%2C%20%22dashOffset%22%3A%20null%2C%20%22fill%22%3A%20true%2C%20%22fillColor%22%3A%20%22red%22%2C%20%22fillOpacity%22%3A%200.2%2C%20%22fillRule%22%3A%20%22evenodd%22%2C%20%22lineCap%22%3A%20%22round%22%2C%20%22lineJoin%22%3A%20%22round%22%2C%20%22opacity%22%3A%201.0%2C%20%22radius%22%3A%20419.5659865550183%2C%20%22stroke%22%3A%20true%2C%20%22weight%22%3A%203%7D%0A%20%20%20%20%20%20%20%20%20%20%20%20%29.addTo%28map_22aa67844f594066b3f43a8f0d89f05c%29%3B%0A%20%20%20%20%20%20%20%20%0A%20%20%20%20%0A%20%20%20%20%20%20%20%20%20%20%20%20var%20circle_a807c0c72b434abfb47d83dfbb26a791%20%3D%20L.circle%28%0A%20%20%20%20%20%20%20%20%20%20%20%20%20%20%20%20%5B38.892909508833185%2C%20-76.94812150367288%5D%2C%0A%20%20%20%20%20%20%20%20%20%20%20%20%20%20%20%20%7B%22bubblingMouseEvents%22%3A%20true%2C%20%22color%22%3A%20%22red%22%2C%20%22dashArray%22%3A%20null%2C%20%22dashOffset%22%3A%20null%2C%20%22fill%22%3A%20true%2C%20%22fillColor%22%3A%20%22red%22%2C%20%22fillOpacity%22%3A%200.2%2C%20%22fillRule%22%3A%20%22evenodd%22%2C%20%22lineCap%22%3A%20%22round%22%2C%20%22lineJoin%22%3A%20%22round%22%2C%20%22opacity%22%3A%201.0%2C%20%22radius%22%3A%20383.29991744309467%2C%20%22stroke%22%3A%20true%2C%20%22weight%22%3A%203%7D%0A%20%20%20%20%20%20%20%20%20%20%20%20%29.addTo%28map_22aa67844f594066b3f43a8f0d89f05c%29%3B%0A%20%20%20%20%20%20%20%20%0A%20%20%20%20%0A%20%20%20%20%20%20%20%20%20%20%20%20var%20circle_1d210b9f8be347cf86899dbf223497db%20%3D%20L.circle%28%0A%20%20%20%20%20%20%20%20%20%20%20%20%20%20%20%20%5B38.93233245333851%2C%20-77.06805830663195%5D%2C%0A%20%20%20%20%20%20%20%20%20%20%20%20%20%20%20%20%7B%22bubblingMouseEvents%22%3A%20true%2C%20%22color%22%3A%20%22red%22%2C%20%22dashArray%22%3A%20null%2C%20%22dashOffset%22%3A%20null%2C%20%22fill%22%3A%20true%2C%20%22fillColor%22%3A%20%22red%22%2C%20%22fillOpacity%22%3A%200.2%2C%20%22fillRule%22%3A%20%22evenodd%22%2C%20%22lineCap%22%3A%20%22round%22%2C%20%22lineJoin%22%3A%20%22round%22%2C%20%22opacity%22%3A%201.0%2C%20%22radius%22%3A%20292.48732161811535%2C%20%22stroke%22%3A%20true%2C%20%22weight%22%3A%203%7D%0A%20%20%20%20%20%20%20%20%20%20%20%20%29.addTo%28map_22aa67844f594066b3f43a8f0d89f05c%29%3B%0A%20%20%20%20%20%20%20%20%0A%20%20%20%20%0A%20%20%20%20%20%20%20%20%20%20%20%20var%20circle_8c1de221d70c48d993472361dcc63cd6%20%3D%20L.circle%28%0A%20%20%20%20%20%20%20%20%20%20%20%20%20%20%20%20%5B38.932710141291146%2C%20-77.0307758951931%5D%2C%0A%20%20%20%20%20%20%20%20%20%20%20%20%20%20%20%20%7B%22bubblingMouseEvents%22%3A%20true%2C%20%22color%22%3A%20%22red%22%2C%20%22dashArray%22%3A%20null%2C%20%22dashOffset%22%3A%20null%2C%20%22fill%22%3A%20true%2C%20%22fillColor%22%3A%20%22red%22%2C%20%22fillOpacity%22%3A%200.2%2C%20%22fillRule%22%3A%20%22evenodd%22%2C%20%22lineCap%22%3A%20%22round%22%2C%20%22lineJoin%22%3A%20%22round%22%2C%20%22opacity%22%3A%201.0%2C%20%22radius%22%3A%20935.8414907418328%2C%20%22stroke%22%3A%20true%2C%20%22weight%22%3A%203%7D%0A%20%20%20%20%20%20%20%20%20%20%20%20%29.addTo%28map_22aa67844f594066b3f43a8f0d89f05c%29%3B%0A%20%20%20%20%20%20%20%20%0A%20%20%20%20%0A%20%20%20%20%20%20%20%20%20%20%20%20var%20circle_d16c3178599a49d080e23c2164ac0a5d%20%3D%20L.circle%28%0A%20%20%20%20%20%20%20%20%20%20%20%20%20%20%20%20%5B38.86441974445363%2C%20-76.96233691187305%5D%2C%0A%20%20%20%20%20%20%20%20%20%20%20%20%20%20%20%20%7B%22bubblingMouseEvents%22%3A%20true%2C%20%22color%22%3A%20%22red%22%2C%20%22dashArray%22%3A%20null%2C%20%22dashOffset%22%3A%20null%2C%20%22fill%22%3A%20true%2C%20%22fillColor%22%3A%20%22red%22%2C%20%22fillOpacity%22%3A%200.2%2C%20%22fillRule%22%3A%20%22evenodd%22%2C%20%22lineCap%22%3A%20%22round%22%2C%20%22lineJoin%22%3A%20%22round%22%2C%20%22opacity%22%3A%201.0%2C%20%22radius%22%3A%20335.5348508078783%2C%20%22stroke%22%3A%20true%2C%20%22weight%22%3A%203%7D%0A%20%20%20%20%20%20%20%20%20%20%20%20%29.addTo%28map_22aa67844f594066b3f43a8f0d89f05c%29%3B%0A%20%20%20%20%20%20%20%20%0A%20%20%20%20%0A%20%20%20%20%20%20%20%20%20%20%20%20var%20circle_ff4121212e3e4ec1881c81c4bd96b406%20%3D%20L.circle%28%0A%20%20%20%20%20%20%20%20%20%20%20%20%20%20%20%20%5B38.901024490930226%2C%20-77.02542712047087%5D%2C%0A%20%20%20%20%20%20%20%20%20%20%20%20%20%20%20%20%7B%22bubblingMouseEvents%22%3A%20true%2C%20%22color%22%3A%20%22red%22%2C%20%22dashArray%22%3A%20null%2C%20%22dashOffset%22%3A%20null%2C%20%22fill%22%3A%20true%2C%20%22fillColor%22%3A%20%22red%22%2C%20%22fillOpacity%22%3A%200.2%2C%20%22fillRule%22%3A%20%22evenodd%22%2C%20%22lineCap%22%3A%20%22round%22%2C%20%22lineJoin%22%3A%20%22round%22%2C%20%22opacity%22%3A%201.0%2C%20%22radius%22%3A%20867.1423516924165%2C%20%22stroke%22%3A%20true%2C%20%22weight%22%3A%203%7D%0A%20%20%20%20%20%20%20%20%20%20%20%20%29.addTo%28map_22aa67844f594066b3f43a8f0d89f05c%29%3B%0A%20%20%20%20%20%20%20%20%0A%20%20%20%20%0A%20%20%20%20%20%20%20%20%20%20%20%20var%20circle_00c89d0a95da45fcab181999ac41bc3e%20%3D%20L.circle%28%0A%20%20%20%20%20%20%20%20%20%20%20%20%20%20%20%20%5B38.902763080221206%2C%20-76.9831680071104%5D%2C%0A%20%20%20%20%20%20%20%20%20%20%20%20%20%20%20%20%7B%22bubblingMouseEvents%22%3A%20true%2C%20%22color%22%3A%20%22red%22%2C%20%22dashArray%22%3A%20null%2C%20%22dashOffset%22%3A%20null%2C%20%22fill%22%3A%20true%2C%20%22fillColor%22%3A%20%22red%22%2C%20%22fillOpacity%22%3A%200.2%2C%20%22fillRule%22%3A%20%22evenodd%22%2C%20%22lineCap%22%3A%20%22round%22%2C%20%22lineJoin%22%3A%20%22round%22%2C%20%22opacity%22%3A%201.0%2C%20%22radius%22%3A%20621.5355584384951%2C%20%22stroke%22%3A%20true%2C%20%22weight%22%3A%203%7D%0A%20%20%20%20%20%20%20%20%20%20%20%20%29.addTo%28map_22aa67844f594066b3f43a8f0d89f05c%29%3B%0A%20%20%20%20%20%20%20%20%0A%20%20%20%20%0A%20%20%20%20%20%20%20%20%20%20%20%20var%20circle_9ae17d66335348e080b924064cb16f41%20%3D%20L.circle%28%0A%20%20%20%20%20%20%20%20%20%20%20%20%20%20%20%20%5B38.92725686610638%2C%20-76.99190313299941%5D%2C%0A%20%20%20%20%20%20%20%20%20%20%20%20%20%20%20%20%7B%22bubblingMouseEvents%22%3A%20true%2C%20%22color%22%3A%20%22red%22%2C%20%22dashArray%22%3A%20null%2C%20%22dashOffset%22%3A%20null%2C%20%22fill%22%3A%20true%2C%20%22fillColor%22%3A%20%22red%22%2C%20%22fillOpacity%22%3A%200.2%2C%20%22fillRule%22%3A%20%22evenodd%22%2C%20%22lineCap%22%3A%20%22round%22%2C%20%22lineJoin%22%3A%20%22round%22%2C%20%22opacity%22%3A%201.0%2C%20%22radius%22%3A%20452.58874867319264%2C%20%22stroke%22%3A%20true%2C%20%22weight%22%3A%203%7D%0A%20%20%20%20%20%20%20%20%20%20%20%20%29.addTo%28map_22aa67844f594066b3f43a8f0d89f05c%29%3B%0A%20%20%20%20%20%20%20%20%0A%20%20%20%20%0A%20%20%20%20%20%20%20%20%20%20%20%20var%20circle_116cedc72f5b45ed8e66b77d210c465b%20%3D%20L.circle%28%0A%20%20%20%20%20%20%20%20%20%20%20%20%20%20%20%20%5B38.878964719358315%2C%20-77.01503467878048%5D%2C%0A%20%20%20%20%20%20%20%20%20%20%20%20%20%20%20%20%7B%22bubblingMouseEvents%22%3A%20true%2C%20%22color%22%3A%20%22red%22%2C%20%22dashArray%22%3A%20null%2C%20%22dashOffset%22%3A%20null%2C%20%22fill%22%3A%20true%2C%20%22fillColor%22%3A%20%22red%22%2C%20%22fillOpacity%22%3A%200.2%2C%20%22fillRule%22%3A%20%22evenodd%22%2C%20%22lineCap%22%3A%20%22round%22%2C%20%22lineJoin%22%3A%20%22round%22%2C%20%22opacity%22%3A%201.0%2C%20%22radius%22%3A%20265.9511734874396%2C%20%22stroke%22%3A%20true%2C%20%22weight%22%3A%203%7D%0A%20%20%20%20%20%20%20%20%20%20%20%20%29.addTo%28map_22aa67844f594066b3f43a8f0d89f05c%29%3B%0A%20%20%20%20%20%20%20%20%0A%20%20%20%20%0A%20%20%20%20%20%20%20%20%20%20%20%20var%20circle_b83e1bb92d66497883915f7c34ff774b%20%3D%20L.circle%28%0A%20%20%20%20%20%20%20%20%20%20%20%20%20%20%20%20%5B38.894177894581865%2C%20-76.92804441040543%5D%2C%0A%20%20%20%20%20%20%20%20%20%20%20%20%20%20%20%20%7B%22bubblingMouseEvents%22%3A%20true%2C%20%22color%22%3A%20%22red%22%2C%20%22dashArray%22%3A%20null%2C%20%22dashOffset%22%3A%20null%2C%20%22fill%22%3A%20true%2C%20%22fillColor%22%3A%20%22red%22%2C%20%22fillOpacity%22%3A%200.2%2C%20%22fillRule%22%3A%20%22evenodd%22%2C%20%22lineCap%22%3A%20%22round%22%2C%20%22lineJoin%22%3A%20%22round%22%2C%20%22opacity%22%3A%201.0%2C%20%22radius%22%3A%20428.1165231749027%2C%20%22stroke%22%3A%20true%2C%20%22weight%22%3A%203%7D%0A%20%20%20%20%20%20%20%20%20%20%20%20%29.addTo%28map_22aa67844f594066b3f43a8f0d89f05c%29%3B%0A%20%20%20%20%20%20%20%20%0A%20%20%20%20%0A%20%20%20%20%20%20%20%20%20%20%20%20var%20circle_ee6b1d6ddee24c16b4111174afb367c2%20%3D%20L.circle%28%0A%20%20%20%20%20%20%20%20%20%20%20%20%20%20%20%20%5B38.83368974152826%2C%20-76.99954651779171%5D%2C%0A%20%20%20%20%20%20%20%20%20%20%20%20%20%20%20%20%7B%22bubblingMouseEvents%22%3A%20true%2C%20%22color%22%3A%20%22red%22%2C%20%22dashArray%22%3A%20null%2C%20%22dashOffset%22%3A%20null%2C%20%22fill%22%3A%20true%2C%20%22fillColor%22%3A%20%22red%22%2C%20%22fillOpacity%22%3A%200.2%2C%20%22fillRule%22%3A%20%22evenodd%22%2C%20%22lineCap%22%3A%20%22round%22%2C%20%22lineJoin%22%3A%20%22round%22%2C%20%22opacity%22%3A%201.0%2C%20%22radius%22%3A%20327.57400636867555%2C%20%22stroke%22%3A%20true%2C%20%22weight%22%3A%203%7D%0A%20%20%20%20%20%20%20%20%20%20%20%20%29.addTo%28map_22aa67844f594066b3f43a8f0d89f05c%29%3B%0A%20%20%20%20%20%20%20%20%0A%20%20%20%20%0A%20%20%20%20%20%20%20%20%20%20%20%20var%20circle_4f02b46e567e4cef8847dc786d2d30da%20%3D%20L.circle%28%0A%20%20%20%20%20%20%20%20%20%20%20%20%20%20%20%20%5B38.884702962067884%2C%20-76.9918058622573%5D%2C%0A%20%20%20%20%20%20%20%20%20%20%20%20%20%20%20%20%7B%22bubblingMouseEvents%22%3A%20true%2C%20%22color%22%3A%20%22red%22%2C%20%22dashArray%22%3A%20null%2C%20%22dashOffset%22%3A%20null%2C%20%22fill%22%3A%20true%2C%20%22fillColor%22%3A%20%22red%22%2C%20%22fillOpacity%22%3A%200.2%2C%20%22fillRule%22%3A%20%22evenodd%22%2C%20%22lineCap%22%3A%20%22round%22%2C%20%22lineJoin%22%3A%20%22round%22%2C%20%22opacity%22%3A%201.0%2C%20%22radius%22%3A%20517.7497346385187%2C%20%22stroke%22%3A%20true%2C%20%22weight%22%3A%203%7D%0A%20%20%20%20%20%20%20%20%20%20%20%20%29.addTo%28map_22aa67844f594066b3f43a8f0d89f05c%29%3B%0A%20%20%20%20%20%20%20%20%0A%20%20%20%20%0A%20%20%20%20%20%20%20%20%20%20%20%20var%20circle_2351f5b6834a417b964e024fa0873182%20%3D%20L.circle%28%0A%20%20%20%20%20%20%20%20%20%20%20%20%20%20%20%20%5B38.92477332468787%2C%20-76.96670691962323%5D%2C%0A%20%20%20%20%20%20%20%20%20%20%20%20%20%20%20%20%7B%22bubblingMouseEvents%22%3A%20true%2C%20%22color%22%3A%20%22red%22%2C%20%22dashArray%22%3A%20null%2C%20%22dashOffset%22%3A%20null%2C%20%22fill%22%3A%20true%2C%20%22fillColor%22%3A%20%22red%22%2C%20%22fillOpacity%22%3A%200.2%2C%20%22fillRule%22%3A%20%22evenodd%22%2C%20%22lineCap%22%3A%20%22round%22%2C%20%22lineJoin%22%3A%20%22round%22%2C%20%22opacity%22%3A%201.0%2C%20%22radius%22%3A%20289.24401462436606%2C%20%22stroke%22%3A%20true%2C%20%22weight%22%3A%203%7D%0A%20%20%20%20%20%20%20%20%20%20%20%20%29.addTo%28map_22aa67844f594066b3f43a8f0d89f05c%29%3B%0A%20%20%20%20%20%20%20%20%0A%20%20%20%20%0A%20%20%20%20%20%20%20%20%20%20%20%20var%20circle_b75ab448a8ec41e3bd803612ac7c4a19%20%3D%20L.circle%28%0A%20%20%20%20%20%20%20%20%20%20%20%20%20%20%20%20%5B38.906439711937175%2C%20-77.06312207501738%5D%2C%0A%20%20%20%20%20%20%20%20%20%20%20%20%20%20%20%20%7B%22bubblingMouseEvents%22%3A%20true%2C%20%22color%22%3A%20%22red%22%2C%20%22dashArray%22%3A%20null%2C%20%22dashOffset%22%3A%20null%2C%20%22fill%22%3A%20true%2C%20%22fillColor%22%3A%20%22red%22%2C%20%22fillOpacity%22%3A%200.2%2C%20%22fillRule%22%3A%20%22evenodd%22%2C%20%22lineCap%22%3A%20%22round%22%2C%20%22lineJoin%22%3A%20%22round%22%2C%20%22opacity%22%3A%201.0%2C%20%22radius%22%3A%20388.6071470692298%2C%20%22stroke%22%3A%20true%2C%20%22weight%22%3A%203%7D%0A%20%20%20%20%20%20%20%20%20%20%20%20%29.addTo%28map_22aa67844f594066b3f43a8f0d89f05c%29%3B%0A%20%20%20%20%20%20%20%20%0A%20%20%20%20%0A%20%20%20%20%20%20%20%20%20%20%20%20var%20circle_3183b2e0828b43c1b057355d913def1e%20%3D%20L.circle%28%0A%20%20%20%20%20%20%20%20%20%20%20%20%20%20%20%20%5B38.95487744717393%2C%20-77.07983789127627%5D%2C%0A%20%20%20%20%20%20%20%20%20%20%20%20%20%20%20%20%7B%22bubblingMouseEvents%22%3A%20true%2C%20%22color%22%3A%20%22red%22%2C%20%22dashArray%22%3A%20null%2C%20%22dashOffset%22%3A%20null%2C%20%22fill%22%3A%20true%2C%20%22fillColor%22%3A%20%22red%22%2C%20%22fillOpacity%22%3A%200.2%2C%20%22fillRule%22%3A%20%22evenodd%22%2C%20%22lineCap%22%3A%20%22round%22%2C%20%22lineJoin%22%3A%20%22round%22%2C%20%22opacity%22%3A%201.0%2C%20%22radius%22%3A%20301.9223965090223%2C%20%22stroke%22%3A%20true%2C%20%22weight%22%3A%203%7D%0A%20%20%20%20%20%20%20%20%20%20%20%20%29.addTo%28map_22aa67844f594066b3f43a8f0d89f05c%29%3B%0A%20%20%20%20%20%20%20%20%0A%20%20%20%20%0A%20%20%20%20%20%20%20%20%20%20%20%20var%20circle_73a7580777e44389a3a72ee04544906c%20%3D%20L.circle%28%0A%20%20%20%20%20%20%20%20%20%20%20%20%20%20%20%20%5B38.953225046888285%2C%20-77.00638956878385%5D%2C%0A%20%20%20%20%20%20%20%20%20%20%20%20%20%20%20%20%7B%22bubblingMouseEvents%22%3A%20true%2C%20%22color%22%3A%20%22red%22%2C%20%22dashArray%22%3A%20null%2C%20%22dashOffset%22%3A%20null%2C%20%22fill%22%3A%20true%2C%20%22fillColor%22%3A%20%22red%22%2C%20%22fillOpacity%22%3A%200.2%2C%20%22fillRule%22%3A%20%22evenodd%22%2C%20%22lineCap%22%3A%20%22round%22%2C%20%22lineJoin%22%3A%20%22round%22%2C%20%22opacity%22%3A%201.0%2C%20%22radius%22%3A%20271.8480952942564%2C%20%22stroke%22%3A%20true%2C%20%22weight%22%3A%203%7D%0A%20%20%20%20%20%20%20%20%20%20%20%20%29.addTo%28map_22aa67844f594066b3f43a8f0d89f05c%29%3B%0A%20%20%20%20%20%20%20%20%0A%20%20%20%20%0A%20%20%20%20%20%20%20%20%20%20%20%20var%20circle_54326aa3c743493488bb26847463f8b2%20%3D%20L.circle%28%0A%20%20%20%20%20%20%20%20%20%20%20%20%20%20%20%20%5B38.916353840619536%2C%20-77.02570074679632%5D%2C%0A%20%20%20%20%20%20%20%20%20%20%20%20%20%20%20%20%7B%22bubblingMouseEvents%22%3A%20true%2C%20%22color%22%3A%20%22red%22%2C%20%22dashArray%22%3A%20null%2C%20%22dashOffset%22%3A%20null%2C%20%22fill%22%3A%20true%2C%20%22fillColor%22%3A%20%22red%22%2C%20%22fillOpacity%22%3A%200.2%2C%20%22fillRule%22%3A%20%22evenodd%22%2C%20%22lineCap%22%3A%20%22round%22%2C%20%22lineJoin%22%3A%20%22round%22%2C%20%22opacity%22%3A%201.0%2C%20%22radius%22%3A%20922.278570586154%2C%20%22stroke%22%3A%20true%2C%20%22weight%22%3A%203%7D%0A%20%20%20%20%20%20%20%20%20%20%20%20%29.addTo%28map_22aa67844f594066b3f43a8f0d89f05c%29%3B%0A%20%20%20%20%20%20%20%20%0A%3C/script%3E onload=\"this.contentDocument.open();this.contentDocument.write(    decodeURIComponent(this.getAttribute('data-html')));this.contentDocument.close();\" allowfullscreen webkitallowfullscreen mozallowfullscreen></iframe></div></div>"
      ],
      "text/plain": [
       "<folium.folium.Map at 0x7fedbb093400>"
      ]
     },
     "execution_count": 28,
     "metadata": {},
     "output_type": "execute_result"
    }
   ],
   "source": [
    "map_osm = folium.Map(location=[38.9072, -77.0369], zoom_start=11)\n",
    "for i in range(number_of_clusters):\n",
    "    folium.Circle(\n",
    "        radius =crime_density[i]*10000,\n",
    "        location=[kmeans.cluster_centers_[i][0],kmeans.cluster_centers_[i][1]],\n",
    "        color=\"red\",\n",
    "    fill=True,\n",
    "    ).add_to(map_osm)# add circle to the map   \n",
    "map_osm"
   ]
  }
 ],
 "metadata": {
  "kernelspec": {
   "display_name": "Python 3",
   "language": "python",
   "name": "python3"
  },
  "language_info": {
   "codemirror_mode": {
    "name": "ipython",
    "version": 3
   },
   "file_extension": ".py",
   "mimetype": "text/x-python",
   "name": "python",
   "nbconvert_exporter": "python",
   "pygments_lexer": "ipython3",
   "version": "3.8.8"
  }
 },
 "nbformat": 4,
 "nbformat_minor": 5
}
