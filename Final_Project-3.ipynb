{
 "cells": [
  {
   "cell_type": "code",
   "execution_count": 53,
   "id": "aff023bf",
   "metadata": {},
   "outputs": [],
   "source": [
    "import folium\n",
    "import requests\n",
    "import pandas\n",
    "import numpy as np\n",
    "from matplotlib import pyplot as plt \n",
    "from sklearn.cluster import KMeans\n",
    "import datetime\n",
    "from datetime import date\n",
    "import calendar\n",
    "import warnings\n",
    "import seaborn as sns\n",
    "warnings.filterwarnings('ignore')"
   ]
  },
  {
   "cell_type": "markdown",
   "id": "05a75719",
   "metadata": {},
   "source": [
    "# Intro"
   ]
  },
  {
   "cell_type": "markdown",
   "id": "fc041777",
   "metadata": {},
   "source": [
    "explanation of project\n",
    "data lifecycle\n",
    "\n",
    "\n",
    "#### Reasources need for project\n",
    "1. numpy- \n",
    "2. pandas-\n",
    "3. matplotlib-\n",
    "4. seaborn- \n",
    "5. datetime-\n",
    "6. Voilin Plot-\n",
    "7. Follium- \n",
    "8. KMEANS- \n"
   ]
  },
  {
   "cell_type": "code",
   "execution_count": 54,
   "id": "65e98ee1",
   "metadata": {},
   "outputs": [
    {
     "data": {
      "text/html": [
       "<div style=\"width:100%;\"><div style=\"position:relative;width:100%;height:0;padding-bottom:60%;\"><span style=\"color:#565656\">Make this Notebook Trusted to load map: File -> Trust Notebook</span><iframe src=\"about:blank\" style=\"position:absolute;width:100%;height:100%;left:0;top:0;border:none !important;\" data-html=%3C%21DOCTYPE%20html%3E%0A%3Chead%3E%20%20%20%20%0A%20%20%20%20%3Cmeta%20http-equiv%3D%22content-type%22%20content%3D%22text/html%3B%20charset%3DUTF-8%22%20/%3E%0A%20%20%20%20%0A%20%20%20%20%20%20%20%20%3Cscript%3E%0A%20%20%20%20%20%20%20%20%20%20%20%20L_NO_TOUCH%20%3D%20false%3B%0A%20%20%20%20%20%20%20%20%20%20%20%20L_DISABLE_3D%20%3D%20false%3B%0A%20%20%20%20%20%20%20%20%3C/script%3E%0A%20%20%20%20%0A%20%20%20%20%3Cstyle%3Ehtml%2C%20body%20%7Bwidth%3A%20100%25%3Bheight%3A%20100%25%3Bmargin%3A%200%3Bpadding%3A%200%3B%7D%3C/style%3E%0A%20%20%20%20%3Cstyle%3E%23map%20%7Bposition%3Aabsolute%3Btop%3A0%3Bbottom%3A0%3Bright%3A0%3Bleft%3A0%3B%7D%3C/style%3E%0A%20%20%20%20%3Cscript%20src%3D%22https%3A//cdn.jsdelivr.net/npm/leaflet%401.6.0/dist/leaflet.js%22%3E%3C/script%3E%0A%20%20%20%20%3Cscript%20src%3D%22https%3A//code.jquery.com/jquery-1.12.4.min.js%22%3E%3C/script%3E%0A%20%20%20%20%3Cscript%20src%3D%22https%3A//maxcdn.bootstrapcdn.com/bootstrap/3.2.0/js/bootstrap.min.js%22%3E%3C/script%3E%0A%20%20%20%20%3Cscript%20src%3D%22https%3A//cdnjs.cloudflare.com/ajax/libs/Leaflet.awesome-markers/2.0.2/leaflet.awesome-markers.js%22%3E%3C/script%3E%0A%20%20%20%20%3Clink%20rel%3D%22stylesheet%22%20href%3D%22https%3A//cdn.jsdelivr.net/npm/leaflet%401.6.0/dist/leaflet.css%22/%3E%0A%20%20%20%20%3Clink%20rel%3D%22stylesheet%22%20href%3D%22https%3A//maxcdn.bootstrapcdn.com/bootstrap/3.2.0/css/bootstrap.min.css%22/%3E%0A%20%20%20%20%3Clink%20rel%3D%22stylesheet%22%20href%3D%22https%3A//maxcdn.bootstrapcdn.com/bootstrap/3.2.0/css/bootstrap-theme.min.css%22/%3E%0A%20%20%20%20%3Clink%20rel%3D%22stylesheet%22%20href%3D%22https%3A//maxcdn.bootstrapcdn.com/font-awesome/4.6.3/css/font-awesome.min.css%22/%3E%0A%20%20%20%20%3Clink%20rel%3D%22stylesheet%22%20href%3D%22https%3A//cdnjs.cloudflare.com/ajax/libs/Leaflet.awesome-markers/2.0.2/leaflet.awesome-markers.css%22/%3E%0A%20%20%20%20%3Clink%20rel%3D%22stylesheet%22%20href%3D%22https%3A//cdn.jsdelivr.net/gh/python-visualization/folium/folium/templates/leaflet.awesome.rotate.min.css%22/%3E%0A%20%20%20%20%0A%20%20%20%20%20%20%20%20%20%20%20%20%3Cmeta%20name%3D%22viewport%22%20content%3D%22width%3Ddevice-width%2C%0A%20%20%20%20%20%20%20%20%20%20%20%20%20%20%20%20initial-scale%3D1.0%2C%20maximum-scale%3D1.0%2C%20user-scalable%3Dno%22%20/%3E%0A%20%20%20%20%20%20%20%20%20%20%20%20%3Cstyle%3E%0A%20%20%20%20%20%20%20%20%20%20%20%20%20%20%20%20%23map_caf31b417f214d6fbe7673064e1a83f3%20%7B%0A%20%20%20%20%20%20%20%20%20%20%20%20%20%20%20%20%20%20%20%20position%3A%20relative%3B%0A%20%20%20%20%20%20%20%20%20%20%20%20%20%20%20%20%20%20%20%20width%3A%20100.0%25%3B%0A%20%20%20%20%20%20%20%20%20%20%20%20%20%20%20%20%20%20%20%20height%3A%20100.0%25%3B%0A%20%20%20%20%20%20%20%20%20%20%20%20%20%20%20%20%20%20%20%20left%3A%200.0%25%3B%0A%20%20%20%20%20%20%20%20%20%20%20%20%20%20%20%20%20%20%20%20top%3A%200.0%25%3B%0A%20%20%20%20%20%20%20%20%20%20%20%20%20%20%20%20%7D%0A%20%20%20%20%20%20%20%20%20%20%20%20%3C/style%3E%0A%20%20%20%20%20%20%20%20%0A%3C/head%3E%0A%3Cbody%3E%20%20%20%20%0A%20%20%20%20%0A%20%20%20%20%20%20%20%20%20%20%20%20%3Cdiv%20class%3D%22folium-map%22%20id%3D%22map_caf31b417f214d6fbe7673064e1a83f3%22%20%3E%3C/div%3E%0A%20%20%20%20%20%20%20%20%0A%3C/body%3E%0A%3Cscript%3E%20%20%20%20%0A%20%20%20%20%0A%20%20%20%20%20%20%20%20%20%20%20%20var%20map_caf31b417f214d6fbe7673064e1a83f3%20%3D%20L.map%28%0A%20%20%20%20%20%20%20%20%20%20%20%20%20%20%20%20%22map_caf31b417f214d6fbe7673064e1a83f3%22%2C%0A%20%20%20%20%20%20%20%20%20%20%20%20%20%20%20%20%7B%0A%20%20%20%20%20%20%20%20%20%20%20%20%20%20%20%20%20%20%20%20center%3A%20%5B38.9072%2C%20-77.0369%5D%2C%0A%20%20%20%20%20%20%20%20%20%20%20%20%20%20%20%20%20%20%20%20crs%3A%20L.CRS.EPSG3857%2C%0A%20%20%20%20%20%20%20%20%20%20%20%20%20%20%20%20%20%20%20%20zoom%3A%2011%2C%0A%20%20%20%20%20%20%20%20%20%20%20%20%20%20%20%20%20%20%20%20zoomControl%3A%20true%2C%0A%20%20%20%20%20%20%20%20%20%20%20%20%20%20%20%20%20%20%20%20preferCanvas%3A%20false%2C%0A%20%20%20%20%20%20%20%20%20%20%20%20%20%20%20%20%7D%0A%20%20%20%20%20%20%20%20%20%20%20%20%29%3B%0A%0A%20%20%20%20%20%20%20%20%20%20%20%20%0A%0A%20%20%20%20%20%20%20%20%0A%20%20%20%20%0A%20%20%20%20%20%20%20%20%20%20%20%20var%20tile_layer_167407acfe4044b1aed8b48c00953514%20%3D%20L.tileLayer%28%0A%20%20%20%20%20%20%20%20%20%20%20%20%20%20%20%20%22https%3A//%7Bs%7D.tile.openstreetmap.org/%7Bz%7D/%7Bx%7D/%7By%7D.png%22%2C%0A%20%20%20%20%20%20%20%20%20%20%20%20%20%20%20%20%7B%22attribution%22%3A%20%22Data%20by%20%5Cu0026copy%3B%20%5Cu003ca%20href%3D%5C%22http%3A//openstreetmap.org%5C%22%5Cu003eOpenStreetMap%5Cu003c/a%5Cu003e%2C%20under%20%5Cu003ca%20href%3D%5C%22http%3A//www.openstreetmap.org/copyright%5C%22%5Cu003eODbL%5Cu003c/a%5Cu003e.%22%2C%20%22detectRetina%22%3A%20false%2C%20%22maxNativeZoom%22%3A%2018%2C%20%22maxZoom%22%3A%2018%2C%20%22minZoom%22%3A%200%2C%20%22noWrap%22%3A%20false%2C%20%22opacity%22%3A%201%2C%20%22subdomains%22%3A%20%22abc%22%2C%20%22tms%22%3A%20false%7D%0A%20%20%20%20%20%20%20%20%20%20%20%20%29.addTo%28map_caf31b417f214d6fbe7673064e1a83f3%29%3B%0A%20%20%20%20%20%20%20%20%0A%3C/script%3E onload=\"this.contentDocument.open();this.contentDocument.write(    decodeURIComponent(this.getAttribute('data-html')));this.contentDocument.close();\" allowfullscreen webkitallowfullscreen mozallowfullscreen></iframe></div></div>"
      ],
      "text/plain": [
       "<folium.folium.Map at 0x7f9167a6f130>"
      ]
     },
     "execution_count": 54,
     "metadata": {},
     "output_type": "execute_result"
    }
   ],
   "source": [
    "# Map of DC\n",
    "map_osm = folium.Map(location=[38.9072, -77.0369], zoom_start=11)\n",
    "map_osm"
   ]
  },
  {
   "cell_type": "markdown",
   "id": "14a30ae3",
   "metadata": {},
   "source": [
    "# Data Collection "
   ]
  },
  {
   "cell_type": "code",
   "execution_count": 55,
   "id": "71f46757",
   "metadata": {},
   "outputs": [
    {
     "data": {
      "text/html": [
       "<div>\n",
       "<style scoped>\n",
       "    .dataframe tbody tr th:only-of-type {\n",
       "        vertical-align: middle;\n",
       "    }\n",
       "\n",
       "    .dataframe tbody tr th {\n",
       "        vertical-align: top;\n",
       "    }\n",
       "\n",
       "    .dataframe thead th {\n",
       "        text-align: right;\n",
       "    }\n",
       "</style>\n",
       "<table border=\"1\" class=\"dataframe\">\n",
       "  <thead>\n",
       "    <tr style=\"text-align: right;\">\n",
       "      <th></th>\n",
       "      <th>X</th>\n",
       "      <th>Y</th>\n",
       "      <th>CCN</th>\n",
       "      <th>REPORT_DAT</th>\n",
       "      <th>SHIFT</th>\n",
       "      <th>METHOD</th>\n",
       "      <th>OFFENSE</th>\n",
       "      <th>BLOCK</th>\n",
       "      <th>XBLOCK</th>\n",
       "      <th>YBLOCK</th>\n",
       "      <th>...</th>\n",
       "      <th>BLOCK_GROUP</th>\n",
       "      <th>CENSUS_TRACT</th>\n",
       "      <th>VOTING_PRECINCT</th>\n",
       "      <th>LATITUDE</th>\n",
       "      <th>LONGITUDE</th>\n",
       "      <th>BID</th>\n",
       "      <th>START_DATE</th>\n",
       "      <th>END_DATE</th>\n",
       "      <th>OBJECTID</th>\n",
       "      <th>OCTO_RECORD_ID</th>\n",
       "    </tr>\n",
       "  </thead>\n",
       "  <tbody>\n",
       "    <tr>\n",
       "      <th>0</th>\n",
       "      <td>-77.029707</td>\n",
       "      <td>38.939217</td>\n",
       "      <td>19081581</td>\n",
       "      <td>2019/05/12 17:07:34+00</td>\n",
       "      <td>DAY</td>\n",
       "      <td>OTHERS</td>\n",
       "      <td>THEFT F/AUTO</td>\n",
       "      <td>3900  - 3999 BLOCK OF 13TH STREET NW</td>\n",
       "      <td>397424.68</td>\n",
       "      <td>141258.25</td>\n",
       "      <td>...</td>\n",
       "      <td>002502 1</td>\n",
       "      <td>2502.0</td>\n",
       "      <td>Precinct 47</td>\n",
       "      <td>38.939209</td>\n",
       "      <td>-77.029705</td>\n",
       "      <td>NaN</td>\n",
       "      <td>2019/05/12 03:00:54+00</td>\n",
       "      <td>2019/05/12 13:30:03+00</td>\n",
       "      <td>83121287</td>\n",
       "      <td>NaN</td>\n",
       "    </tr>\n",
       "    <tr>\n",
       "      <th>1</th>\n",
       "      <td>-77.034603</td>\n",
       "      <td>38.932575</td>\n",
       "      <td>19081589</td>\n",
       "      <td>2019/05/12 16:31:46+00</td>\n",
       "      <td>DAY</td>\n",
       "      <td>OTHERS</td>\n",
       "      <td>THEFT/OTHER</td>\n",
       "      <td>1400 - 1599 BLOCK OF NEWTON STREET NW</td>\n",
       "      <td>396999.96</td>\n",
       "      <td>140521.12</td>\n",
       "      <td>...</td>\n",
       "      <td>002801 1</td>\n",
       "      <td>2801.0</td>\n",
       "      <td>Precinct 41</td>\n",
       "      <td>38.932567</td>\n",
       "      <td>-77.034601</td>\n",
       "      <td>NaN</td>\n",
       "      <td>2019/05/12 15:30:54+00</td>\n",
       "      <td>2019/05/12 16:00:54+00</td>\n",
       "      <td>83121288</td>\n",
       "      <td>NaN</td>\n",
       "    </tr>\n",
       "    <tr>\n",
       "      <th>2</th>\n",
       "      <td>-77.085291</td>\n",
       "      <td>38.959920</td>\n",
       "      <td>19081603</td>\n",
       "      <td>2019/05/12 17:18:34+00</td>\n",
       "      <td>DAY</td>\n",
       "      <td>OTHERS</td>\n",
       "      <td>THEFT/OTHER</td>\n",
       "      <td>5300 - 5399 BLOCK OF WISCONSIN AVENUE NW</td>\n",
       "      <td>392607.98</td>\n",
       "      <td>143559.50</td>\n",
       "      <td>...</td>\n",
       "      <td>001100 2</td>\n",
       "      <td>1100.0</td>\n",
       "      <td>Precinct 32</td>\n",
       "      <td>38.959912</td>\n",
       "      <td>-77.085288</td>\n",
       "      <td>NaN</td>\n",
       "      <td>2019/05/12 16:12:47+00</td>\n",
       "      <td>NaN</td>\n",
       "      <td>83121289</td>\n",
       "      <td>NaN</td>\n",
       "    </tr>\n",
       "    <tr>\n",
       "      <th>3</th>\n",
       "      <td>-77.026511</td>\n",
       "      <td>38.897356</td>\n",
       "      <td>19081606</td>\n",
       "      <td>2019/05/12 17:39:46+00</td>\n",
       "      <td>DAY</td>\n",
       "      <td>OTHERS</td>\n",
       "      <td>THEFT/OTHER</td>\n",
       "      <td>1000 - 1099 BLOCK OF F STREET NW</td>\n",
       "      <td>397700.46</td>\n",
       "      <td>136611.23</td>\n",
       "      <td>...</td>\n",
       "      <td>005800 1</td>\n",
       "      <td>5800.0</td>\n",
       "      <td>Precinct 129</td>\n",
       "      <td>38.897348</td>\n",
       "      <td>-77.026509</td>\n",
       "      <td>DOWNTOWN</td>\n",
       "      <td>2019/05/12 17:07:36+00</td>\n",
       "      <td>NaN</td>\n",
       "      <td>83121290</td>\n",
       "      <td>NaN</td>\n",
       "    </tr>\n",
       "    <tr>\n",
       "      <th>4</th>\n",
       "      <td>-77.028233</td>\n",
       "      <td>38.957823</td>\n",
       "      <td>19081612</td>\n",
       "      <td>2019/05/12 18:26:51+00</td>\n",
       "      <td>DAY</td>\n",
       "      <td>OTHERS</td>\n",
       "      <td>BURGLARY</td>\n",
       "      <td>5600  - 5699 BLOCK OF GEORGIA AVENUE NW</td>\n",
       "      <td>397553.15</td>\n",
       "      <td>143323.63</td>\n",
       "      <td>...</td>\n",
       "      <td>002002 2</td>\n",
       "      <td>2002.0</td>\n",
       "      <td>Precinct 54</td>\n",
       "      <td>38.957815</td>\n",
       "      <td>-77.028231</td>\n",
       "      <td>NaN</td>\n",
       "      <td>2019/05/12 17:06:59+00</td>\n",
       "      <td>2019/05/12 18:00:07+00</td>\n",
       "      <td>83121291</td>\n",
       "      <td>NaN</td>\n",
       "    </tr>\n",
       "  </tbody>\n",
       "</table>\n",
       "<p>5 rows × 25 columns</p>\n",
       "</div>"
      ],
      "text/plain": [
       "           X          Y       CCN              REPORT_DAT SHIFT  METHOD  \\\n",
       "0 -77.029707  38.939217  19081581  2019/05/12 17:07:34+00   DAY  OTHERS   \n",
       "1 -77.034603  38.932575  19081589  2019/05/12 16:31:46+00   DAY  OTHERS   \n",
       "2 -77.085291  38.959920  19081603  2019/05/12 17:18:34+00   DAY  OTHERS   \n",
       "3 -77.026511  38.897356  19081606  2019/05/12 17:39:46+00   DAY  OTHERS   \n",
       "4 -77.028233  38.957823  19081612  2019/05/12 18:26:51+00   DAY  OTHERS   \n",
       "\n",
       "        OFFENSE                                     BLOCK     XBLOCK  \\\n",
       "0  THEFT F/AUTO      3900  - 3999 BLOCK OF 13TH STREET NW  397424.68   \n",
       "1   THEFT/OTHER     1400 - 1599 BLOCK OF NEWTON STREET NW  396999.96   \n",
       "2   THEFT/OTHER  5300 - 5399 BLOCK OF WISCONSIN AVENUE NW  392607.98   \n",
       "3   THEFT/OTHER          1000 - 1099 BLOCK OF F STREET NW  397700.46   \n",
       "4      BURGLARY   5600  - 5699 BLOCK OF GEORGIA AVENUE NW  397553.15   \n",
       "\n",
       "      YBLOCK  ...  BLOCK_GROUP CENSUS_TRACT  VOTING_PRECINCT   LATITUDE  \\\n",
       "0  141258.25  ...     002502 1       2502.0      Precinct 47  38.939209   \n",
       "1  140521.12  ...     002801 1       2801.0      Precinct 41  38.932567   \n",
       "2  143559.50  ...     001100 2       1100.0      Precinct 32  38.959912   \n",
       "3  136611.23  ...     005800 1       5800.0     Precinct 129  38.897348   \n",
       "4  143323.63  ...     002002 2       2002.0      Precinct 54  38.957815   \n",
       "\n",
       "   LONGITUDE       BID              START_DATE                END_DATE  \\\n",
       "0 -77.029705       NaN  2019/05/12 03:00:54+00  2019/05/12 13:30:03+00   \n",
       "1 -77.034601       NaN  2019/05/12 15:30:54+00  2019/05/12 16:00:54+00   \n",
       "2 -77.085288       NaN  2019/05/12 16:12:47+00                     NaN   \n",
       "3 -77.026509  DOWNTOWN  2019/05/12 17:07:36+00                     NaN   \n",
       "4 -77.028231       NaN  2019/05/12 17:06:59+00  2019/05/12 18:00:07+00   \n",
       "\n",
       "   OBJECTID  OCTO_RECORD_ID  \n",
       "0  83121287             NaN  \n",
       "1  83121288             NaN  \n",
       "2  83121289             NaN  \n",
       "3  83121290             NaN  \n",
       "4  83121291             NaN  \n",
       "\n",
       "[5 rows x 25 columns]"
      ]
     },
     "execution_count": 55,
     "metadata": {},
     "output_type": "execute_result"
    }
   ],
   "source": [
    "crime_data = pandas.read_csv(\"Crime_Incidents_in_2019.csv\")\n",
    "crime_data.head(5)"
   ]
  },
  {
   "cell_type": "markdown",
   "id": "ce4b71f4",
   "metadata": {},
   "source": [
    "# Data Processing\n"
   ]
  },
  {
   "cell_type": "code",
   "execution_count": 56,
   "id": "44c31137",
   "metadata": {
    "scrolled": false
   },
   "outputs": [
    {
     "data": {
      "text/html": [
       "<div>\n",
       "<style scoped>\n",
       "    .dataframe tbody tr th:only-of-type {\n",
       "        vertical-align: middle;\n",
       "    }\n",
       "\n",
       "    .dataframe tbody tr th {\n",
       "        vertical-align: top;\n",
       "    }\n",
       "\n",
       "    .dataframe thead th {\n",
       "        text-align: right;\n",
       "    }\n",
       "</style>\n",
       "<table border=\"1\" class=\"dataframe\">\n",
       "  <thead>\n",
       "    <tr style=\"text-align: right;\">\n",
       "      <th></th>\n",
       "      <th>X</th>\n",
       "      <th>Y</th>\n",
       "      <th>CCN</th>\n",
       "      <th>REPORT_DAT</th>\n",
       "      <th>SHIFT</th>\n",
       "      <th>METHOD</th>\n",
       "      <th>OFFENSE</th>\n",
       "      <th>BLOCK</th>\n",
       "      <th>XBLOCK</th>\n",
       "      <th>YBLOCK</th>\n",
       "      <th>...</th>\n",
       "      <th>VOTING_PRECINCT</th>\n",
       "      <th>LATITUDE</th>\n",
       "      <th>LONGITUDE</th>\n",
       "      <th>BID</th>\n",
       "      <th>START_DATE</th>\n",
       "      <th>END_DATE</th>\n",
       "      <th>OBJECTID</th>\n",
       "      <th>OCTO_RECORD_ID</th>\n",
       "      <th>CORDS</th>\n",
       "      <th>time</th>\n",
       "    </tr>\n",
       "  </thead>\n",
       "  <tbody>\n",
       "    <tr>\n",
       "      <th>0</th>\n",
       "      <td>-77.029707</td>\n",
       "      <td>38.939217</td>\n",
       "      <td>19081581</td>\n",
       "      <td>2019/05/12 17:07:34+00</td>\n",
       "      <td>DAY</td>\n",
       "      <td>OTHERS</td>\n",
       "      <td>THEFT F/AUTO</td>\n",
       "      <td>3900  - 3999 BLOCK OF 13TH STREET NW</td>\n",
       "      <td>397424.68</td>\n",
       "      <td>141258.25</td>\n",
       "      <td>...</td>\n",
       "      <td>Precinct 47</td>\n",
       "      <td>38.939209</td>\n",
       "      <td>-77.029705</td>\n",
       "      <td>NaN</td>\n",
       "      <td>2019/05/12 03:00:54+00</td>\n",
       "      <td>2019/05/12 13:30:03+00</td>\n",
       "      <td>83121287</td>\n",
       "      <td>NaN</td>\n",
       "      <td>[38.9392090053, -77.0297051135]</td>\n",
       "      <td>3</td>\n",
       "    </tr>\n",
       "    <tr>\n",
       "      <th>1</th>\n",
       "      <td>-77.034603</td>\n",
       "      <td>38.932575</td>\n",
       "      <td>19081589</td>\n",
       "      <td>2019/05/12 16:31:46+00</td>\n",
       "      <td>DAY</td>\n",
       "      <td>OTHERS</td>\n",
       "      <td>THEFT/OTHER</td>\n",
       "      <td>1400 - 1599 BLOCK OF NEWTON STREET NW</td>\n",
       "      <td>396999.96</td>\n",
       "      <td>140521.12</td>\n",
       "      <td>...</td>\n",
       "      <td>Precinct 41</td>\n",
       "      <td>38.932567</td>\n",
       "      <td>-77.034601</td>\n",
       "      <td>NaN</td>\n",
       "      <td>2019/05/12 15:30:54+00</td>\n",
       "      <td>2019/05/12 16:00:54+00</td>\n",
       "      <td>83121288</td>\n",
       "      <td>NaN</td>\n",
       "      <td>[38.9325673709, -77.0346008373]</td>\n",
       "      <td>15</td>\n",
       "    </tr>\n",
       "    <tr>\n",
       "      <th>2</th>\n",
       "      <td>-77.085291</td>\n",
       "      <td>38.959920</td>\n",
       "      <td>19081603</td>\n",
       "      <td>2019/05/12 17:18:34+00</td>\n",
       "      <td>DAY</td>\n",
       "      <td>OTHERS</td>\n",
       "      <td>THEFT/OTHER</td>\n",
       "      <td>5300 - 5399 BLOCK OF WISCONSIN AVENUE NW</td>\n",
       "      <td>392607.98</td>\n",
       "      <td>143559.50</td>\n",
       "      <td>...</td>\n",
       "      <td>Precinct 32</td>\n",
       "      <td>38.959912</td>\n",
       "      <td>-77.085288</td>\n",
       "      <td>NaN</td>\n",
       "      <td>2019/05/12 16:12:47+00</td>\n",
       "      <td>NaN</td>\n",
       "      <td>83121289</td>\n",
       "      <td>NaN</td>\n",
       "      <td>[38.9599119666, -77.085288276]</td>\n",
       "      <td>16</td>\n",
       "    </tr>\n",
       "    <tr>\n",
       "      <th>3</th>\n",
       "      <td>-77.026511</td>\n",
       "      <td>38.897356</td>\n",
       "      <td>19081606</td>\n",
       "      <td>2019/05/12 17:39:46+00</td>\n",
       "      <td>DAY</td>\n",
       "      <td>OTHERS</td>\n",
       "      <td>THEFT/OTHER</td>\n",
       "      <td>1000 - 1099 BLOCK OF F STREET NW</td>\n",
       "      <td>397700.46</td>\n",
       "      <td>136611.23</td>\n",
       "      <td>...</td>\n",
       "      <td>Precinct 129</td>\n",
       "      <td>38.897348</td>\n",
       "      <td>-77.026509</td>\n",
       "      <td>DOWNTOWN</td>\n",
       "      <td>2019/05/12 17:07:36+00</td>\n",
       "      <td>NaN</td>\n",
       "      <td>83121290</td>\n",
       "      <td>NaN</td>\n",
       "      <td>[38.8973478904, -77.0265085554]</td>\n",
       "      <td>17</td>\n",
       "    </tr>\n",
       "    <tr>\n",
       "      <th>4</th>\n",
       "      <td>-77.028233</td>\n",
       "      <td>38.957823</td>\n",
       "      <td>19081612</td>\n",
       "      <td>2019/05/12 18:26:51+00</td>\n",
       "      <td>DAY</td>\n",
       "      <td>OTHERS</td>\n",
       "      <td>BURGLARY</td>\n",
       "      <td>5600  - 5699 BLOCK OF GEORGIA AVENUE NW</td>\n",
       "      <td>397553.15</td>\n",
       "      <td>143323.63</td>\n",
       "      <td>...</td>\n",
       "      <td>Precinct 54</td>\n",
       "      <td>38.957815</td>\n",
       "      <td>-77.028231</td>\n",
       "      <td>NaN</td>\n",
       "      <td>2019/05/12 17:06:59+00</td>\n",
       "      <td>2019/05/12 18:00:07+00</td>\n",
       "      <td>83121291</td>\n",
       "      <td>NaN</td>\n",
       "      <td>[38.9578148866, -77.0282306394]</td>\n",
       "      <td>17</td>\n",
       "    </tr>\n",
       "    <tr>\n",
       "      <th>...</th>\n",
       "      <td>...</td>\n",
       "      <td>...</td>\n",
       "      <td>...</td>\n",
       "      <td>...</td>\n",
       "      <td>...</td>\n",
       "      <td>...</td>\n",
       "      <td>...</td>\n",
       "      <td>...</td>\n",
       "      <td>...</td>\n",
       "      <td>...</td>\n",
       "      <td>...</td>\n",
       "      <td>...</td>\n",
       "      <td>...</td>\n",
       "      <td>...</td>\n",
       "      <td>...</td>\n",
       "      <td>...</td>\n",
       "      <td>...</td>\n",
       "      <td>...</td>\n",
       "      <td>...</td>\n",
       "      <td>...</td>\n",
       "      <td>...</td>\n",
       "    </tr>\n",
       "    <tr>\n",
       "      <th>33911</th>\n",
       "      <td>-77.032731</td>\n",
       "      <td>38.940282</td>\n",
       "      <td>19128998</td>\n",
       "      <td>2019/07/23 19:12:45+00</td>\n",
       "      <td>EVENING</td>\n",
       "      <td>OTHERS</td>\n",
       "      <td>THEFT F/AUTO</td>\n",
       "      <td>4000  - 4099 BLOCK OF 14TH STREET NW</td>\n",
       "      <td>397162.59</td>\n",
       "      <td>141376.55</td>\n",
       "      <td>...</td>\n",
       "      <td>Precinct 47</td>\n",
       "      <td>38.940274</td>\n",
       "      <td>-77.032729</td>\n",
       "      <td>NaN</td>\n",
       "      <td>2019/07/20 18:00:29+00</td>\n",
       "      <td>2019/07/23 18:47:29+00</td>\n",
       "      <td>83589921</td>\n",
       "      <td>NaN</td>\n",
       "      <td>[38.9402738789, -77.0327286883]</td>\n",
       "      <td>18</td>\n",
       "    </tr>\n",
       "    <tr>\n",
       "      <th>33912</th>\n",
       "      <td>-76.994979</td>\n",
       "      <td>38.880284</td>\n",
       "      <td>19129010</td>\n",
       "      <td>2019/07/23 19:13:43+00</td>\n",
       "      <td>EVENING</td>\n",
       "      <td>OTHERS</td>\n",
       "      <td>THEFT/OTHER</td>\n",
       "      <td>700 - 799 BLOCK OF 8TH STREET SE</td>\n",
       "      <td>400435.87</td>\n",
       "      <td>134715.77</td>\n",
       "      <td>...</td>\n",
       "      <td>Precinct 90</td>\n",
       "      <td>38.880276</td>\n",
       "      <td>-76.994977</td>\n",
       "      <td>CAPITOL HILL</td>\n",
       "      <td>2019/07/22 05:54:56+00</td>\n",
       "      <td>2019/07/22 05:55:18+00</td>\n",
       "      <td>83589922</td>\n",
       "      <td>NaN</td>\n",
       "      <td>[38.880275773, -76.9949765956]</td>\n",
       "      <td>5</td>\n",
       "    </tr>\n",
       "    <tr>\n",
       "      <th>33913</th>\n",
       "      <td>-77.100824</td>\n",
       "      <td>38.925823</td>\n",
       "      <td>19129015</td>\n",
       "      <td>2019/07/23 19:27:35+00</td>\n",
       "      <td>EVENING</td>\n",
       "      <td>OTHERS</td>\n",
       "      <td>THEFT F/AUTO</td>\n",
       "      <td>5100 - 5119 BLOCK OF FULTON STREET NW</td>\n",
       "      <td>391257.52</td>\n",
       "      <td>139775.84</td>\n",
       "      <td>...</td>\n",
       "      <td>Precinct 8</td>\n",
       "      <td>38.925815</td>\n",
       "      <td>-77.100822</td>\n",
       "      <td>NaN</td>\n",
       "      <td>2019/07/23 16:30:33+00</td>\n",
       "      <td>2019/07/23 17:25:54+00</td>\n",
       "      <td>83589923</td>\n",
       "      <td>NaN</td>\n",
       "      <td>[38.9258152896, -77.1008215022]</td>\n",
       "      <td>16</td>\n",
       "    </tr>\n",
       "    <tr>\n",
       "      <th>33914</th>\n",
       "      <td>-77.078748</td>\n",
       "      <td>38.948799</td>\n",
       "      <td>19129020</td>\n",
       "      <td>2019/07/23 19:59:24+00</td>\n",
       "      <td>EVENING</td>\n",
       "      <td>OTHERS</td>\n",
       "      <td>THEFT/OTHER</td>\n",
       "      <td>4500 - 4599 BLOCK OF 40TH STREET NW</td>\n",
       "      <td>393173.95</td>\n",
       "      <td>142324.53</td>\n",
       "      <td>...</td>\n",
       "      <td>Precinct 32</td>\n",
       "      <td>38.948792</td>\n",
       "      <td>-77.078746</td>\n",
       "      <td>NaN</td>\n",
       "      <td>2019/07/23 18:05:57+00</td>\n",
       "      <td>2019/07/23 19:10:12+00</td>\n",
       "      <td>83589924</td>\n",
       "      <td>NaN</td>\n",
       "      <td>[38.9487916125, -77.0787458915]</td>\n",
       "      <td>18</td>\n",
       "    </tr>\n",
       "    <tr>\n",
       "      <th>33915</th>\n",
       "      <td>-77.024519</td>\n",
       "      <td>38.927486</td>\n",
       "      <td>19129028</td>\n",
       "      <td>2019/07/23 19:45:09+00</td>\n",
       "      <td>EVENING</td>\n",
       "      <td>OTHERS</td>\n",
       "      <td>THEFT F/AUTO</td>\n",
       "      <td>700 - 999 BLOCK OF HOBART PLACE NW</td>\n",
       "      <td>397874.16</td>\n",
       "      <td>139955.89</td>\n",
       "      <td>...</td>\n",
       "      <td>Precinct 37</td>\n",
       "      <td>38.927478</td>\n",
       "      <td>-77.024517</td>\n",
       "      <td>NaN</td>\n",
       "      <td>2019/07/23 18:00:26+00</td>\n",
       "      <td>2019/07/23 19:45:14+00</td>\n",
       "      <td>83589925</td>\n",
       "      <td>NaN</td>\n",
       "      <td>[38.9274781547, -77.0245165376]</td>\n",
       "      <td>18</td>\n",
       "    </tr>\n",
       "  </tbody>\n",
       "</table>\n",
       "<p>33916 rows × 27 columns</p>\n",
       "</div>"
      ],
      "text/plain": [
       "               X          Y       CCN              REPORT_DAT    SHIFT  \\\n",
       "0     -77.029707  38.939217  19081581  2019/05/12 17:07:34+00      DAY   \n",
       "1     -77.034603  38.932575  19081589  2019/05/12 16:31:46+00      DAY   \n",
       "2     -77.085291  38.959920  19081603  2019/05/12 17:18:34+00      DAY   \n",
       "3     -77.026511  38.897356  19081606  2019/05/12 17:39:46+00      DAY   \n",
       "4     -77.028233  38.957823  19081612  2019/05/12 18:26:51+00      DAY   \n",
       "...          ...        ...       ...                     ...      ...   \n",
       "33911 -77.032731  38.940282  19128998  2019/07/23 19:12:45+00  EVENING   \n",
       "33912 -76.994979  38.880284  19129010  2019/07/23 19:13:43+00  EVENING   \n",
       "33913 -77.100824  38.925823  19129015  2019/07/23 19:27:35+00  EVENING   \n",
       "33914 -77.078748  38.948799  19129020  2019/07/23 19:59:24+00  EVENING   \n",
       "33915 -77.024519  38.927486  19129028  2019/07/23 19:45:09+00  EVENING   \n",
       "\n",
       "       METHOD       OFFENSE                                     BLOCK  \\\n",
       "0      OTHERS  THEFT F/AUTO      3900  - 3999 BLOCK OF 13TH STREET NW   \n",
       "1      OTHERS   THEFT/OTHER     1400 - 1599 BLOCK OF NEWTON STREET NW   \n",
       "2      OTHERS   THEFT/OTHER  5300 - 5399 BLOCK OF WISCONSIN AVENUE NW   \n",
       "3      OTHERS   THEFT/OTHER          1000 - 1099 BLOCK OF F STREET NW   \n",
       "4      OTHERS      BURGLARY   5600  - 5699 BLOCK OF GEORGIA AVENUE NW   \n",
       "...       ...           ...                                       ...   \n",
       "33911  OTHERS  THEFT F/AUTO      4000  - 4099 BLOCK OF 14TH STREET NW   \n",
       "33912  OTHERS   THEFT/OTHER          700 - 799 BLOCK OF 8TH STREET SE   \n",
       "33913  OTHERS  THEFT F/AUTO     5100 - 5119 BLOCK OF FULTON STREET NW   \n",
       "33914  OTHERS   THEFT/OTHER       4500 - 4599 BLOCK OF 40TH STREET NW   \n",
       "33915  OTHERS  THEFT F/AUTO        700 - 999 BLOCK OF HOBART PLACE NW   \n",
       "\n",
       "          XBLOCK     YBLOCK  ...  VOTING_PRECINCT   LATITUDE  LONGITUDE  \\\n",
       "0      397424.68  141258.25  ...      Precinct 47  38.939209 -77.029705   \n",
       "1      396999.96  140521.12  ...      Precinct 41  38.932567 -77.034601   \n",
       "2      392607.98  143559.50  ...      Precinct 32  38.959912 -77.085288   \n",
       "3      397700.46  136611.23  ...     Precinct 129  38.897348 -77.026509   \n",
       "4      397553.15  143323.63  ...      Precinct 54  38.957815 -77.028231   \n",
       "...          ...        ...  ...              ...        ...        ...   \n",
       "33911  397162.59  141376.55  ...      Precinct 47  38.940274 -77.032729   \n",
       "33912  400435.87  134715.77  ...      Precinct 90  38.880276 -76.994977   \n",
       "33913  391257.52  139775.84  ...       Precinct 8  38.925815 -77.100822   \n",
       "33914  393173.95  142324.53  ...      Precinct 32  38.948792 -77.078746   \n",
       "33915  397874.16  139955.89  ...      Precinct 37  38.927478 -77.024517   \n",
       "\n",
       "                BID              START_DATE                END_DATE  OBJECTID  \\\n",
       "0               NaN  2019/05/12 03:00:54+00  2019/05/12 13:30:03+00  83121287   \n",
       "1               NaN  2019/05/12 15:30:54+00  2019/05/12 16:00:54+00  83121288   \n",
       "2               NaN  2019/05/12 16:12:47+00                     NaN  83121289   \n",
       "3          DOWNTOWN  2019/05/12 17:07:36+00                     NaN  83121290   \n",
       "4               NaN  2019/05/12 17:06:59+00  2019/05/12 18:00:07+00  83121291   \n",
       "...             ...                     ...                     ...       ...   \n",
       "33911           NaN  2019/07/20 18:00:29+00  2019/07/23 18:47:29+00  83589921   \n",
       "33912  CAPITOL HILL  2019/07/22 05:54:56+00  2019/07/22 05:55:18+00  83589922   \n",
       "33913           NaN  2019/07/23 16:30:33+00  2019/07/23 17:25:54+00  83589923   \n",
       "33914           NaN  2019/07/23 18:05:57+00  2019/07/23 19:10:12+00  83589924   \n",
       "33915           NaN  2019/07/23 18:00:26+00  2019/07/23 19:45:14+00  83589925   \n",
       "\n",
       "      OCTO_RECORD_ID                            CORDS  time  \n",
       "0                NaN  [38.9392090053, -77.0297051135]     3  \n",
       "1                NaN  [38.9325673709, -77.0346008373]    15  \n",
       "2                NaN   [38.9599119666, -77.085288276]    16  \n",
       "3                NaN  [38.8973478904, -77.0265085554]    17  \n",
       "4                NaN  [38.9578148866, -77.0282306394]    17  \n",
       "...              ...                              ...   ...  \n",
       "33911            NaN  [38.9402738789, -77.0327286883]    18  \n",
       "33912            NaN   [38.880275773, -76.9949765956]     5  \n",
       "33913            NaN  [38.9258152896, -77.1008215022]    16  \n",
       "33914            NaN  [38.9487916125, -77.0787458915]    18  \n",
       "33915            NaN  [38.9274781547, -77.0245165376]    18  \n",
       "\n",
       "[33916 rows x 27 columns]"
      ]
     },
     "execution_count": 56,
     "metadata": {},
     "output_type": "execute_result"
    }
   ],
   "source": [
    "cords = np.array(crime_data[['LATITUDE','LONGITUDE']])\n",
    "crime_data['CORDS'] = cords.tolist()\n",
    "\n",
    "crime_data['time'] = pandas.to_datetime(crime_data['START_DATE'],format= '%H:%M',exact=False).dt.hour\n",
    "\n",
    "crime_data"
   ]
  },
  {
   "cell_type": "markdown",
   "id": "72486e68",
   "metadata": {},
   "source": [
    "# Bar Graph of Crimes Commited"
   ]
  },
  {
   "cell_type": "code",
   "execution_count": 57,
   "id": "d5f30c99",
   "metadata": {},
   "outputs": [],
   "source": [
    "def list_y(df, lst):\n",
    "    for (index, row) in df.iterrows():\n",
    "        curr_time = row['time']\n",
    "        if ((curr_time >= 0) & (curr_time < 6)):\n",
    "            lst[0] += 1\n",
    "        elif ((curr_time >= 6) & (curr_time < 12)):\n",
    "            lst[1] += 1\n",
    "        elif ((curr_time >= 12) & (curr_time < 18)):\n",
    "            lst[2] += 1\n",
    "        elif ((curr_time >= 18) & (curr_time < 24)):\n",
    "            lst[3] += 1\n",
    "        else:\n",
    "            print(\"Thats not even an hour @ index: \" + index)\n",
    "        \n",
    "    return lst"
   ]
  },
  {
   "cell_type": "code",
   "execution_count": 58,
   "id": "f9786592",
   "metadata": {},
   "outputs": [
    {
     "data": {
      "text/plain": [
       "THEFT/OTHER                   15571\n",
       "THEFT F/AUTO                  10719\n",
       "ROBBERY                        2232\n",
       "MOTOR VEHICLE THEFT            2186\n",
       "ASSAULT W/DANGEROUS WEAPON     1567\n",
       "BURGLARY                       1272\n",
       "SEX ABUSE                       197\n",
       "HOMICIDE                        164\n",
       "ARSON                             8\n",
       "Name: OFFENSE, dtype: int64"
      ]
     },
     "execution_count": 58,
     "metadata": {},
     "output_type": "execute_result"
    }
   ],
   "source": [
    "crime_type_table = crime_data['OFFENSE'].value_counts()\n",
    "crime_type_table"
   ]
  },
  {
   "cell_type": "markdown",
   "id": "e877e777",
   "metadata": {},
   "source": [
    "Only want to look at the top 5 crimes  "
   ]
  },
  {
   "cell_type": "code",
   "execution_count": 59,
   "id": "d8b88899",
   "metadata": {},
   "outputs": [
    {
     "data": {
      "text/plain": [
       "THEFT/OTHER                   15571\n",
       "THEFT F/AUTO                  10719\n",
       "ROBBERY                        2232\n",
       "MOTOR VEHICLE THEFT            2186\n",
       "ASSAULT W/DANGEROUS WEAPON     1567\n",
       "Name: OFFENSE, dtype: int64"
      ]
     },
     "execution_count": 59,
     "metadata": {},
     "output_type": "execute_result"
    }
   ],
   "source": [
    "top_crime_table = crime_type_table[:5]\n",
    "top_crime_data = crime_data[crime_data['OFFENSE'].isin(top_crime_table.index)]\n",
    "top_crime_table"
   ]
  },
  {
   "cell_type": "code",
   "execution_count": 60,
   "id": "01e53f3b",
   "metadata": {},
   "outputs": [
    {
     "data": {
      "text/plain": [
       "[Text(0.5, 1.0, 'Total THEFT/OTHER Crime per Hour')]"
      ]
     },
     "execution_count": 60,
     "metadata": {},
     "output_type": "execute_result"
    },
    {
     "data": {
      "image/png": "[encoded data removed]",
      "text/plain": [
       "<Figure size 432x288 with 1 Axes>"
      ]
     },
     "metadata": {
      "needs_background": "light"
     },
     "output_type": "display_data"
    }
   ],
   "source": [
    "hour, crime_count = np.unique(crime_data[crime_data['OFFENSE'] == 'THEFT/OTHER'].time,return_counts=True)\n",
    "sns.barplot(hour,crime_count,color = 'blue').set(title=\"Total THEFT/OTHER Crime per Hour\")"
   ]
  },
  {
   "cell_type": "code",
   "execution_count": 61,
   "id": "b73efd36",
   "metadata": {},
   "outputs": [
    {
     "data": {
      "text/plain": [
       "[Text(0.5, 1.0, 'Total THEFT F/AUTO Crime per Hour')]"
      ]
     },
     "execution_count": 61,
     "metadata": {},
     "output_type": "execute_result"
    },
    {
     "data": {
      "image/png": "[encoded data removed]",
      "text/plain": [
       "<Figure size 432x288 with 1 Axes>"
      ]
     },
     "metadata": {
      "needs_background": "light"
     },
     "output_type": "display_data"
    }
   ],
   "source": [
    "hour, crime_count = np.unique(crime_data[crime_data['OFFENSE'] == 'THEFT F/AUTO'].time,return_counts=True)\n",
    "sns.barplot(hour,crime_count,color = 'blue').set(title=\"Total THEFT F/AUTO Crime per Hour\")"
   ]
  },
  {
   "cell_type": "code",
   "execution_count": 62,
   "id": "32722614",
   "metadata": {},
   "outputs": [
    {
     "data": {
      "text/plain": [
       "[Text(0.5, 1.0, 'Total ROBBERY Crime per Hour')]"
      ]
     },
     "execution_count": 62,
     "metadata": {},
     "output_type": "execute_result"
    },
    {
     "data": {
      "image/png": "[encoded data removed]",
      "text/plain": [
       "<Figure size 432x288 with 1 Axes>"
      ]
     },
     "metadata": {
      "needs_background": "light"
     },
     "output_type": "display_data"
    }
   ],
   "source": [
    "hour, crime_count = np.unique(crime_data[crime_data['OFFENSE'] == 'ROBBERY'].time,return_counts=True)\n",
    "sns.barplot(hour,crime_count,color = 'blue').set(title=\"Total ROBBERY Crime per Hour\")"
   ]
  },
  {
   "cell_type": "code",
   "execution_count": 63,
   "id": "f6f64c68",
   "metadata": {},
   "outputs": [
    {
     "data": {
      "text/plain": [
       "[Text(0.5, 1.0, 'Total MOTOR VEHICLE THEFT Crime per Hour')]"
      ]
     },
     "execution_count": 63,
     "metadata": {},
     "output_type": "execute_result"
    },
    {
     "data": {
      "image/png": "[encoded data removed]",
      "text/plain": [
       "<Figure size 432x288 with 1 Axes>"
      ]
     },
     "metadata": {
      "needs_background": "light"
     },
     "output_type": "display_data"
    }
   ],
   "source": [
    "hour, crime_count = np.unique(crime_data[crime_data['OFFENSE'] == 'MOTOR VEHICLE THEFT'].time,return_counts=True)\n",
    "sns.barplot(hour,crime_count,color = 'blue').set(title=\"Total MOTOR VEHICLE THEFT Crime per Hour\")"
   ]
  },
  {
   "cell_type": "code",
   "execution_count": 64,
   "id": "1618fa25",
   "metadata": {},
   "outputs": [
    {
     "data": {
      "text/plain": [
       "[Text(0.5, 1.0, 'Total ASSAULT W/DANGEROUS WEAPON Crime per Hour')]"
      ]
     },
     "execution_count": 64,
     "metadata": {},
     "output_type": "execute_result"
    },
    {
     "data": {
      "image/png": "[encoded data removed]",
      "text/plain": [
       "<Figure size 432x288 with 1 Axes>"
      ]
     },
     "metadata": {
      "needs_background": "light"
     },
     "output_type": "display_data"
    }
   ],
   "source": [
    "hour, crime_count = np.unique(crime_data[crime_data['OFFENSE'] == 'ASSAULT W/DANGEROUS WEAPON'].time,return_counts=True)\n",
    "sns.barplot(hour,crime_count,color = 'blue').set(title=\"Total ASSAULT W/DANGEROUS WEAPON Crime per Hour\")"
   ]
  },
  {
   "cell_type": "markdown",
   "id": "8654c324",
   "metadata": {},
   "source": [
    "How to see all top5 crimes on one graph "
   ]
  },
  {
   "cell_type": "code",
   "execution_count": 65,
   "id": "ffe6d6cd",
   "metadata": {},
   "outputs": [
    {
     "data": {
      "text/plain": [
       "<AxesSubplot:xlabel='time', ylabel='count'>"
      ]
     },
     "execution_count": 65,
     "metadata": {},
     "output_type": "execute_result"
    },
    {
     "data": {
      "image/png": "[encoded data removed]",
      "text/plain": [
       "<Figure size 1332x756 with 1 Axes>"
      ]
     },
     "metadata": {
      "needs_background": "light"
     },
     "output_type": "display_data"
    }
   ],
   "source": [
    "fig = plt.figure(figsize=(10,80))\n",
    "fig.set_size_inches(18.5, 10.5)\n",
    "sns.countplot(x=\"time\", hue=\"OFFENSE\", data=top_crime_data)"
   ]
  },
  {
   "cell_type": "markdown",
   "id": "8e55d2ae",
   "metadata": {},
   "source": [
    "Better approach"
   ]
  },
  {
   "cell_type": "code",
   "execution_count": 66,
   "id": "fdfe6899",
   "metadata": {},
   "outputs": [
    {
     "data": {
      "text/plain": [
       "<AxesSubplot:xlabel='time', ylabel='OFFENSE'>"
      ]
     },
     "execution_count": 66,
     "metadata": {},
     "output_type": "execute_result"
    },
    {
     "data": {
      "image/png": "[encoded data removed]",
      "text/plain": [
       "<Figure size 720x720 with 1 Axes>"
      ]
     },
     "metadata": {
      "needs_background": "light"
     },
     "output_type": "display_data"
    }
   ],
   "source": [
    "fig = plt.figure(figsize=(10,10))\n",
    "\n",
    "sns.violinplot(data=top_crime_data, x = 'time',y='OFFENSE',cut=0,scale='count')"
   ]
  },
  {
   "cell_type": "code",
   "execution_count": 67,
   "id": "8faeb536",
   "metadata": {},
   "outputs": [
    {
     "data": {
      "text/plain": [
       "[Text(0.5, 1.0, 'Total ASSAULT W/DANGEROUS WEAPON Crime per Month')]"
      ]
     },
     "execution_count": 67,
     "metadata": {},
     "output_type": "execute_result"
    },
    {
     "data": {
      "image/png": "[encoded data removed]",
      "text/plain": [
       "<Figure size 432x288 with 1 Axes>"
      ]
     },
     "metadata": {
      "needs_background": "light"
     },
     "output_type": "display_data"
    }
   ],
   "source": [
    "# Created the month column wiht the just int of the month\n",
    "crime_data['month'] = pandas.to_datetime(crime_data['START_DATE'],exact=False).dt.month\n",
    "\n",
    "\n",
    "month, crime_count = np.unique(crime_data[(crime_data['OFFENSE'] == 'ASSAULT W/DANGEROUS WEAPON')].month,return_counts=True)\n",
    "sns.barplot(month,crime_count,color = 'blue').set(title=\"Total ASSAULT W/DANGEROUS WEAPON Crime per Month\")"
   ]
  },
  {
   "cell_type": "code",
   "execution_count": 68,
   "id": "4a9397b2",
   "metadata": {},
   "outputs": [],
   "source": [
    "crime_data['day'] = pandas.to_datetime(crime_data['START_DATE'],exact=False).dt.day\n",
    "\n",
    "# Determines the season (szn) of the crime (these dates are from 2019)\n",
    "def find_szn(row):\n",
    "    #First 4 if statements to decide on months where season changes\n",
    "    if (row['month'] == 3):\n",
    "        if (row['day'] < 20):\n",
    "            return \"Winter\"\n",
    "        else:\n",
    "            return \"Spring\"\n",
    "        \n",
    "    elif (row['month'] == 6):\n",
    "        if (row['day'] < 21):\n",
    "            return \"Spring\"\n",
    "        else:\n",
    "            return \"Summer\"\n",
    "        \n",
    "    elif (row['month'] == 9):\n",
    "        if (row['day'] < 23):\n",
    "            return \"Summer\"\n",
    "        else:\n",
    "            return \"Fall\"\n",
    "        \n",
    "    elif (row['month'] == 12):\n",
    "        if (row['day'] < 22):\n",
    "            return \"Fall\"\n",
    "        else:\n",
    "            return \"Winter\"\n",
    "        \n",
    "    elif (row['month'] < 3):\n",
    "        return \"Winter\"\n",
    "    elif (row['month'] < 6):\n",
    "        return \"Spring\"\n",
    "    elif (row['month'] < 9):\n",
    "        return \"Summer\"\n",
    "    elif (row['month'] < 12):\n",
    "        return \"Fall\"\n",
    "    \n",
    "    else:\n",
    "        return \"Fake Month!\""
   ]
  },
  {
   "cell_type": "code",
   "execution_count": 69,
   "id": "1bfb9ecd",
   "metadata": {},
   "outputs": [
    {
     "data": {
      "text/plain": [
       "[Text(0.5, 1.0, 'Total ASSAULT W/DANGEROUS WEAPON Crime per Season')]"
      ]
     },
     "execution_count": 69,
     "metadata": {},
     "output_type": "execute_result"
    },
    {
     "data": {
      "image/png": "[encoded data removed]",
      "text/plain": [
       "<Figure size 432x288 with 1 Axes>"
      ]
     },
     "metadata": {
      "needs_background": "light"
     },
     "output_type": "display_data"
    }
   ],
   "source": [
    "# Create a season column for the dataframe\n",
    "crime_data['season'] = crime_data.apply(lambda row: find_szn(row), axis=1)\n",
    "\n",
    "szn, crime_count = np.unique(crime_data[(crime_data['OFFENSE'] == 'ASSAULT W/DANGEROUS WEAPON')].season,return_counts=True)\n",
    "sns.barplot(szn,crime_count,color = 'blue').set(title=\"Total ASSAULT W/DANGEROUS WEAPON Crime per Season\")"
   ]
  },
  {
   "cell_type": "code",
   "execution_count": 77,
   "id": "02360028",
   "metadata": {},
   "outputs": [
    {
     "data": {
      "text/html": [
       "<div>\n",
       "<style scoped>\n",
       "    .dataframe tbody tr th:only-of-type {\n",
       "        vertical-align: middle;\n",
       "    }\n",
       "\n",
       "    .dataframe tbody tr th {\n",
       "        vertical-align: top;\n",
       "    }\n",
       "\n",
       "    .dataframe thead th {\n",
       "        text-align: right;\n",
       "    }\n",
       "</style>\n",
       "<table border=\"1\" class=\"dataframe\">\n",
       "  <thead>\n",
       "    <tr style=\"text-align: right;\">\n",
       "      <th></th>\n",
       "      <th>X</th>\n",
       "      <th>Y</th>\n",
       "      <th>CCN</th>\n",
       "      <th>REPORT_DAT</th>\n",
       "      <th>SHIFT</th>\n",
       "      <th>METHOD</th>\n",
       "      <th>OFFENSE</th>\n",
       "      <th>BLOCK</th>\n",
       "      <th>XBLOCK</th>\n",
       "      <th>YBLOCK</th>\n",
       "      <th>...</th>\n",
       "      <th>START_DATE</th>\n",
       "      <th>END_DATE</th>\n",
       "      <th>OBJECTID</th>\n",
       "      <th>OCTO_RECORD_ID</th>\n",
       "      <th>CORDS</th>\n",
       "      <th>time</th>\n",
       "      <th>month</th>\n",
       "      <th>day</th>\n",
       "      <th>season</th>\n",
       "      <th>weekday</th>\n",
       "    </tr>\n",
       "  </thead>\n",
       "  <tbody>\n",
       "    <tr>\n",
       "      <th>0</th>\n",
       "      <td>-77.029707</td>\n",
       "      <td>38.939217</td>\n",
       "      <td>19081581</td>\n",
       "      <td>2019/05/12 17:07:34+00</td>\n",
       "      <td>DAY</td>\n",
       "      <td>OTHERS</td>\n",
       "      <td>THEFT F/AUTO</td>\n",
       "      <td>3900  - 3999 BLOCK OF 13TH STREET NW</td>\n",
       "      <td>397424.68</td>\n",
       "      <td>141258.25</td>\n",
       "      <td>...</td>\n",
       "      <td>2019/05/12 03:00:54+00</td>\n",
       "      <td>2019/05/12 13:30:03+00</td>\n",
       "      <td>83121287</td>\n",
       "      <td>NaN</td>\n",
       "      <td>[38.9392090053, -77.0297051135]</td>\n",
       "      <td>3</td>\n",
       "      <td>5</td>\n",
       "      <td>12</td>\n",
       "      <td>Spring</td>\n",
       "      <td>Sunday</td>\n",
       "    </tr>\n",
       "    <tr>\n",
       "      <th>1</th>\n",
       "      <td>-77.034603</td>\n",
       "      <td>38.932575</td>\n",
       "      <td>19081589</td>\n",
       "      <td>2019/05/12 16:31:46+00</td>\n",
       "      <td>DAY</td>\n",
       "      <td>OTHERS</td>\n",
       "      <td>THEFT/OTHER</td>\n",
       "      <td>1400 - 1599 BLOCK OF NEWTON STREET NW</td>\n",
       "      <td>396999.96</td>\n",
       "      <td>140521.12</td>\n",
       "      <td>...</td>\n",
       "      <td>2019/05/12 15:30:54+00</td>\n",
       "      <td>2019/05/12 16:00:54+00</td>\n",
       "      <td>83121288</td>\n",
       "      <td>NaN</td>\n",
       "      <td>[38.9325673709, -77.0346008373]</td>\n",
       "      <td>15</td>\n",
       "      <td>5</td>\n",
       "      <td>12</td>\n",
       "      <td>Spring</td>\n",
       "      <td>Sunday</td>\n",
       "    </tr>\n",
       "    <tr>\n",
       "      <th>2</th>\n",
       "      <td>-77.085291</td>\n",
       "      <td>38.959920</td>\n",
       "      <td>19081603</td>\n",
       "      <td>2019/05/12 17:18:34+00</td>\n",
       "      <td>DAY</td>\n",
       "      <td>OTHERS</td>\n",
       "      <td>THEFT/OTHER</td>\n",
       "      <td>5300 - 5399 BLOCK OF WISCONSIN AVENUE NW</td>\n",
       "      <td>392607.98</td>\n",
       "      <td>143559.50</td>\n",
       "      <td>...</td>\n",
       "      <td>2019/05/12 16:12:47+00</td>\n",
       "      <td>NaN</td>\n",
       "      <td>83121289</td>\n",
       "      <td>NaN</td>\n",
       "      <td>[38.9599119666, -77.085288276]</td>\n",
       "      <td>16</td>\n",
       "      <td>5</td>\n",
       "      <td>12</td>\n",
       "      <td>Spring</td>\n",
       "      <td>Sunday</td>\n",
       "    </tr>\n",
       "    <tr>\n",
       "      <th>3</th>\n",
       "      <td>-77.026511</td>\n",
       "      <td>38.897356</td>\n",
       "      <td>19081606</td>\n",
       "      <td>2019/05/12 17:39:46+00</td>\n",
       "      <td>DAY</td>\n",
       "      <td>OTHERS</td>\n",
       "      <td>THEFT/OTHER</td>\n",
       "      <td>1000 - 1099 BLOCK OF F STREET NW</td>\n",
       "      <td>397700.46</td>\n",
       "      <td>136611.23</td>\n",
       "      <td>...</td>\n",
       "      <td>2019/05/12 17:07:36+00</td>\n",
       "      <td>NaN</td>\n",
       "      <td>83121290</td>\n",
       "      <td>NaN</td>\n",
       "      <td>[38.8973478904, -77.0265085554]</td>\n",
       "      <td>17</td>\n",
       "      <td>5</td>\n",
       "      <td>12</td>\n",
       "      <td>Spring</td>\n",
       "      <td>Sunday</td>\n",
       "    </tr>\n",
       "    <tr>\n",
       "      <th>4</th>\n",
       "      <td>-77.028233</td>\n",
       "      <td>38.957823</td>\n",
       "      <td>19081612</td>\n",
       "      <td>2019/05/12 18:26:51+00</td>\n",
       "      <td>DAY</td>\n",
       "      <td>OTHERS</td>\n",
       "      <td>BURGLARY</td>\n",
       "      <td>5600  - 5699 BLOCK OF GEORGIA AVENUE NW</td>\n",
       "      <td>397553.15</td>\n",
       "      <td>143323.63</td>\n",
       "      <td>...</td>\n",
       "      <td>2019/05/12 17:06:59+00</td>\n",
       "      <td>2019/05/12 18:00:07+00</td>\n",
       "      <td>83121291</td>\n",
       "      <td>NaN</td>\n",
       "      <td>[38.9578148866, -77.0282306394]</td>\n",
       "      <td>17</td>\n",
       "      <td>5</td>\n",
       "      <td>12</td>\n",
       "      <td>Spring</td>\n",
       "      <td>Sunday</td>\n",
       "    </tr>\n",
       "    <tr>\n",
       "      <th>...</th>\n",
       "      <td>...</td>\n",
       "      <td>...</td>\n",
       "      <td>...</td>\n",
       "      <td>...</td>\n",
       "      <td>...</td>\n",
       "      <td>...</td>\n",
       "      <td>...</td>\n",
       "      <td>...</td>\n",
       "      <td>...</td>\n",
       "      <td>...</td>\n",
       "      <td>...</td>\n",
       "      <td>...</td>\n",
       "      <td>...</td>\n",
       "      <td>...</td>\n",
       "      <td>...</td>\n",
       "      <td>...</td>\n",
       "      <td>...</td>\n",
       "      <td>...</td>\n",
       "      <td>...</td>\n",
       "      <td>...</td>\n",
       "      <td>...</td>\n",
       "    </tr>\n",
       "    <tr>\n",
       "      <th>33911</th>\n",
       "      <td>-77.032731</td>\n",
       "      <td>38.940282</td>\n",
       "      <td>19128998</td>\n",
       "      <td>2019/07/23 19:12:45+00</td>\n",
       "      <td>EVENING</td>\n",
       "      <td>OTHERS</td>\n",
       "      <td>THEFT F/AUTO</td>\n",
       "      <td>4000  - 4099 BLOCK OF 14TH STREET NW</td>\n",
       "      <td>397162.59</td>\n",
       "      <td>141376.55</td>\n",
       "      <td>...</td>\n",
       "      <td>2019/07/20 18:00:29+00</td>\n",
       "      <td>2019/07/23 18:47:29+00</td>\n",
       "      <td>83589921</td>\n",
       "      <td>NaN</td>\n",
       "      <td>[38.9402738789, -77.0327286883]</td>\n",
       "      <td>18</td>\n",
       "      <td>7</td>\n",
       "      <td>20</td>\n",
       "      <td>Summer</td>\n",
       "      <td>Saturday</td>\n",
       "    </tr>\n",
       "    <tr>\n",
       "      <th>33912</th>\n",
       "      <td>-76.994979</td>\n",
       "      <td>38.880284</td>\n",
       "      <td>19129010</td>\n",
       "      <td>2019/07/23 19:13:43+00</td>\n",
       "      <td>EVENING</td>\n",
       "      <td>OTHERS</td>\n",
       "      <td>THEFT/OTHER</td>\n",
       "      <td>700 - 799 BLOCK OF 8TH STREET SE</td>\n",
       "      <td>400435.87</td>\n",
       "      <td>134715.77</td>\n",
       "      <td>...</td>\n",
       "      <td>2019/07/22 05:54:56+00</td>\n",
       "      <td>2019/07/22 05:55:18+00</td>\n",
       "      <td>83589922</td>\n",
       "      <td>NaN</td>\n",
       "      <td>[38.880275773, -76.9949765956]</td>\n",
       "      <td>5</td>\n",
       "      <td>7</td>\n",
       "      <td>22</td>\n",
       "      <td>Summer</td>\n",
       "      <td>Monday</td>\n",
       "    </tr>\n",
       "    <tr>\n",
       "      <th>33913</th>\n",
       "      <td>-77.100824</td>\n",
       "      <td>38.925823</td>\n",
       "      <td>19129015</td>\n",
       "      <td>2019/07/23 19:27:35+00</td>\n",
       "      <td>EVENING</td>\n",
       "      <td>OTHERS</td>\n",
       "      <td>THEFT F/AUTO</td>\n",
       "      <td>5100 - 5119 BLOCK OF FULTON STREET NW</td>\n",
       "      <td>391257.52</td>\n",
       "      <td>139775.84</td>\n",
       "      <td>...</td>\n",
       "      <td>2019/07/23 16:30:33+00</td>\n",
       "      <td>2019/07/23 17:25:54+00</td>\n",
       "      <td>83589923</td>\n",
       "      <td>NaN</td>\n",
       "      <td>[38.9258152896, -77.1008215022]</td>\n",
       "      <td>16</td>\n",
       "      <td>7</td>\n",
       "      <td>23</td>\n",
       "      <td>Summer</td>\n",
       "      <td>Tuesday</td>\n",
       "    </tr>\n",
       "    <tr>\n",
       "      <th>33914</th>\n",
       "      <td>-77.078748</td>\n",
       "      <td>38.948799</td>\n",
       "      <td>19129020</td>\n",
       "      <td>2019/07/23 19:59:24+00</td>\n",
       "      <td>EVENING</td>\n",
       "      <td>OTHERS</td>\n",
       "      <td>THEFT/OTHER</td>\n",
       "      <td>4500 - 4599 BLOCK OF 40TH STREET NW</td>\n",
       "      <td>393173.95</td>\n",
       "      <td>142324.53</td>\n",
       "      <td>...</td>\n",
       "      <td>2019/07/23 18:05:57+00</td>\n",
       "      <td>2019/07/23 19:10:12+00</td>\n",
       "      <td>83589924</td>\n",
       "      <td>NaN</td>\n",
       "      <td>[38.9487916125, -77.0787458915]</td>\n",
       "      <td>18</td>\n",
       "      <td>7</td>\n",
       "      <td>23</td>\n",
       "      <td>Summer</td>\n",
       "      <td>Tuesday</td>\n",
       "    </tr>\n",
       "    <tr>\n",
       "      <th>33915</th>\n",
       "      <td>-77.024519</td>\n",
       "      <td>38.927486</td>\n",
       "      <td>19129028</td>\n",
       "      <td>2019/07/23 19:45:09+00</td>\n",
       "      <td>EVENING</td>\n",
       "      <td>OTHERS</td>\n",
       "      <td>THEFT F/AUTO</td>\n",
       "      <td>700 - 999 BLOCK OF HOBART PLACE NW</td>\n",
       "      <td>397874.16</td>\n",
       "      <td>139955.89</td>\n",
       "      <td>...</td>\n",
       "      <td>2019/07/23 18:00:26+00</td>\n",
       "      <td>2019/07/23 19:45:14+00</td>\n",
       "      <td>83589925</td>\n",
       "      <td>NaN</td>\n",
       "      <td>[38.9274781547, -77.0245165376]</td>\n",
       "      <td>18</td>\n",
       "      <td>7</td>\n",
       "      <td>23</td>\n",
       "      <td>Summer</td>\n",
       "      <td>Tuesday</td>\n",
       "    </tr>\n",
       "  </tbody>\n",
       "</table>\n",
       "<p>33916 rows × 31 columns</p>\n",
       "</div>"
      ],
      "text/plain": [
       "               X          Y       CCN              REPORT_DAT    SHIFT  \\\n",
       "0     -77.029707  38.939217  19081581  2019/05/12 17:07:34+00      DAY   \n",
       "1     -77.034603  38.932575  19081589  2019/05/12 16:31:46+00      DAY   \n",
       "2     -77.085291  38.959920  19081603  2019/05/12 17:18:34+00      DAY   \n",
       "3     -77.026511  38.897356  19081606  2019/05/12 17:39:46+00      DAY   \n",
       "4     -77.028233  38.957823  19081612  2019/05/12 18:26:51+00      DAY   \n",
       "...          ...        ...       ...                     ...      ...   \n",
       "33911 -77.032731  38.940282  19128998  2019/07/23 19:12:45+00  EVENING   \n",
       "33912 -76.994979  38.880284  19129010  2019/07/23 19:13:43+00  EVENING   \n",
       "33913 -77.100824  38.925823  19129015  2019/07/23 19:27:35+00  EVENING   \n",
       "33914 -77.078748  38.948799  19129020  2019/07/23 19:59:24+00  EVENING   \n",
       "33915 -77.024519  38.927486  19129028  2019/07/23 19:45:09+00  EVENING   \n",
       "\n",
       "       METHOD       OFFENSE                                     BLOCK  \\\n",
       "0      OTHERS  THEFT F/AUTO      3900  - 3999 BLOCK OF 13TH STREET NW   \n",
       "1      OTHERS   THEFT/OTHER     1400 - 1599 BLOCK OF NEWTON STREET NW   \n",
       "2      OTHERS   THEFT/OTHER  5300 - 5399 BLOCK OF WISCONSIN AVENUE NW   \n",
       "3      OTHERS   THEFT/OTHER          1000 - 1099 BLOCK OF F STREET NW   \n",
       "4      OTHERS      BURGLARY   5600  - 5699 BLOCK OF GEORGIA AVENUE NW   \n",
       "...       ...           ...                                       ...   \n",
       "33911  OTHERS  THEFT F/AUTO      4000  - 4099 BLOCK OF 14TH STREET NW   \n",
       "33912  OTHERS   THEFT/OTHER          700 - 799 BLOCK OF 8TH STREET SE   \n",
       "33913  OTHERS  THEFT F/AUTO     5100 - 5119 BLOCK OF FULTON STREET NW   \n",
       "33914  OTHERS   THEFT/OTHER       4500 - 4599 BLOCK OF 40TH STREET NW   \n",
       "33915  OTHERS  THEFT F/AUTO        700 - 999 BLOCK OF HOBART PLACE NW   \n",
       "\n",
       "          XBLOCK     YBLOCK  ...              START_DATE  \\\n",
       "0      397424.68  141258.25  ...  2019/05/12 03:00:54+00   \n",
       "1      396999.96  140521.12  ...  2019/05/12 15:30:54+00   \n",
       "2      392607.98  143559.50  ...  2019/05/12 16:12:47+00   \n",
       "3      397700.46  136611.23  ...  2019/05/12 17:07:36+00   \n",
       "4      397553.15  143323.63  ...  2019/05/12 17:06:59+00   \n",
       "...          ...        ...  ...                     ...   \n",
       "33911  397162.59  141376.55  ...  2019/07/20 18:00:29+00   \n",
       "33912  400435.87  134715.77  ...  2019/07/22 05:54:56+00   \n",
       "33913  391257.52  139775.84  ...  2019/07/23 16:30:33+00   \n",
       "33914  393173.95  142324.53  ...  2019/07/23 18:05:57+00   \n",
       "33915  397874.16  139955.89  ...  2019/07/23 18:00:26+00   \n",
       "\n",
       "                     END_DATE  OBJECTID  OCTO_RECORD_ID  \\\n",
       "0      2019/05/12 13:30:03+00  83121287             NaN   \n",
       "1      2019/05/12 16:00:54+00  83121288             NaN   \n",
       "2                         NaN  83121289             NaN   \n",
       "3                         NaN  83121290             NaN   \n",
       "4      2019/05/12 18:00:07+00  83121291             NaN   \n",
       "...                       ...       ...             ...   \n",
       "33911  2019/07/23 18:47:29+00  83589921             NaN   \n",
       "33912  2019/07/22 05:55:18+00  83589922             NaN   \n",
       "33913  2019/07/23 17:25:54+00  83589923             NaN   \n",
       "33914  2019/07/23 19:10:12+00  83589924             NaN   \n",
       "33915  2019/07/23 19:45:14+00  83589925             NaN   \n",
       "\n",
       "                                 CORDS time  month day  season   weekday  \n",
       "0      [38.9392090053, -77.0297051135]    3      5  12  Spring    Sunday  \n",
       "1      [38.9325673709, -77.0346008373]   15      5  12  Spring    Sunday  \n",
       "2       [38.9599119666, -77.085288276]   16      5  12  Spring    Sunday  \n",
       "3      [38.8973478904, -77.0265085554]   17      5  12  Spring    Sunday  \n",
       "4      [38.9578148866, -77.0282306394]   17      5  12  Spring    Sunday  \n",
       "...                                ...  ...    ...  ..     ...       ...  \n",
       "33911  [38.9402738789, -77.0327286883]   18      7  20  Summer  Saturday  \n",
       "33912   [38.880275773, -76.9949765956]    5      7  22  Summer    Monday  \n",
       "33913  [38.9258152896, -77.1008215022]   16      7  23  Summer   Tuesday  \n",
       "33914  [38.9487916125, -77.0787458915]   18      7  23  Summer   Tuesday  \n",
       "33915  [38.9274781547, -77.0245165376]   18      7  23  Summer   Tuesday  \n",
       "\n",
       "[33916 rows x 31 columns]"
      ]
     },
     "execution_count": 77,
     "metadata": {},
     "output_type": "execute_result"
    }
   ],
   "source": [
    "crime_data['weekday'] = crime_data.apply(lambda row: pandas.Timestamp(row['START_DATE']).day_name(), axis=1)\n",
    "crime_data"
   ]
  },
  {
   "cell_type": "code",
   "execution_count": 72,
   "id": "3948b500",
   "metadata": {
    "scrolled": true
   },
   "outputs": [
    {
     "data": {
      "text/plain": [
       "<matplotlib.legend.Legend at 0x7f916f7d0f10>"
      ]
     },
     "execution_count": 72,
     "metadata": {},
     "output_type": "execute_result"
    },
    {
     "data": {
      "image/png": "[encoded data removed]",
      "text/plain": [
       "<Figure size 432x288 with 1 Axes>"
      ]
     },
     "metadata": {
      "needs_background": "light"
     },
     "output_type": "display_data"
    }
   ],
   "source": [
    "\n",
    "\n",
    "# Crime offenses documented in DC\n",
    "x_theft_o = crime_data[(crime_data['OFFENSE'] == 'THEFT/OTHER')]\n",
    "x_theft_a = crime_data[(crime_data['OFFENSE'] == 'THEFT F/AUTO')]\n",
    "x_theft_m = crime_data[(crime_data['OFFENSE'] == 'MOTOR VEHICLE THEFT')]\n",
    "x_robbery = crime_data[(crime_data['OFFENSE'] == 'ROBBERY')]\n",
    "x_assault = crime_data[crime_data['OFFENSE'] == 'ASSAULT W/DANGEROUS WEAPON']\n",
    "x_burglary = crime_data[crime_data['OFFENSE'] == 'BURGLARY']\n",
    "x_sexabuse = crime_data[crime_data['OFFENSE'] == 'SEX ABUSE']\n",
    "x_homicide = crime_data[crime_data['OFFENSE'] == 'HOMICIDE']\n",
    "x_arson = crime_data[crime_data['OFFENSE'] == 'ARSON']\n",
    "\n",
    "# crimes = ['THEFT/OTHER', 'THEFT F/AUTO', 'MOTOR VEHICLE THEFT', 'ROBBERY',\n",
    "#          'ASSAULT W/DANGEROUS WEAPON', 'BURGLARY', 'SEX ABUSE', 'HOMICIDE', 'ARSON']\n",
    "\n",
    "times = ['0 - 6', '6 - 12', '12 - 6', '6- 12']\n",
    "\n",
    "# y_theft_o = [0, 0, 0, 0]\n",
    "# y_theft_a = [0, 0, 0, 0]\n",
    "# y_theft_m = [0, 0, 0, 0]\n",
    "# y_robbery = [0, 0, 0, 0]\n",
    "# y_assault = [0, 0, 0, 0]\n",
    "# y_burglary = [0, 0, 0, 0]\n",
    "# y_sexabuse = [0, 0, 0, 0]\n",
    "# y_homicide = [0, 0, 0, 0]\n",
    "# y_arson = [0, 0, 0, 0]\n",
    "\n",
    "\n",
    "#Finalize the y-axis for all the \n",
    "y_theft_o = list_y(x_theft_o, [0, 0, 0, 0])\n",
    "y_theft_a = list_y(x_theft_a, [0, 0, 0, 0])\n",
    "y_theft_m = list_y(x_theft_m, [0, 0, 0, 0])\n",
    "y_robbery = list_y(x_robbery, [0, 0, 0, 0])\n",
    "y_assault = list_y(x_assault, [0, 0, 0, 0])\n",
    "y_burglary = list_y(x_burglary, [0, 0, 0, 0])\n",
    "y_sexabuse = list_y(x_sexabuse, [0, 0, 0, 0])\n",
    "y_homicide = list_y(x_homicide, [0, 0, 0, 0])\n",
    "y_arson = list_y(x_arson, [0, 0, 0, 0])\n",
    "\n",
    "x_pos = np.arange(len(times))\n",
    "\n",
    "# plt.xticks(x_pos, times)\n",
    "plt.ylabel('Occurences')\n",
    "plt.title('Number of Crime Occurences in 2019 by 6 hr. Intervals')\n",
    "\n",
    "plt.bar(x_pos-0.4, y_theft_o, width=0.4, label='Theft /Other')\n",
    "plt.bar(x_pos-0.3, y_theft_a, width=0.4, label='Theft F/ Auto')\n",
    "plt.bar(x_pos-0.2, y_theft_m, width=0.4, label='Motor Vehicle Theft')\n",
    "plt.bar(x_pos-0.1, y_robbery, width=0.4, label='Robbery')\n",
    "plt.bar(x_pos-0.0, y_assault, width=0.4, label='Assault W/ Dangerous Weapon')\n",
    "plt.bar(x_pos+0.1, y_burglary, width=0.4, label='Burglary')\n",
    "plt.bar(x_pos+0.2, y_sexabuse, width=0.4, label='Sex Abuse')\n",
    "plt.bar(x_pos+0.3, y_homicide, width=0.4, label='Homicide')\n",
    "plt.bar(x_pos+0.4, y_arson, width=0.4, label='Arson')\n",
    "plt.legend()\n"
   ]
  },
  {
   "cell_type": "markdown",
   "id": "1aa4dccc",
   "metadata": {},
   "source": [
    "##### To get an idea of what the crime spread looks like\n",
    "Too many data points to graph plot on a map. Below is a not the best approach to visualize all of the crime in DC "
   ]
  },
  {
   "cell_type": "code",
   "execution_count": 73,
   "id": "a35795bd",
   "metadata": {},
   "outputs": [
    {
     "data": {
      "image/png": "[encoded data removed]",
      "text/plain": [
       "<Figure size 432x288 with 1 Axes>"
      ]
     },
     "metadata": {
      "needs_background": "light"
     },
     "output_type": "display_data"
    }
   ],
   "source": [
    "cords = crime_data['CORDS']\n",
    "lat = [cord[0] for cord in cords]\n",
    "long = [cord[1] for cord in cords]\n",
    "plt.scatter(long,lat,s=.001)\n",
    "plt.title(\"Crime map\")\n",
    "plt.xlabel(\"LONGITUDE\")\n",
    "plt.ylabel(\"LATITUDE\")\n",
    "plt.show()"
   ]
  },
  {
   "cell_type": "markdown",
   "id": "04582205",
   "metadata": {},
   "source": [
    "##### Better Approach using KMEANS\n",
    "Explanation of KMEANS"
   ]
  },
  {
   "cell_type": "code",
   "execution_count": 74,
   "id": "bc5db9d1",
   "metadata": {},
   "outputs": [
    {
     "data": {
      "image/png": "[encoded data removed]",
      "text/plain": [
       "<Figure size 432x288 with 1 Axes>"
      ]
     },
     "metadata": {
      "needs_background": "light"
     },
     "output_type": "display_data"
    }
   ],
   "source": [
    "x_limit = 30  #the x scale for the graph and the number of times KMEANS is run\n",
    "\n",
    "inertia = [] #kmeans error\n",
    "cords = np.array(crime_data[['LATITUDE','LONGITUDE']])\n",
    "for i in range(1,x_limit+1):\n",
    "    kmeans = KMeans(i) # ith KMEANS \n",
    "    kmeans.fit(cords)      # fit it to the data\n",
    "    inertia.append(kmeans.inertia_)  # appened the error to the inertia array\n",
    "\n",
    "number_clusters = [i for i in range(1,x_limit+1)]\n",
    "plt.plot(number_clusters,inertia)  # Ploting the Error Of KMEANS\n",
    "plt.title('Error Of KMEANS')\n",
    "plt.xlabel('Number of clusters')\n",
    "plt.ylabel('Squared Error');"
   ]
  },
  {
   "cell_type": "code",
   "execution_count": 75,
   "id": "123dcad8",
   "metadata": {},
   "outputs": [],
   "source": [
    "number_of_clusters = 20\n",
    "kmeans = KMeans(number_of_clusters) # ith KMEANS \n",
    "kmeans.fit(cords)\n",
    "total_crime = crime_data.shape[0] # Gets number of rows\n",
    "crime_density = [] # getting the number of crimes per cluster\n",
    "for i in range(number_of_clusters):\n",
    "    crime_density.append(list(kmeans.labels_).count(i)/total_crime)"
   ]
  },
  {
   "cell_type": "code",
   "execution_count": 76,
   "id": "f9895f05",
   "metadata": {},
   "outputs": [
    {
     "data": {
      "text/html": [
       "<div style=\"width:100%;\"><div style=\"position:relative;width:100%;height:0;padding-bottom:60%;\"><span style=\"color:#565656\">Make this Notebook Trusted to load map: File -> Trust Notebook</span><iframe src=\"about:blank\" style=\"position:absolute;width:100%;height:100%;left:0;top:0;border:none !important;\" data-html=%3C%21DOCTYPE%20html%3E%0A%3Chead%3E%20%20%20%20%0A%20%20%20%20%3Cmeta%20http-equiv%3D%22content-type%22%20content%3D%22text/html%3B%20charset%3DUTF-8%22%20/%3E%0A%20%20%20%20%0A%20%20%20%20%20%20%20%20%3Cscript%3E%0A%20%20%20%20%20%20%20%20%20%20%20%20L_NO_TOUCH%20%3D%20false%3B%0A%20%20%20%20%20%20%20%20%20%20%20%20L_DISABLE_3D%20%3D%20false%3B%0A%20%20%20%20%20%20%20%20%3C/script%3E%0A%20%20%20%20%0A%20%20%20%20%3Cstyle%3Ehtml%2C%20body%20%7Bwidth%3A%20100%25%3Bheight%3A%20100%25%3Bmargin%3A%200%3Bpadding%3A%200%3B%7D%3C/style%3E%0A%20%20%20%20%3Cstyle%3E%23map%20%7Bposition%3Aabsolute%3Btop%3A0%3Bbottom%3A0%3Bright%3A0%3Bleft%3A0%3B%7D%3C/style%3E%0A%20%20%20%20%3Cscript%20src%3D%22https%3A//cdn.jsdelivr.net/npm/leaflet%401.6.0/dist/leaflet.js%22%3E%3C/script%3E%0A%20%20%20%20%3Cscript%20src%3D%22https%3A//code.jquery.com/jquery-1.12.4.min.js%22%3E%3C/script%3E%0A%20%20%20%20%3Cscript%20src%3D%22https%3A//maxcdn.bootstrapcdn.com/bootstrap/3.2.0/js/bootstrap.min.js%22%3E%3C/script%3E%0A%20%20%20%20%3Cscript%20src%3D%22https%3A//cdnjs.cloudflare.com/ajax/libs/Leaflet.awesome-markers/2.0.2/leaflet.awesome-markers.js%22%3E%3C/script%3E%0A%20%20%20%20%3Clink%20rel%3D%22stylesheet%22%20href%3D%22https%3A//cdn.jsdelivr.net/npm/leaflet%401.6.0/dist/leaflet.css%22/%3E%0A%20%20%20%20%3Clink%20rel%3D%22stylesheet%22%20href%3D%22https%3A//maxcdn.bootstrapcdn.com/bootstrap/3.2.0/css/bootstrap.min.css%22/%3E%0A%20%20%20%20%3Clink%20rel%3D%22stylesheet%22%20href%3D%22https%3A//maxcdn.bootstrapcdn.com/bootstrap/3.2.0/css/bootstrap-theme.min.css%22/%3E%0A%20%20%20%20%3Clink%20rel%3D%22stylesheet%22%20href%3D%22https%3A//maxcdn.bootstrapcdn.com/font-awesome/4.6.3/css/font-awesome.min.css%22/%3E%0A%20%20%20%20%3Clink%20rel%3D%22stylesheet%22%20href%3D%22https%3A//cdnjs.cloudflare.com/ajax/libs/Leaflet.awesome-markers/2.0.2/leaflet.awesome-markers.css%22/%3E%0A%20%20%20%20%3Clink%20rel%3D%22stylesheet%22%20href%3D%22https%3A//cdn.jsdelivr.net/gh/python-visualization/folium/folium/templates/leaflet.awesome.rotate.min.css%22/%3E%0A%20%20%20%20%0A%20%20%20%20%20%20%20%20%20%20%20%20%3Cmeta%20name%3D%22viewport%22%20content%3D%22width%3Ddevice-width%2C%0A%20%20%20%20%20%20%20%20%20%20%20%20%20%20%20%20initial-scale%3D1.0%2C%20maximum-scale%3D1.0%2C%20user-scalable%3Dno%22%20/%3E%0A%20%20%20%20%20%20%20%20%20%20%20%20%3Cstyle%3E%0A%20%20%20%20%20%20%20%20%20%20%20%20%20%20%20%20%23map_ee2be8b035cd4793a64471493abd0ec7%20%7B%0A%20%20%20%20%20%20%20%20%20%20%20%20%20%20%20%20%20%20%20%20position%3A%20relative%3B%0A%20%20%20%20%20%20%20%20%20%20%20%20%20%20%20%20%20%20%20%20width%3A%20100.0%25%3B%0A%20%20%20%20%20%20%20%20%20%20%20%20%20%20%20%20%20%20%20%20height%3A%20100.0%25%3B%0A%20%20%20%20%20%20%20%20%20%20%20%20%20%20%20%20%20%20%20%20left%3A%200.0%25%3B%0A%20%20%20%20%20%20%20%20%20%20%20%20%20%20%20%20%20%20%20%20top%3A%200.0%25%3B%0A%20%20%20%20%20%20%20%20%20%20%20%20%20%20%20%20%7D%0A%20%20%20%20%20%20%20%20%20%20%20%20%3C/style%3E%0A%20%20%20%20%20%20%20%20%0A%3C/head%3E%0A%3Cbody%3E%20%20%20%20%0A%20%20%20%20%0A%20%20%20%20%20%20%20%20%20%20%20%20%3Cdiv%20class%3D%22folium-map%22%20id%3D%22map_ee2be8b035cd4793a64471493abd0ec7%22%20%3E%3C/div%3E%0A%20%20%20%20%20%20%20%20%0A%3C/body%3E%0A%3Cscript%3E%20%20%20%20%0A%20%20%20%20%0A%20%20%20%20%20%20%20%20%20%20%20%20var%20map_ee2be8b035cd4793a64471493abd0ec7%20%3D%20L.map%28%0A%20%20%20%20%20%20%20%20%20%20%20%20%20%20%20%20%22map_ee2be8b035cd4793a64471493abd0ec7%22%2C%0A%20%20%20%20%20%20%20%20%20%20%20%20%20%20%20%20%7B%0A%20%20%20%20%20%20%20%20%20%20%20%20%20%20%20%20%20%20%20%20center%3A%20%5B38.9072%2C%20-77.0369%5D%2C%0A%20%20%20%20%20%20%20%20%20%20%20%20%20%20%20%20%20%20%20%20crs%3A%20L.CRS.EPSG3857%2C%0A%20%20%20%20%20%20%20%20%20%20%20%20%20%20%20%20%20%20%20%20zoom%3A%2011%2C%0A%20%20%20%20%20%20%20%20%20%20%20%20%20%20%20%20%20%20%20%20zoomControl%3A%20true%2C%0A%20%20%20%20%20%20%20%20%20%20%20%20%20%20%20%20%20%20%20%20preferCanvas%3A%20false%2C%0A%20%20%20%20%20%20%20%20%20%20%20%20%20%20%20%20%7D%0A%20%20%20%20%20%20%20%20%20%20%20%20%29%3B%0A%0A%20%20%20%20%20%20%20%20%20%20%20%20%0A%0A%20%20%20%20%20%20%20%20%0A%20%20%20%20%0A%20%20%20%20%20%20%20%20%20%20%20%20var%20tile_layer_bf917543d7bb4b929ba4a65e67eb3fd3%20%3D%20L.tileLayer%28%0A%20%20%20%20%20%20%20%20%20%20%20%20%20%20%20%20%22https%3A//%7Bs%7D.tile.openstreetmap.org/%7Bz%7D/%7Bx%7D/%7By%7D.png%22%2C%0A%20%20%20%20%20%20%20%20%20%20%20%20%20%20%20%20%7B%22attribution%22%3A%20%22Data%20by%20%5Cu0026copy%3B%20%5Cu003ca%20href%3D%5C%22http%3A//openstreetmap.org%5C%22%5Cu003eOpenStreetMap%5Cu003c/a%5Cu003e%2C%20under%20%5Cu003ca%20href%3D%5C%22http%3A//www.openstreetmap.org/copyright%5C%22%5Cu003eODbL%5Cu003c/a%5Cu003e.%22%2C%20%22detectRetina%22%3A%20false%2C%20%22maxNativeZoom%22%3A%2018%2C%20%22maxZoom%22%3A%2018%2C%20%22minZoom%22%3A%200%2C%20%22noWrap%22%3A%20false%2C%20%22opacity%22%3A%201%2C%20%22subdomains%22%3A%20%22abc%22%2C%20%22tms%22%3A%20false%7D%0A%20%20%20%20%20%20%20%20%20%20%20%20%29.addTo%28map_ee2be8b035cd4793a64471493abd0ec7%29%3B%0A%20%20%20%20%20%20%20%20%0A%20%20%20%20%0A%20%20%20%20%20%20%20%20%20%20%20%20var%20circle_990a860832f7470b84ba610b789264dc%20%3D%20L.circle%28%0A%20%20%20%20%20%20%20%20%20%20%20%20%20%20%20%20%5B38.893161949201705%2C%20-76.94837432729976%5D%2C%0A%20%20%20%20%20%20%20%20%20%20%20%20%20%20%20%20%7B%22bubblingMouseEvents%22%3A%20true%2C%20%22color%22%3A%20%22red%22%2C%20%22dashArray%22%3A%20null%2C%20%22dashOffset%22%3A%20null%2C%20%22fill%22%3A%20true%2C%20%22fillColor%22%3A%20%22red%22%2C%20%22fillOpacity%22%3A%200.2%2C%20%22fillRule%22%3A%20%22evenodd%22%2C%20%22lineCap%22%3A%20%22round%22%2C%20%22lineJoin%22%3A%20%22round%22%2C%20%22opacity%22%3A%201.0%2C%20%22radius%22%3A%20379.76176435900464%2C%20%22stroke%22%3A%20true%2C%20%22weight%22%3A%203%7D%0A%20%20%20%20%20%20%20%20%20%20%20%20%29.addTo%28map_ee2be8b035cd4793a64471493abd0ec7%29%3B%0A%20%20%20%20%20%20%20%20%0A%20%20%20%20%0A%20%20%20%20%20%20%20%20%20%20%20%20var%20circle_a20e2be3ed22484f9404ccce7cfc5efe%20%3D%20L.circle%28%0A%20%20%20%20%20%20%20%20%20%20%20%20%20%20%20%20%5B38.90102477156364%2C%20-77.0254235781314%5D%2C%0A%20%20%20%20%20%20%20%20%20%20%20%20%20%20%20%20%7B%22bubblingMouseEvents%22%3A%20true%2C%20%22color%22%3A%20%22red%22%2C%20%22dashArray%22%3A%20null%2C%20%22dashOffset%22%3A%20null%2C%20%22fill%22%3A%20true%2C%20%22fillColor%22%3A%20%22red%22%2C%20%22fillOpacity%22%3A%200.2%2C%20%22fillRule%22%3A%20%22evenodd%22%2C%20%22lineCap%22%3A%20%22round%22%2C%20%22lineJoin%22%3A%20%22round%22%2C%20%22opacity%22%3A%201.0%2C%20%22radius%22%3A%20866.8475056020757%2C%20%22stroke%22%3A%20true%2C%20%22weight%22%3A%203%7D%0A%20%20%20%20%20%20%20%20%20%20%20%20%29.addTo%28map_ee2be8b035cd4793a64471493abd0ec7%29%3B%0A%20%20%20%20%20%20%20%20%0A%20%20%20%20%0A%20%20%20%20%20%20%20%20%20%20%20%20var%20circle_ac65c57b89ff4b59a649ae5e6222c937%20%3D%20L.circle%28%0A%20%20%20%20%20%20%20%20%20%20%20%20%20%20%20%20%5B38.95321039320778%2C%20-77.0063786269401%5D%2C%0A%20%20%20%20%20%20%20%20%20%20%20%20%20%20%20%20%7B%22bubblingMouseEvents%22%3A%20true%2C%20%22color%22%3A%20%22red%22%2C%20%22dashArray%22%3A%20null%2C%20%22dashOffset%22%3A%20null%2C%20%22fill%22%3A%20true%2C%20%22fillColor%22%3A%20%22red%22%2C%20%22fillOpacity%22%3A%200.2%2C%20%22fillRule%22%3A%20%22evenodd%22%2C%20%22lineCap%22%3A%20%22round%22%2C%20%22lineJoin%22%3A%20%22round%22%2C%20%22opacity%22%3A%201.0%2C%20%22radius%22%3A%20272.73263356527895%2C%20%22stroke%22%3A%20true%2C%20%22weight%22%3A%203%7D%0A%20%20%20%20%20%20%20%20%20%20%20%20%29.addTo%28map_ee2be8b035cd4793a64471493abd0ec7%29%3B%0A%20%20%20%20%20%20%20%20%0A%20%20%20%20%0A%20%20%20%20%20%20%20%20%20%20%20%20var%20circle_b1e8fa07a4e8425ea88a583ebde1d6c6%20%3D%20L.circle%28%0A%20%20%20%20%20%20%20%20%20%20%20%20%20%20%20%20%5B38.859328467998075%2C%20-76.98203082603754%5D%2C%0A%20%20%20%20%20%20%20%20%20%20%20%20%20%20%20%20%7B%22bubblingMouseEvents%22%3A%20true%2C%20%22color%22%3A%20%22red%22%2C%20%22dashArray%22%3A%20null%2C%20%22dashOffset%22%3A%20null%2C%20%22fill%22%3A%20true%2C%20%22fillColor%22%3A%20%22red%22%2C%20%22fillOpacity%22%3A%200.2%2C%20%22fillRule%22%3A%20%22evenodd%22%2C%20%22lineCap%22%3A%20%22round%22%2C%20%22lineJoin%22%3A%20%22round%22%2C%20%22opacity%22%3A%201.0%2C%20%22radius%22%3A%20398.92676023115934%2C%20%22stroke%22%3A%20true%2C%20%22weight%22%3A%203%7D%0A%20%20%20%20%20%20%20%20%20%20%20%20%29.addTo%28map_ee2be8b035cd4793a64471493abd0ec7%29%3B%0A%20%20%20%20%20%20%20%20%0A%20%20%20%20%0A%20%20%20%20%20%20%20%20%20%20%20%20var%20circle_ee1afc91ea0948c5ab5780d25d577d6e%20%3D%20L.circle%28%0A%20%20%20%20%20%20%20%20%20%20%20%20%20%20%20%20%5B38.908006860225086%2C%20-77.06510315969415%5D%2C%0A%20%20%20%20%20%20%20%20%20%20%20%20%20%20%20%20%7B%22bubblingMouseEvents%22%3A%20true%2C%20%22color%22%3A%20%22red%22%2C%20%22dashArray%22%3A%20null%2C%20%22dashOffset%22%3A%20null%2C%20%22fill%22%3A%20true%2C%20%22fillColor%22%3A%20%22red%22%2C%20%22fillOpacity%22%3A%200.2%2C%20%22fillRule%22%3A%20%22evenodd%22%2C%20%22lineCap%22%3A%20%22round%22%2C%20%22lineJoin%22%3A%20%22round%22%2C%20%22opacity%22%3A%201.0%2C%20%22radius%22%3A%20412.4896803868381%2C%20%22stroke%22%3A%20true%2C%20%22weight%22%3A%203%7D%0A%20%20%20%20%20%20%20%20%20%20%20%20%29.addTo%28map_ee2be8b035cd4793a64471493abd0ec7%29%3B%0A%20%20%20%20%20%20%20%20%0A%20%20%20%20%0A%20%20%20%20%20%20%20%20%20%20%20%20var%20circle_be26c08168ef4cf0b68061a004254037%20%3D%20L.circle%28%0A%20%20%20%20%20%20%20%20%20%20%20%20%20%20%20%20%5B38.83372559322969%2C%20-76.99950098748718%5D%2C%0A%20%20%20%20%20%20%20%20%20%20%20%20%20%20%20%20%7B%22bubblingMouseEvents%22%3A%20true%2C%20%22color%22%3A%20%22red%22%2C%20%22dashArray%22%3A%20null%2C%20%22dashOffset%22%3A%20null%2C%20%22fill%22%3A%20true%2C%20%22fillColor%22%3A%20%22red%22%2C%20%22fillOpacity%22%3A%200.2%2C%20%22fillRule%22%3A%20%22evenodd%22%2C%20%22lineCap%22%3A%20%22round%22%2C%20%22lineJoin%22%3A%20%22round%22%2C%20%22opacity%22%3A%201.0%2C%20%22radius%22%3A%20328.7533907300389%2C%20%22stroke%22%3A%20true%2C%20%22weight%22%3A%203%7D%0A%20%20%20%20%20%20%20%20%20%20%20%20%29.addTo%28map_ee2be8b035cd4793a64471493abd0ec7%29%3B%0A%20%20%20%20%20%20%20%20%0A%20%20%20%20%0A%20%20%20%20%20%20%20%20%20%20%20%20var%20circle_f66fec4fbb4c455cb4a3c494831e5e0b%20%3D%20L.circle%28%0A%20%20%20%20%20%20%20%20%20%20%20%20%20%20%20%20%5B38.95291443550974%2C%20-77.08125076869136%5D%2C%0A%20%20%20%20%20%20%20%20%20%20%20%20%20%20%20%20%7B%22bubblingMouseEvents%22%3A%20true%2C%20%22color%22%3A%20%22red%22%2C%20%22dashArray%22%3A%20null%2C%20%22dashOffset%22%3A%20null%2C%20%22fill%22%3A%20true%2C%20%22fillColor%22%3A%20%22red%22%2C%20%22fillOpacity%22%3A%200.2%2C%20%22fillRule%22%3A%20%22evenodd%22%2C%20%22lineCap%22%3A%20%22round%22%2C%20%22lineJoin%22%3A%20%22round%22%2C%20%22opacity%22%3A%201.0%2C%20%22radius%22%3A%20320.7925462908362%2C%20%22stroke%22%3A%20true%2C%20%22weight%22%3A%203%7D%0A%20%20%20%20%20%20%20%20%20%20%20%20%29.addTo%28map_ee2be8b035cd4793a64471493abd0ec7%29%3B%0A%20%20%20%20%20%20%20%20%0A%20%20%20%20%0A%20%20%20%20%20%20%20%20%20%20%20%20var%20circle_56e2c123b94642489c9b8c0185f69b5e%20%3D%20L.circle%28%0A%20%20%20%20%20%20%20%20%20%20%20%20%20%20%20%20%5B38.96948845962342%2C%20-77.02620504325891%5D%2C%0A%20%20%20%20%20%20%20%20%20%20%20%20%20%20%20%20%7B%22bubblingMouseEvents%22%3A%20true%2C%20%22color%22%3A%20%22red%22%2C%20%22dashArray%22%3A%20null%2C%20%22dashOffset%22%3A%20null%2C%20%22fill%22%3A%20true%2C%20%22fillColor%22%3A%20%22red%22%2C%20%22fillOpacity%22%3A%200.2%2C%20%22fillRule%22%3A%20%22evenodd%22%2C%20%22lineCap%22%3A%20%22round%22%2C%20%22lineJoin%22%3A%20%22round%22%2C%20%22opacity%22%3A%201.0%2C%20%22radius%22%3A%20420.74537091638166%2C%20%22stroke%22%3A%20true%2C%20%22weight%22%3A%203%7D%0A%20%20%20%20%20%20%20%20%20%20%20%20%29.addTo%28map_ee2be8b035cd4793a64471493abd0ec7%29%3B%0A%20%20%20%20%20%20%20%20%0A%20%20%20%20%0A%20%20%20%20%20%20%20%20%20%20%20%20var%20circle_309236c11a82425386462c55eefa67ef%20%3D%20L.circle%28%0A%20%20%20%20%20%20%20%20%20%20%20%20%20%20%20%20%5B38.932642924422055%2C%20-77.0308019234403%5D%2C%0A%20%20%20%20%20%20%20%20%20%20%20%20%20%20%20%20%7B%22bubblingMouseEvents%22%3A%20true%2C%20%22color%22%3A%20%22red%22%2C%20%22dashArray%22%3A%20null%2C%20%22dashOffset%22%3A%20null%2C%20%22fill%22%3A%20true%2C%20%22fillColor%22%3A%20%22red%22%2C%20%22fillOpacity%22%3A%200.2%2C%20%22fillRule%22%3A%20%22evenodd%22%2C%20%22lineCap%22%3A%20%22round%22%2C%20%22lineJoin%22%3A%20%22round%22%2C%20%22opacity%22%3A%201.0%2C%20%22radius%22%3A%20936.4311829225144%2C%20%22stroke%22%3A%20true%2C%20%22weight%22%3A%203%7D%0A%20%20%20%20%20%20%20%20%20%20%20%20%29.addTo%28map_ee2be8b035cd4793a64471493abd0ec7%29%3B%0A%20%20%20%20%20%20%20%20%0A%20%20%20%20%0A%20%20%20%20%20%20%20%20%20%20%20%20var%20circle_13450ebed58e4b8195434bce9db07036%20%3D%20L.circle%28%0A%20%20%20%20%20%20%20%20%20%20%20%20%20%20%20%20%5B38.901795586759725%2C%20-76.98306652009636%5D%2C%0A%20%20%20%20%20%20%20%20%20%20%20%20%20%20%20%20%7B%22bubblingMouseEvents%22%3A%20true%2C%20%22color%22%3A%20%22red%22%2C%20%22dashArray%22%3A%20null%2C%20%22dashOffset%22%3A%20null%2C%20%22fill%22%3A%20true%2C%20%22fillColor%22%3A%20%22red%22%2C%20%22fillOpacity%22%3A%200.2%2C%20%22fillRule%22%3A%20%22evenodd%22%2C%20%22lineCap%22%3A%20%22round%22%2C%20%22lineJoin%22%3A%20%22round%22%2C%20%22opacity%22%3A%201.0%2C%20%22radius%22%3A%20608.5623304634981%2C%20%22stroke%22%3A%20true%2C%20%22weight%22%3A%203%7D%0A%20%20%20%20%20%20%20%20%20%20%20%20%29.addTo%28map_ee2be8b035cd4793a64471493abd0ec7%29%3B%0A%20%20%20%20%20%20%20%20%0A%20%20%20%20%0A%20%20%20%20%20%20%20%20%20%20%20%20var%20circle_0b2715140b9648428aa2ea59237cd15f%20%3D%20L.circle%28%0A%20%20%20%20%20%20%20%20%20%20%20%20%20%20%20%20%5B38.91633086833816%2C%20-77.02561437457165%5D%2C%0A%20%20%20%20%20%20%20%20%20%20%20%20%20%20%20%20%7B%22bubblingMouseEvents%22%3A%20true%2C%20%22color%22%3A%20%22red%22%2C%20%22dashArray%22%3A%20null%2C%20%22dashOffset%22%3A%20null%2C%20%22fill%22%3A%20true%2C%20%22fillColor%22%3A%20%22red%22%2C%20%22fillOpacity%22%3A%200.2%2C%20%22fillRule%22%3A%20%22evenodd%22%2C%20%22lineCap%22%3A%20%22round%22%2C%20%22lineJoin%22%3A%20%22round%22%2C%20%22opacity%22%3A%201.0%2C%20%22radius%22%3A%20925.5218775799033%2C%20%22stroke%22%3A%20true%2C%20%22weight%22%3A%203%7D%0A%20%20%20%20%20%20%20%20%20%20%20%20%29.addTo%28map_ee2be8b035cd4793a64471493abd0ec7%29%3B%0A%20%20%20%20%20%20%20%20%0A%20%20%20%20%0A%20%20%20%20%20%20%20%20%20%20%20%20var%20circle_15a5a90f56664de6a3a5dbe34396451b%20%3D%20L.circle%28%0A%20%20%20%20%20%20%20%20%20%20%20%20%20%20%20%20%5B38.878964719358315%2C%20-77.01503467878048%5D%2C%0A%20%20%20%20%20%20%20%20%20%20%20%20%20%20%20%20%7B%22bubblingMouseEvents%22%3A%20true%2C%20%22color%22%3A%20%22red%22%2C%20%22dashArray%22%3A%20null%2C%20%22dashOffset%22%3A%20null%2C%20%22fill%22%3A%20true%2C%20%22fillColor%22%3A%20%22red%22%2C%20%22fillOpacity%22%3A%200.2%2C%20%22fillRule%22%3A%20%22evenodd%22%2C%20%22lineCap%22%3A%20%22round%22%2C%20%22lineJoin%22%3A%20%22round%22%2C%20%22opacity%22%3A%201.0%2C%20%22radius%22%3A%20265.9511734874396%2C%20%22stroke%22%3A%20true%2C%20%22weight%22%3A%203%7D%0A%20%20%20%20%20%20%20%20%20%20%20%20%29.addTo%28map_ee2be8b035cd4793a64471493abd0ec7%29%3B%0A%20%20%20%20%20%20%20%20%0A%20%20%20%20%0A%20%20%20%20%20%20%20%20%20%20%20%20var%20circle_f4f23296ac804450a661a112eb100f6a%20%3D%20L.circle%28%0A%20%20%20%20%20%20%20%20%20%20%20%20%20%20%20%20%5B38.92476682979734%2C%20-76.96668195362759%5D%2C%0A%20%20%20%20%20%20%20%20%20%20%20%20%20%20%20%20%7B%22bubblingMouseEvents%22%3A%20true%2C%20%22color%22%3A%20%22red%22%2C%20%22dashArray%22%3A%20null%2C%20%22dashOffset%22%3A%20null%2C%20%22fill%22%3A%20true%2C%20%22fillColor%22%3A%20%22red%22%2C%20%22fillOpacity%22%3A%200.2%2C%20%22fillRule%22%3A%20%22evenodd%22%2C%20%22lineCap%22%3A%20%22round%22%2C%20%22lineJoin%22%3A%20%22round%22%2C%20%22opacity%22%3A%201.0%2C%20%22radius%22%3A%20288.6543224436844%2C%20%22stroke%22%3A%20true%2C%20%22weight%22%3A%203%7D%0A%20%20%20%20%20%20%20%20%20%20%20%20%29.addTo%28map_ee2be8b035cd4793a64471493abd0ec7%29%3B%0A%20%20%20%20%20%20%20%20%0A%20%20%20%20%0A%20%20%20%20%20%20%20%20%20%20%20%20var%20circle_095c934b984a49e8be73e270e41d4fed%20%3D%20L.circle%28%0A%20%20%20%20%20%20%20%20%20%20%20%20%20%20%20%20%5B38.864383931366845%2C%20-76.96185280932097%5D%2C%0A%20%20%20%20%20%20%20%20%20%20%20%20%20%20%20%20%7B%22bubblingMouseEvents%22%3A%20true%2C%20%22color%22%3A%20%22red%22%2C%20%22dashArray%22%3A%20null%2C%20%22dashOffset%22%3A%20null%2C%20%22fill%22%3A%20true%2C%20%22fillColor%22%3A%20%22red%22%2C%20%22fillOpacity%22%3A%200.2%2C%20%22fillRule%22%3A%20%22evenodd%22%2C%20%22lineCap%22%3A%20%22round%22%2C%20%22lineJoin%22%3A%20%22round%22%2C%20%22opacity%22%3A%201.0%2C%20%22radius%22%3A%20329.04823682037977%2C%20%22stroke%22%3A%20true%2C%20%22weight%22%3A%203%7D%0A%20%20%20%20%20%20%20%20%20%20%20%20%29.addTo%28map_ee2be8b035cd4793a64471493abd0ec7%29%3B%0A%20%20%20%20%20%20%20%20%0A%20%20%20%20%0A%20%20%20%20%20%20%20%20%20%20%20%20var%20circle_675530be072349b08b0d2a3a44a66a97%20%3D%20L.circle%28%0A%20%20%20%20%20%20%20%20%20%20%20%20%20%20%20%20%5B38.93537205767903%2C%20-77.0632462013216%5D%2C%0A%20%20%20%20%20%20%20%20%20%20%20%20%20%20%20%20%7B%22bubblingMouseEvents%22%3A%20true%2C%20%22color%22%3A%20%22red%22%2C%20%22dashArray%22%3A%20null%2C%20%22dashOffset%22%3A%20null%2C%20%22fill%22%3A%20true%2C%20%22fillColor%22%3A%20%22red%22%2C%20%22fillOpacity%22%3A%200.2%2C%20%22fillRule%22%3A%20%22evenodd%22%2C%20%22lineCap%22%3A%20%22round%22%2C%20%22lineJoin%22%3A%20%22round%22%2C%20%22opacity%22%3A%201.0%2C%20%22radius%22%3A%20232.0438730982427%2C%20%22stroke%22%3A%20true%2C%20%22weight%22%3A%203%7D%0A%20%20%20%20%20%20%20%20%20%20%20%20%29.addTo%28map_ee2be8b035cd4793a64471493abd0ec7%29%3B%0A%20%20%20%20%20%20%20%20%0A%20%20%20%20%0A%20%20%20%20%20%20%20%20%20%20%20%20var%20circle_63a60590cb104fffac37a575d8242576%20%3D%20L.circle%28%0A%20%20%20%20%20%20%20%20%20%20%20%20%20%20%20%20%5B38.92655612090104%2C%20-76.99140294515172%5D%2C%0A%20%20%20%20%20%20%20%20%20%20%20%20%20%20%20%20%7B%22bubblingMouseEvents%22%3A%20true%2C%20%22color%22%3A%20%22red%22%2C%20%22dashArray%22%3A%20null%2C%20%22dashOffset%22%3A%20null%2C%20%22fill%22%3A%20true%2C%20%22fillColor%22%3A%20%22red%22%2C%20%22fillOpacity%22%3A%200.2%2C%20%22fillRule%22%3A%20%22evenodd%22%2C%20%22lineCap%22%3A%20%22round%22%2C%20%22lineJoin%22%3A%20%22round%22%2C%20%22opacity%22%3A%201.0%2C%20%22radius%22%3A%20481.48366552659513%2C%20%22stroke%22%3A%20true%2C%20%22weight%22%3A%203%7D%0A%20%20%20%20%20%20%20%20%20%20%20%20%29.addTo%28map_ee2be8b035cd4793a64471493abd0ec7%29%3B%0A%20%20%20%20%20%20%20%20%0A%20%20%20%20%0A%20%20%20%20%20%20%20%20%20%20%20%20var%20circle_06d5d8211d3d4822a9288216245b89d7%20%3D%20L.circle%28%0A%20%20%20%20%20%20%20%20%20%20%20%20%20%20%20%20%5B38.90835488383184%2C%20-77.0423655402565%5D%2C%0A%20%20%20%20%20%20%20%20%20%20%20%20%20%20%20%20%7B%22bubblingMouseEvents%22%3A%20true%2C%20%22color%22%3A%20%22red%22%2C%20%22dashArray%22%3A%20null%2C%20%22dashOffset%22%3A%20null%2C%20%22fill%22%3A%20true%2C%20%22fillColor%22%3A%20%22red%22%2C%20%22fillOpacity%22%3A%200.2%2C%20%22fillRule%22%3A%20%22evenodd%22%2C%20%22lineCap%22%3A%20%22round%22%2C%20%22lineJoin%22%3A%20%22round%22%2C%20%22opacity%22%3A%201.0%2C%20%22radius%22%3A%20918.7404175020639%2C%20%22stroke%22%3A%20true%2C%20%22weight%22%3A%203%7D%0A%20%20%20%20%20%20%20%20%20%20%20%20%29.addTo%28map_ee2be8b035cd4793a64471493abd0ec7%29%3B%0A%20%20%20%20%20%20%20%20%0A%20%20%20%20%0A%20%20%20%20%20%20%20%20%20%20%20%20var%20circle_f60934b78b1a4768b8dff8bd5db92ac6%20%3D%20L.circle%28%0A%20%20%20%20%20%20%20%20%20%20%20%20%20%20%20%20%5B38.88448675631426%2C%20-76.99213317768339%5D%2C%0A%20%20%20%20%20%20%20%20%20%20%20%20%20%20%20%20%7B%22bubblingMouseEvents%22%3A%20true%2C%20%22color%22%3A%20%22red%22%2C%20%22dashArray%22%3A%20null%2C%20%22dashOffset%22%3A%20null%2C%20%22fill%22%3A%20true%2C%20%22fillColor%22%3A%20%22red%22%2C%20%22fillOpacity%22%3A%200.2%2C%20%22fillRule%22%3A%20%22evenodd%22%2C%20%22lineCap%22%3A%20%22round%22%2C%20%22lineJoin%22%3A%20%22round%22%2C%20%22opacity%22%3A%201.0%2C%20%22radius%22%3A%20500.353815308409%2C%20%22stroke%22%3A%20true%2C%20%22weight%22%3A%203%7D%0A%20%20%20%20%20%20%20%20%20%20%20%20%29.addTo%28map_ee2be8b035cd4793a64471493abd0ec7%29%3B%0A%20%20%20%20%20%20%20%20%0A%20%20%20%20%0A%20%20%20%20%20%20%20%20%20%20%20%20var%20circle_1e985a37d3004d0a89f5320c3a985262%20%3D%20L.circle%28%0A%20%20%20%20%20%20%20%20%20%20%20%20%20%20%20%20%5B38.89403948395326%2C%20-76.92820883810761%5D%2C%0A%20%20%20%20%20%20%20%20%20%20%20%20%20%20%20%20%7B%22bubblingMouseEvents%22%3A%20true%2C%20%22color%22%3A%20%22red%22%2C%20%22dashArray%22%3A%20null%2C%20%22dashOffset%22%3A%20null%2C%20%22fill%22%3A%20true%2C%20%22fillColor%22%3A%20%22red%22%2C%20%22fillOpacity%22%3A%200.2%2C%20%22fillRule%22%3A%20%22evenodd%22%2C%20%22lineCap%22%3A%20%22round%22%2C%20%22lineJoin%22%3A%20%22round%22%2C%20%22opacity%22%3A%201.0%2C%20%22radius%22%3A%20430.1804458072886%2C%20%22stroke%22%3A%20true%2C%20%22weight%22%3A%203%7D%0A%20%20%20%20%20%20%20%20%20%20%20%20%29.addTo%28map_ee2be8b035cd4793a64471493abd0ec7%29%3B%0A%20%20%20%20%20%20%20%20%0A%20%20%20%20%0A%20%20%20%20%20%20%20%20%20%20%20%20var%20circle_bb95bf324f2049538878a001b7cb3ecc%20%3D%20L.circle%28%0A%20%20%20%20%20%20%20%20%20%20%20%20%20%20%20%20%5B38.90622105019312%2C%20-77.00447584595405%5D%2C%0A%20%20%20%20%20%20%20%20%20%20%20%20%20%20%20%20%7B%22bubblingMouseEvents%22%3A%20true%2C%20%22color%22%3A%20%22red%22%2C%20%22dashArray%22%3A%20null%2C%20%22dashOffset%22%3A%20null%2C%20%22fill%22%3A%20true%2C%20%22fillColor%22%3A%20%22red%22%2C%20%22fillOpacity%22%3A%200.2%2C%20%22fillRule%22%3A%20%22evenodd%22%2C%20%22lineCap%22%3A%20%22round%22%2C%20%22lineJoin%22%3A%20%22round%22%2C%20%22opacity%22%3A%201.0%2C%20%22radius%22%3A%20681.9790069583677%2C%20%22stroke%22%3A%20true%2C%20%22weight%22%3A%203%7D%0A%20%20%20%20%20%20%20%20%20%20%20%20%29.addTo%28map_ee2be8b035cd4793a64471493abd0ec7%29%3B%0A%20%20%20%20%20%20%20%20%0A%3C/script%3E onload=\"this.contentDocument.open();this.contentDocument.write(    decodeURIComponent(this.getAttribute('data-html')));this.contentDocument.close();\" allowfullscreen webkitallowfullscreen mozallowfullscreen></iframe></div></div>"
      ],
      "text/plain": [
       "<folium.folium.Map at 0x7f916f4da8e0>"
      ]
     },
     "execution_count": 76,
     "metadata": {},
     "output_type": "execute_result"
    }
   ],
   "source": [
    "map_osm = folium.Map(location=[38.9072, -77.0369], zoom_start=11)\n",
    "for i in range(number_of_clusters):\n",
    "    folium.Circle(\n",
    "        radius =crime_density[i]*10000,\n",
    "        location=[kmeans.cluster_centers_[i][0],kmeans.cluster_centers_[i][1]],\n",
    "        color=\"red\",\n",
    "    fill=True,\n",
    "    ).add_to(map_osm)# add circle to the map   \n",
    "map_osm"
   ]
  },
  {
   "cell_type": "code",
   "execution_count": null,
   "id": "e849d828",
   "metadata": {},
   "outputs": [],
   "source": []
  },
  {
   "cell_type": "code",
   "execution_count": null,
   "id": "047f53b5",
   "metadata": {},
   "outputs": [],
   "source": []
  }
 ],
 "metadata": {
  "kernelspec": {
   "display_name": "Python 3 (ipykernel)",
   "language": "python",
   "name": "python3"
  },
  "language_info": {
   "codemirror_mode": {
    "name": "ipython",
    "version": 3
   },
   "file_extension": ".py",
   "mimetype": "text/x-python",
   "name": "python",
   "nbconvert_exporter": "python",
   "pygments_lexer": "ipython3",
   "version": "3.9.7"
  }
 },
 "nbformat": 4,
 "nbformat_minor": 5
}
